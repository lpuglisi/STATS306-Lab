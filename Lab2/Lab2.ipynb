{
 "cells": [
  {
   "cell_type": "markdown",
   "metadata": {},
   "source": [
    "# Lab 2\n",
    "This lab reviews ggplot material covered over the past week, starts to explore if the Afghanistan election had any foul play, and then covers exercises reviewing mainly dplyr."
   ]
  },
  {
   "cell_type": "markdown",
   "metadata": {},
   "source": [
    "## Table of Contents\n",
    "* [Review](#first)\n",
    "* [Explore](#second)\n",
    "* [Exercises](#third)"
   ]
  },
  {
   "cell_type": "markdown",
   "metadata": {},
   "source": [
    "## Review <a class=\"anchor\" id=\"first\"></a>"
   ]
  },
  {
   "cell_type": "markdown",
   "metadata": {},
   "source": [
    "### Step One - Don't forget to bring in R packages we'll need"
   ]
  },
  {
   "cell_type": "code",
   "execution_count": null,
   "metadata": {
    "collapsed": true
   },
   "outputs": [],
   "source": [
    "library(tidyverse)"
   ]
  },
  {
   "cell_type": "markdown",
   "metadata": {},
   "source": [
    "### Downloading my notebooks"
   ]
  },
  {
   "cell_type": "markdown",
   "metadata": {},
   "source": [
    "Go to github > Click on the notebook you want to download > right click on \"Raw\" and choose \"Save Link As..\" > Save file as a jupyter notebook (.ipynb)"
   ]
  },
  {
   "cell_type": "markdown",
   "metadata": {},
   "source": [
    "### What if I am STILL having issues getting Jupyter working?"
   ]
  },
  {
   "cell_type": "markdown",
   "metadata": {},
   "source": [
    "Professor Terhorst setup an online environment with Jupyter notebook setup and ready to go. All you need to do is login with your Michigan credentials and you will see all of his lectures and problem sets ready to go. You can edit the problem set notebook directly, save your results, and then download it for submission once you are done.\n",
    "\n",
    "https://jupyter.stats306.org/hub/login"
   ]
  },
  {
   "cell_type": "markdown",
   "metadata": {},
   "source": [
    "### Major functions covered so far"
   ]
  },
  {
   "cell_type": "markdown",
   "metadata": {},
   "source": [
    "#### Visualization (ggplot)"
   ]
  },
  {
   "cell_type": "markdown",
   "metadata": {},
   "source": [
    "*Here are some of the key functions for plotting (sub bullets are arugments within the function), this is not meant to be an exhaustive list:*\n",
    "\n",
    "* ggplot(): Tells R that we want to plot something\n",
    "* labs(): Defines the labels on a plot (e.g. labs(x=\"x label\", y=\"y label\", title=\"title\", subtitle=\"subtitle\"))\n",
    "* geom_point(): Tells R that we want to use points to plot the data (e.g. scatter plot)\n",
    "    * color: use this argument to set the color\n",
    "    * size: use this argument to set the size of the points\n",
    "    * position: normally you would set this to \"jitter\" if you want all the points to be viewable\n",
    "* facet_grid(): Uses categorical variables in the \"row ~ column\" format to plot previous geoms for each category\n",
    "* face_wrap(): Very similar to facet_grid(), but only displays overlapping categories that have data, and can manipulate the size of the grid output.\n",
    "    * nrow, ncol: Defines the number of rows and column the plot should be\n",
    "* geom_smooth(): Plots a best fit line for the given data with a confidence interval by default\n",
    "    * linetype: Use categorical variable to split into multiple lines\n",
    "    * se: Boolean to define if confidence interval should be displayed\n",
    "    * group: Use categorical variable to split line into different colors\n",
    "* geom_bar(): Plots a bar chart, default aggregation (or statistic) is going to be a count of each category of x\n",
    "    * stat: Default here is \"count\", but if a y variable is to be used, change this to \"identity\"\n",
    "    * fill: Tells R what color to fill the bar with (normally use a variable)\n",
    "    * color: Tells R what color to outline the bars with\n",
    "    * position: Tells R where to position the bars, \"dodge\" will make side by side bars, \"fill\" makes proportions\n",
    "* geom_boxplot(): Plots a boxplot, note that the x variable has to be categorical and the y variable has to be quantitative.\n",
    "* coord_flip(): Flips the x and y axis of whatever plot you create, helpful for making horizontal boxplots\n",
    "* coord_polar(): Converts plot into polor coordinates\n",
    "\n",
    "\n",
    "*In general, all plots that you will need to create will follow this general format in ggplot:*\n",
    "\n",
    "ggplot(data = < DATA>) +\n",
    "\n",
    "< GEOM_FUNCTION>(mapping = aes(< MAPPINGS>),stat = < STAT>,position = < POSITION>) +\n",
    "\n",
    "< COORDINATE_FUNCTION> +\n",
    "\n",
    "< FACET_FUNCTION>"
   ]
  },
  {
   "cell_type": "markdown",
   "metadata": {},
   "source": [
    "#### Manipulation (dplyr)"
   ]
  },
  {
   "cell_type": "markdown",
   "metadata": {
    "collapsed": true
   },
   "source": [
    "*Here are some of the main functions we've covered in dplyr to manipulate data frames (or tibbles):*\n",
    "* filter(): Takes a dataframe and filters it by some condition\n",
    "* arrange(): Sorts the dataframe by certain columns\n",
    "* select(): Picks out variables (or columns) in your dataframe you wish to keep\n",
    "* mutate(): Creates new variables based on user defined functions\n",
    "* summarize(): Creates a summary table based on conditions you define (e.g. average mpg by car class)\n",
    "* %>% : Pipe operator (included in dplyr package), essentially lets you string together multiple commands, where the output of what is to the left of the pipe is put in the first argument position of the right function. For example:\n",
    "```R\n",
    "exp(diff(log(x))) \n",
    "#This is equivalent to this:\n",
    "x %>% log() %>% diff() %>% exp()\n",
    "```\n",
    "* Operators: When you want to define a condition, here are the main operators you can use\n",
    "    * <, >: less than, greater than\n",
    "    * <=, >= : less than or equal to, greater than or equal to \n",
    "    * ==, !=: equal to, not equal to\n",
    "    * !x: not x (e.g. is x is TRUE, !x is FALSE)\n",
    "    * x|y: x or y\n",
    "    * x & y: x and y\n",
    "    * x %in% list: show me values of x that exist in the 'list'"
   ]
  },
  {
   "cell_type": "markdown",
   "metadata": {},
   "source": [
    "### What is a function?"
   ]
  },
  {
   "cell_type": "markdown",
   "metadata": {},
   "source": [
    "Here is a simple function that adds a and b. We say \"a\" is the first argument and \"b\" is the second argument. Anytime you run \"library(packagename)\" you are essentially telling R to loads hundreds or even thousands of functions that are all defined just like the one below."
   ]
  },
  {
   "cell_type": "code",
   "execution_count": null,
   "metadata": {
    "collapsed": true
   },
   "outputs": [],
   "source": [
    "addthese = function(a,b) {\n",
    "    c = a + b\n",
    "    return(c)\n",
    "}"
   ]
  },
  {
   "cell_type": "code",
   "execution_count": null,
   "metadata": {
    "collapsed": true
   },
   "outputs": [],
   "source": [
    "addthese(2,3)"
   ]
  },
  {
   "cell_type": "markdown",
   "metadata": {},
   "source": [
    "You can name variables anything you want in these functions, you can also set a default value by adding a \"=something\" next to any argument."
   ]
  },
  {
   "cell_type": "code",
   "execution_count": null,
   "metadata": {
    "collapsed": true
   },
   "outputs": [],
   "source": [
    "gimmeascat = function(hereyougo) {\n",
    "    nohereyougo = geom_point()\n",
    "    return(hereyougo + nohereyougo)\n",
    "}"
   ]
  },
  {
   "cell_type": "code",
   "execution_count": null,
   "metadata": {
    "collapsed": true
   },
   "outputs": [],
   "source": [
    "data = mpg\n",
    "plot = ggplot(data=data, mapping=aes(x=hwy, y=displ))\n",
    "gimmeascat(hereyougo = plot)"
   ]
  },
  {
   "cell_type": "code",
   "execution_count": null,
   "metadata": {
    "collapsed": true
   },
   "outputs": [],
   "source": [
    "#Would this work?\n",
    "gimmeascat(ggplot(data=data, mapping=aes(x=hwy, y=displ)))"
   ]
  },
  {
   "cell_type": "markdown",
   "metadata": {},
   "source": [
    "### A couple helpful functions (not officially covered in class)"
   ]
  },
  {
   "cell_type": "code",
   "execution_count": null,
   "metadata": {
    "collapsed": true
   },
   "outputs": [],
   "source": [
    "#Takes a dataframe (a table in R) and outputs top 6 rows by default\n",
    "head(mpg)\n",
    "#Or try head(mpg, 20)"
   ]
  },
  {
   "cell_type": "code",
   "execution_count": null,
   "metadata": {
    "collapsed": true
   },
   "outputs": [],
   "source": [
    "#Takes a dataframe and outputs helpful stats about each variable (a column)\n",
    "summary(mpg)"
   ]
  },
  {
   "cell_type": "code",
   "execution_count": null,
   "metadata": {
    "collapsed": true
   },
   "outputs": [],
   "source": [
    "# Gives you the data types and a peak into the data for each variable\n",
    "str(mpg)"
   ]
  },
  {
   "cell_type": "code",
   "execution_count": null,
   "metadata": {
    "collapsed": true
   },
   "outputs": [],
   "source": [
    "#What if I think 'year' in mpg should be a factor?"
   ]
  },
  {
   "cell_type": "markdown",
   "metadata": {},
   "source": [
    "### Troubleshooting Practice!"
   ]
  },
  {
   "cell_type": "markdown",
   "metadata": {},
   "source": [
    "Problem 1: Why is this throwing an error?"
   ]
  },
  {
   "cell_type": "code",
   "execution_count": null,
   "metadata": {
    "collapsed": true
   },
   "outputs": [],
   "source": [
    "c(1,2,3,4)\n",
    "mean(c)"
   ]
  },
  {
   "cell_type": "markdown",
   "metadata": {},
   "source": [
    "Problem 2: Why is this throwing an error?"
   ]
  },
  {
   "cell_type": "code",
   "execution_count": null,
   "metadata": {
    "collapsed": true
   },
   "outputs": [],
   "source": [
    "aa = 26\n",
    "bb = 20\n",
    "cc = aaa + bb\n",
    "mean(cc + 5)"
   ]
  },
  {
   "cell_type": "markdown",
   "metadata": {},
   "source": [
    "Problem 3: Why is this throwing an error?"
   ]
  },
  {
   "cell_type": "code",
   "execution_count": null,
   "metadata": {
    "collapsed": true
   },
   "outputs": [],
   "source": [
    "#Run the function\n",
    "hitme()"
   ]
  },
  {
   "cell_type": "code",
   "execution_count": null,
   "metadata": {
    "collapsed": true
   },
   "outputs": [],
   "source": [
    "#Define the function\n",
    "hitme = function() {\n",
    "    print(\"~ Hit! ~\")\n",
    "}"
   ]
  },
  {
   "cell_type": "markdown",
   "metadata": {},
   "source": [
    "## Explore <a class=\"anchor\" id=\"second\"></a>"
   ]
  },
  {
   "cell_type": "markdown",
   "metadata": {},
   "source": [
    "For this exploration, we will take a look at the 2014 Afghanistan election data and try to see if we can find anything fishy with this dataset. Notice that everytime we explore a dataset we are generally following the data science flow shown in the image below. \n",
    "\n",
    "**Note:** *This content uses some functions and techniques that are outside the scope of the course, it is meant to show you how what you're learning can be used in interesting problems.*\n",
    "![Data Science Lifecycle](DS_Lifecycle.png)"
   ]
  },
  {
   "cell_type": "code",
   "execution_count": null,
   "metadata": {
    "collapsed": true
   },
   "outputs": [],
   "source": [
    "#Load the data in from multiple csv's\n",
    "fnl = read.csv(\"2014_afghanistan_preliminary_runoff_election_results.csv\")\n",
    "prelim = read.csv(\"2014_afghanistan_election_results.csv\")"
   ]
  },
  {
   "cell_type": "code",
   "execution_count": null,
   "metadata": {
    "collapsed": true
   },
   "outputs": [],
   "source": [
    "#Let's take a peek and make sure the data looks good\n",
    "head(prelim)\n",
    "head(fnl)\n",
    "head(latlong)"
   ]
  },
  {
   "cell_type": "code",
   "execution_count": null,
   "metadata": {
    "collapsed": true
   },
   "outputs": [],
   "source": [
    "#It looks like the data is a wide format, which makes it hard to use, so let's convert the data into a better format\n",
    "#Get all prelim candidate names instead of typing them out\n",
    "nm = colnames(prelim)[5:15]\n",
    "#Convert the prelim data to a long format\n",
    "prelim = gather(prelim, candidate, votes,nm)\n",
    "#Convert the final data to a long format\n",
    "fnl = gather(fnl, candidate, votes, c(\"Abdullah\", \"Ghani\"))\n",
    "#For this analysis we will just focus on the province, candidate, and votes\n",
    "prelim = select(prelim,province,PC_number,candidate,votes)\n",
    "fnl = select(fnl,Province,candidate,PC_number,votes)"
   ]
  },
  {
   "cell_type": "code",
   "execution_count": null,
   "metadata": {
    "collapsed": true
   },
   "outputs": [],
   "source": [
    "#Let's make sure the data looks ok\n",
    "head(group_by(prelim,province) %>% summarize(tot = sum(votes))) %>% arrange(tot)"
   ]
  },
  {
   "cell_type": "code",
   "execution_count": null,
   "metadata": {
    "collapsed": true
   },
   "outputs": [],
   "source": [
    "#It looks like there are null province values in the data with a not many votes, let's filter them out\n",
    "prelim = filter(prelim,province != \"\")\n",
    "fnl = filter(fnl,Province != \"\")"
   ]
  },
  {
   "cell_type": "code",
   "execution_count": null,
   "metadata": {
    "collapsed": true
   },
   "outputs": [],
   "source": [
    "#Let's see if there were any large differences in the number of votes between the two elections\n",
    "#First, we'll aggregate the data by province for both the prelim and final data\n",
    "tmp = prelim %>% group_by(province) %>% summarize(prelim_votes = sum(votes)) %>% arrange(desc(prelim_votes))\n",
    "tmp2 = fnl %>% group_by(Province) %>% summarize(fnl_votes = sum(votes)) %>% arrange(desc(fnl_votes))\n",
    "#Now we can take these two tibbles and join them on matches of Province\n",
    "cmp_votes = inner_join(tmp,tmp2,by=c(\"province\" = \"Province\"))\n",
    "#Now we find the difference between the final and prelim votes\n",
    "cmp_votes = mutate(cmp_votes, diff = fnl_votes - prelim_votes) %>% arrange(diff)\n",
    "cmp_votes"
   ]
  },
  {
   "cell_type": "code",
   "execution_count": null,
   "metadata": {
    "collapsed": true
   },
   "outputs": [],
   "source": [
    "#Let's try to make a heatmap to see if we can tell anything unusual about the election\n",
    "#Remember that Ghani was the end winner of the election\n",
    "prelim %>% group_by(province,candidate) %>% \n",
    "    summarize(totl = sum(votes)) %>% \n",
    "    ggplot() + geom_tile(aes(x=province, y=candidate, fill=totl)) +\n",
    "    scale_fill_gradient(low = \"white\", high = \"steelblue\") + theme(axis.text.x = element_text(angle=90))"
   ]
  },
  {
   "cell_type": "code",
   "execution_count": null,
   "metadata": {
    "collapsed": true
   },
   "outputs": [],
   "source": [
    "#Are there certain provinces that are very popular towards a certain candidate\n",
    "group_by(fnl, Province,candidate) %>% summarize(tot=sum(votes)) %>% arrange(tot) %>% \n",
    "ggplot() + geom_bar(mapping = aes(x=Province, y=tot,fill=candidate),position=\"dodge\", stat=\"identity\") + theme(axis.text.x = element_text(angle=90))"
   ]
  },
  {
   "cell_type": "code",
   "execution_count": null,
   "metadata": {
    "collapsed": true
   },
   "outputs": [],
   "source": [
    "#We could try to continue this analysis to the model phase by perhaps seeing if we could predict the winner of the election\n",
    "# based on the prelim data only. This could be done by modifying the data further and using something like a\n",
    "# Naive Bayes classifier in R to do the prediction."
   ]
  },
  {
   "cell_type": "markdown",
   "metadata": {},
   "source": [
    "## Exercises <a class=\"anchor\" id=\"third\"></a>"
   ]
  },
  {
   "cell_type": "markdown",
   "metadata": {},
   "source": [
    "### Section 3.7 & 3.8 & 3.9"
   ]
  },
  {
   "cell_type": "code",
   "execution_count": null,
   "metadata": {
    "collapsed": true
   },
   "outputs": [],
   "source": [
    "# What does geom_col() do? How is it different to geom_bar()?\n"
   ]
  },
  {
   "cell_type": "code",
   "execution_count": null,
   "metadata": {
    "collapsed": true
   },
   "outputs": [],
   "source": [
    "# What is the problem with this plot? How could you improve it?\n",
    "ggplot(data = mpg, mapping = aes(x = cty, y = hwy)) + geom_point()"
   ]
  },
  {
   "cell_type": "code",
   "execution_count": null,
   "metadata": {
    "collapsed": true
   },
   "outputs": [],
   "source": [
    "# What’s the default position adjustment for geom_boxplot()? Create a visualisation of the mpg dataset that demonstrates it.\n"
   ]
  },
  {
   "cell_type": "code",
   "execution_count": null,
   "metadata": {
    "collapsed": true
   },
   "outputs": [],
   "source": [
    "# Use the boxplot you created in the previous exercise, and make it horizontal with new x, y, and title labels\n"
   ]
  },
  {
   "cell_type": "markdown",
   "metadata": {},
   "source": [
    "### Section 4"
   ]
  },
  {
   "cell_type": "code",
   "execution_count": null,
   "metadata": {
    "collapsed": true
   },
   "outputs": [],
   "source": [
    "# Tweak each of the following R commands so that they run correctly:\n",
    "ggplot(dota = mpg) + geom_point(mapping = aes(x = displ, y = hwy))\n",
    "\n",
    "fliter(mpg, cyl = 8)\n",
    "\n",
    "filter(diamond, carat > 3)\n"
   ]
  },
  {
   "cell_type": "markdown",
   "metadata": {},
   "source": [
    "### Section 5"
   ]
  },
  {
   "cell_type": "code",
   "execution_count": null,
   "metadata": {
    "collapsed": true
   },
   "outputs": [],
   "source": [
    "# Find all flights that:\n",
    "# 1. Had an arrival delay of two or more hours\n",
    "# 2. Flew to Houston (IAH or HOU)\n",
    "# 3. Were operated by United, American, or Delta\n",
    "# 4. Departed in summer (July, August, and September)\n",
    "# 5. Arrived more than two hours late, but didn’t leave late\n",
    "# 6. Were delayed by at least an hour, but made up over 30 minutes in flight\n",
    "# 7. Departed between midnight and 6am (inclusive)\n"
   ]
  },
  {
   "cell_type": "code",
   "execution_count": null,
   "metadata": {
    "collapsed": true
   },
   "outputs": [],
   "source": [
    "# How many flights have a missing dep_time? What other variables are missing? What might these rows represent?\n"
   ]
  },
  {
   "cell_type": "code",
   "execution_count": null,
   "metadata": {
    "collapsed": true
   },
   "outputs": [],
   "source": [
    "# Brainstorm as many ways as possible to select dep_time, dep_delay, arr_time, and arr_delay from flights.\n"
   ]
  },
  {
   "cell_type": "code",
   "execution_count": null,
   "metadata": {
    "collapsed": true
   },
   "outputs": [],
   "source": [
    "# What does the one_of() function do? Why might it be helpful in conjunction with this vector?\n",
    "vars <- c(\"year\", \"month\", \"day\", \"dep_delay\", \"arr_delay\")"
   ]
  },
  {
   "cell_type": "code",
   "execution_count": null,
   "metadata": {
    "collapsed": true
   },
   "outputs": [],
   "source": [
    "# Does the result of running the following code surprise you? How do the select helpers deal with case by default? How can you change that default?\n",
    "select(flights, contains(\"TIME\"))\n"
   ]
  },
  {
   "cell_type": "code",
   "execution_count": null,
   "metadata": {
    "collapsed": true
   },
   "outputs": [],
   "source": [
    "# Compare air_time with arr_time - dep_time. What do you expect to see? What do you see? What do you need to do to fix it?\n"
   ]
  },
  {
   "cell_type": "code",
   "execution_count": null,
   "metadata": {
    "collapsed": true
   },
   "outputs": [],
   "source": [
    "# Find the 10 most delayed flights using a ranking function. How do you want to handle ties? Carefully read the documentation for min_rank().\n"
   ]
  },
  {
   "cell_type": "code",
   "execution_count": null,
   "metadata": {
    "collapsed": true
   },
   "outputs": [],
   "source": [
    "# What does 1:3 + 1:10 return? Why?\n"
   ]
  },
  {
   "cell_type": "code",
   "execution_count": null,
   "metadata": {
    "collapsed": true
   },
   "outputs": [],
   "source": [
    "# Look at the number of cancelled flights per day. Is there a pattern? Is the proportion of cancelled flights related to the average delay?\n"
   ]
  },
  {
   "cell_type": "code",
   "execution_count": null,
   "metadata": {
    "collapsed": true
   },
   "outputs": [],
   "source": [
    "# Which carrier has the worst delays? \n"
   ]
  },
  {
   "cell_type": "code",
   "execution_count": null,
   "metadata": {
    "collapsed": true
   },
   "outputs": [],
   "source": [
    "# What time of day should you fly if you want to avoid delays as much as possible?\n"
   ]
  },
  {
   "cell_type": "code",
   "execution_count": null,
   "metadata": {
    "collapsed": true
   },
   "outputs": [],
   "source": [
    "# For each destination, compute the total minutes of delay. For each, flight, compute the proportion of the total delay for its destination.\n"
   ]
  },
  {
   "cell_type": "code",
   "execution_count": null,
   "metadata": {
    "collapsed": true
   },
   "outputs": [],
   "source": [
    "# Delays are typically temporally correlated: even once the problem that caused the initial delay has\n",
    "# been resolved, later flights are delayed to allow earlier flights to leave. Using lag() explore how the\n",
    "# delay of a flight is related to the delay of the immediately preceding flight.\n"
   ]
  },
  {
   "cell_type": "code",
   "execution_count": null,
   "metadata": {
    "collapsed": true
   },
   "outputs": [],
   "source": [
    "# Look at each destination. Can you find flights that are suspiciously fast? (i.e. flights that represent\n",
    "# a potential data entry error). Compute the air time a flight relative to the shortest flight to that\n",
    "# destination. Which flights were most delayed in the air?\n"
   ]
  }
 ],
 "metadata": {
  "kernelspec": {
   "display_name": "R",
   "language": "R",
   "name": "ir"
  },
  "language_info": {
   "codemirror_mode": "r",
   "file_extension": ".r",
   "mimetype": "text/x-r-source",
   "name": "R",
   "pygments_lexer": "r",
   "version": "3.4.1"
  }
 },
 "nbformat": 4,
 "nbformat_minor": 2
}
