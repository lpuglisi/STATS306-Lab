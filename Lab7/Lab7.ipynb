{
 "cells": [
  {
   "cell_type": "markdown",
   "metadata": {},
   "source": [
    "# Lab 7\n",
    "\n",
    "This lab will cover a lot of review! We will touch on strings, regular expressions, factors, and dates."
   ]
  },
  {
   "cell_type": "markdown",
   "metadata": {},
   "source": [
    "## Table of Contents\n",
    "* [Review](#Review)\n",
    "* [Explore](#Explore)\n",
    "* [Exercises](#Exercises)"
   ]
  },
  {
   "cell_type": "code",
   "execution_count": 210,
   "metadata": {},
   "outputs": [
    {
     "name": "stderr",
     "output_type": "stream",
     "text": [
      "\n",
      "Attaching package: ‘lubridate’\n",
      "\n",
      "The following object is masked from ‘package:base’:\n",
      "\n",
      "    date\n",
      "\n"
     ]
    }
   ],
   "source": [
    "library(tidyverse)\n",
    "library(forcats)\n",
    "library(lubridate)"
   ]
  },
  {
   "cell_type": "markdown",
   "metadata": {},
   "source": [
    "## Review"
   ]
  },
  {
   "cell_type": "markdown",
   "metadata": {},
   "source": [
    "### Strings"
   ]
  },
  {
   "cell_type": "markdown",
   "metadata": {},
   "source": [
    "Strings are a data type within R that hopefully is fairly familiar to you by now! But essentially they are the main data type for storing text or character based data. A few special characters within a string are as follows:\n",
    "* \\ : Can be used to 'exit' the string to add characters\n",
    "* Quotes ('', \"\") : Doesn't make a difference which one you use, but there are a handful of cases where mixing them could be useful\n",
    "* \\n : Interpreted as a new line within a string\n",
    "* \\t : Interpreted as a tab within a string\n",
    "* \\u : Reads the code following it corresponding to Unicode (https://unicode-table.com/en/)"
   ]
  },
  {
   "cell_type": "code",
   "execution_count": 52,
   "metadata": {
    "collapsed": true
   },
   "outputs": [],
   "source": [
    "#Putting all of these together\n",
    "sk8boi = 'He was a   \\u2620 sk8er boi \\u2620\\nShe said,\\\"see you later boy\\\"\\nHe wasn\\'t good enough for her'"
   ]
  },
  {
   "cell_type": "code",
   "execution_count": 53,
   "metadata": {},
   "outputs": [
    {
     "data": {
      "text/html": [
       "<span style=white-space:pre-wrap>'He was a   ☠ sk8er boi ☠\\nShe said,\"see you later boy\"\\nHe wasn\\'t good enough for her'</span>"
      ],
      "text/latex": [
       "'He was a   ☠ sk8er boi ☠\\textbackslash{}nShe said,\"see you later boy\"\\textbackslash{}nHe wasn\\textbackslash{}'t good enough for her'"
      ],
      "text/markdown": [
       "<span style=white-space:pre-wrap>'He was a   ☠ sk8er boi ☠\\nShe said,\"see you later boy\"\\nHe wasn\\'t good enough for her'</span>"
      ],
      "text/plain": [
       "[1] \"He was a   ☠ sk8er boi ☠\\nShe said,\\\"see you later boy\\\"\\nHe wasn't good enough for her\""
      ]
     },
     "metadata": {},
     "output_type": "display_data"
    }
   ],
   "source": [
    "#The raw string\n",
    "sk8boi"
   ]
  },
  {
   "cell_type": "code",
   "execution_count": 54,
   "metadata": {},
   "outputs": [
    {
     "name": "stdout",
     "output_type": "stream",
     "text": [
      "He was a   ☠ sk8er boi ☠\n",
      "She said,\"see you later boy\"\n",
      "He wasn't good enough for her\n"
     ]
    }
   ],
   "source": [
    "#How it looks when written to a file\n",
    "writeLines(sk8boi)"
   ]
  },
  {
   "cell_type": "markdown",
   "metadata": {},
   "source": [
    "Within tidyverse (stringr) there are a bunch of helpful functions for working with text. I mentioned them last lab, but here they all are again:\n",
    "\n",
    "1. Character manipulation **(str_length, str_sub, str_dup, str_c)**\n",
    "2. Handling whitespace **(str_pad, str_trunc, str_trim, str_wrap)**\n",
    "3. Handling country-specific strings using 'locale =' **(str_to_upper, str_to_lower, str_to_title, str_order, str_sort)**\n",
    "4. Pattern matching normally using regex **(str_detect, str_subset, str_count, str_locate, str_locate_all, str_extract, str_extract_all, str_match, str_match_all, str_replace, str_replace_all, str_split, str_split_fixed)**"
   ]
  },
  {
   "cell_type": "code",
   "execution_count": 55,
   "metadata": {},
   "outputs": [
    {
     "data": {
      "text/html": [
       "<ol class=list-inline>\n",
       "\t<li>6</li>\n",
       "\t<li>3</li>\n",
       "\t<li>3</li>\n",
       "</ol>\n"
      ],
      "text/latex": [
       "\\begin{enumerate*}\n",
       "\\item 6\n",
       "\\item 3\n",
       "\\item 3\n",
       "\\end{enumerate*}\n"
      ],
      "text/markdown": [
       "1. 6\n",
       "2. 3\n",
       "3. 3\n",
       "\n",
       "\n"
      ],
      "text/plain": [
       "[1] 6 3 3"
      ]
     },
     "metadata": {},
     "output_type": "display_data"
    }
   ],
   "source": [
    "#Character manipulation\n",
    "tmpstr = c(\"bAnana\", \"cAt\", \"bAr\")\n",
    "#Get the length of each string\n",
    "str_length(tmpstr)"
   ]
  },
  {
   "cell_type": "code",
   "execution_count": 67,
   "metadata": {},
   "outputs": [
    {
     "data": {
      "text/html": [
       "<ol class=list-inline>\n",
       "\t<li>'A'</li>\n",
       "\t<li>'A'</li>\n",
       "\t<li>'A'</li>\n",
       "</ol>\n"
      ],
      "text/latex": [
       "\\begin{enumerate*}\n",
       "\\item 'A'\n",
       "\\item 'A'\n",
       "\\item 'A'\n",
       "\\end{enumerate*}\n"
      ],
      "text/markdown": [
       "1. 'A'\n",
       "2. 'A'\n",
       "3. 'A'\n",
       "\n",
       "\n"
      ],
      "text/plain": [
       "[1] \"A\" \"A\" \"A\""
      ]
     },
     "metadata": {},
     "output_type": "display_data"
    },
    {
     "data": {
      "text/html": [
       "<ol class=list-inline>\n",
       "\t<li>'a'</li>\n",
       "\t<li>'t'</li>\n",
       "\t<li>'r'</li>\n",
       "</ol>\n"
      ],
      "text/latex": [
       "\\begin{enumerate*}\n",
       "\\item 'a'\n",
       "\\item 't'\n",
       "\\item 'r'\n",
       "\\end{enumerate*}\n"
      ],
      "text/markdown": [
       "1. 'a'\n",
       "2. 't'\n",
       "3. 'r'\n",
       "\n",
       "\n"
      ],
      "text/plain": [
       "[1] \"a\" \"t\" \"r\""
      ]
     },
     "metadata": {},
     "output_type": "display_data"
    }
   ],
   "source": [
    "#Pull the second character from each string, or get the last character from each\n",
    "str_sub(tmpstr,2,2)\n",
    "str_sub(tmpstr,-1,-1)"
   ]
  },
  {
   "cell_type": "code",
   "execution_count": 59,
   "metadata": {},
   "outputs": [
    {
     "data": {
      "text/html": [
       "<ol class=list-inline>\n",
       "\t<li>'bAnanabAnana'</li>\n",
       "\t<li>'cAtcAt'</li>\n",
       "\t<li>'bArbAr'</li>\n",
       "</ol>\n"
      ],
      "text/latex": [
       "\\begin{enumerate*}\n",
       "\\item 'bAnanabAnana'\n",
       "\\item 'cAtcAt'\n",
       "\\item 'bArbAr'\n",
       "\\end{enumerate*}\n"
      ],
      "text/markdown": [
       "1. 'bAnanabAnana'\n",
       "2. 'cAtcAt'\n",
       "3. 'bArbAr'\n",
       "\n",
       "\n"
      ],
      "text/plain": [
       "[1] \"bAnanabAnana\" \"cAtcAt\"       \"bArbAr\"      "
      ]
     },
     "metadata": {},
     "output_type": "display_data"
    }
   ],
   "source": [
    "#Duplicate each string twice\n",
    "str_dup(tmpstr,2)"
   ]
  },
  {
   "cell_type": "code",
   "execution_count": 66,
   "metadata": {},
   "outputs": [
    {
     "data": {
      "text/html": [
       "<ol class=list-inline>\n",
       "\t<li>'bAnana+MAGIC'</li>\n",
       "\t<li>'cAt+MAGIC'</li>\n",
       "\t<li>'bAr+MAGIC'</li>\n",
       "</ol>\n"
      ],
      "text/latex": [
       "\\begin{enumerate*}\n",
       "\\item 'bAnana+MAGIC'\n",
       "\\item 'cAt+MAGIC'\n",
       "\\item 'bAr+MAGIC'\n",
       "\\end{enumerate*}\n"
      ],
      "text/markdown": [
       "1. 'bAnana+MAGIC'\n",
       "2. 'cAt+MAGIC'\n",
       "3. 'bAr+MAGIC'\n",
       "\n",
       "\n"
      ],
      "text/plain": [
       "[1] \"bAnana+MAGIC\" \"cAt+MAGIC\"    \"bAr+MAGIC\"   "
      ]
     },
     "metadata": {},
     "output_type": "display_data"
    },
    {
     "data": {
      "text/html": [
       "'bAnana,cAt,bAr'"
      ],
      "text/latex": [
       "'bAnana,cAt,bAr'"
      ],
      "text/markdown": [
       "'bAnana,cAt,bAr'"
      ],
      "text/plain": [
       "[1] \"bAnana,cAt,bAr\""
      ]
     },
     "metadata": {},
     "output_type": "display_data"
    }
   ],
   "source": [
    "#Concatenate magic on each string, and combine them together\n",
    "str_c(tmpstr,'+MAGIC')\n",
    "str_c(tmpstr, collapse=\",\")"
   ]
  },
  {
   "cell_type": "code",
   "execution_count": 85,
   "metadata": {},
   "outputs": [
    {
     "data": {
      "text/html": [
       "<ol class=list-inline>\n",
       "\t<li><span style=white-space:pre-wrap>'    bAnana'</span></li>\n",
       "\t<li><span style=white-space:pre-wrap>'       cAt'</span></li>\n",
       "\t<li><span style=white-space:pre-wrap>'       bAr'</span></li>\n",
       "</ol>\n"
      ],
      "text/latex": [
       "\\begin{enumerate*}\n",
       "\\item '    bAnana'\n",
       "\\item '       cAt'\n",
       "\\item '       bAr'\n",
       "\\end{enumerate*}\n"
      ],
      "text/markdown": [
       "1. <span style=white-space:pre-wrap>'    bAnana'</span>\n",
       "2. <span style=white-space:pre-wrap>'       cAt'</span>\n",
       "3. <span style=white-space:pre-wrap>'       bAr'</span>\n",
       "\n",
       "\n"
      ],
      "text/plain": [
       "[1] \"    bAnana\" \"       cAt\" \"       bAr\""
      ]
     },
     "metadata": {},
     "output_type": "display_data"
    }
   ],
   "source": [
    "#Handling whitespace (Probably won't encounter much)\n",
    "#Makes sure each element is at least 10 characters long\n",
    "str_pad(tmpstr,10)"
   ]
  },
  {
   "cell_type": "code",
   "execution_count": 87,
   "metadata": {},
   "outputs": [
    {
     "data": {
      "text/html": [
       "'The Old Man And The Sea'"
      ],
      "text/latex": [
       "'The Old Man And The Sea'"
      ],
      "text/markdown": [
       "'The Old Man And The Sea'"
      ],
      "text/plain": [
       "[1] \"The Old Man And The Sea\""
      ]
     },
     "metadata": {},
     "output_type": "display_data"
    },
    {
     "data": {
      "text/html": [
       "'THE OLD MAN AND THE SEA'"
      ],
      "text/latex": [
       "'THE OLD MAN AND THE SEA'"
      ],
      "text/markdown": [
       "'THE OLD MAN AND THE SEA'"
      ],
      "text/plain": [
       "[1] \"THE OLD MAN AND THE SEA\""
      ]
     },
     "metadata": {},
     "output_type": "display_data"
    }
   ],
   "source": [
    "#Country specific\n",
    "#Capitalizes the first letter\n",
    "title = 'the old man and the sea'\n",
    "str_to_title(title)\n",
    "#Make it all capital\n",
    "str_to_upper(title)"
   ]
  },
  {
   "cell_type": "code",
   "execution_count": 92,
   "metadata": {},
   "outputs": [
    {
     "data": {
      "text/html": [
       "'we are looking the book called: The Old Man And The Sea'"
      ],
      "text/latex": [
       "'we are looking the book called: The Old Man And The Sea'"
      ],
      "text/markdown": [
       "'we are looking the book called: The Old Man And The Sea'"
      ],
      "text/plain": [
       "[1] \"we are looking the book called: The Old Man And The Sea\""
      ]
     },
     "metadata": {},
     "output_type": "display_data"
    }
   ],
   "source": [
    "#Pattern matching\n",
    "#This can be used to print outputs from variables\n",
    "str_interp('we are looking the book called: ${title}',list(title=str_to_title(title)))"
   ]
  },
  {
   "cell_type": "code",
   "execution_count": 104,
   "metadata": {},
   "outputs": [
    {
     "data": {
      "text/html": [
       "<table>\n",
       "<thead><tr><th scope=col>start</th><th scope=col>end</th></tr></thead>\n",
       "<tbody>\n",
       "\t<tr><td>9</td><td>9</td></tr>\n",
       "</tbody>\n",
       "</table>\n"
      ],
      "text/latex": [
       "\\begin{tabular}{ll}\n",
       " start & end\\\\\n",
       "\\hline\n",
       "\t 9 & 9\\\\\n",
       "\\end{tabular}\n"
      ],
      "text/markdown": [
       "\n",
       "start | end | \n",
       "|---|\n",
       "| 9 | 9 | \n",
       "\n",
       "\n"
      ],
      "text/plain": [
       "     start end\n",
       "[1,] 9     9  "
      ]
     },
     "metadata": {},
     "output_type": "display_data"
    }
   ],
   "source": [
    "#This will find the @ within an email and give the start/end position of the REGEX pattern\n",
    "email = 'lpuglisi@umich.edu'\n",
    "str_locate(email,'@')"
   ]
  },
  {
   "cell_type": "code",
   "execution_count": 101,
   "metadata": {},
   "outputs": [
    {
     "data": {
      "text/html": [
       "'@'"
      ],
      "text/latex": [
       "'@'"
      ],
      "text/markdown": [
       "'@'"
      ],
      "text/plain": [
       "[1] \"@\""
      ]
     },
     "metadata": {},
     "output_type": "display_data"
    }
   ],
   "source": [
    "#We can use this to pull out that character\n",
    "str_sub(email, str_locate(email,'@'))"
   ]
  },
  {
   "cell_type": "code",
   "execution_count": 105,
   "metadata": {},
   "outputs": [
    {
     "data": {
      "text/html": [
       "<ol>\n",
       "\t<li><ol class=list-inline>\n",
       "\t<li>'lpuglisi'</li>\n",
       "\t<li>'umich.edu'</li>\n",
       "</ol>\n",
       "</li>\n",
       "</ol>\n"
      ],
      "text/latex": [
       "\\begin{enumerate}\n",
       "\\item \\begin{enumerate*}\n",
       "\\item 'lpuglisi'\n",
       "\\item 'umich.edu'\n",
       "\\end{enumerate*}\n",
       "\n",
       "\\end{enumerate}\n"
      ],
      "text/markdown": [
       "1. 1. 'lpuglisi'\n",
       "2. 'umich.edu'\n",
       "\n",
       "\n",
       "\n",
       "\n",
       "\n"
      ],
      "text/plain": [
       "[[1]]\n",
       "[1] \"lpuglisi\"  \"umich.edu\"\n"
      ]
     },
     "metadata": {},
     "output_type": "display_data"
    }
   ],
   "source": [
    "#We can use this to split the email into two parts, now we could use the uniquename for other analysis\n",
    "str_split(email,'@')"
   ]
  },
  {
   "cell_type": "markdown",
   "metadata": {},
   "source": [
    "### Regular Expressions (REGEX)"
   ]
  },
  {
   "cell_type": "markdown",
   "metadata": {},
   "source": [
    "Regular expressions are a syntax for finding patterns in text. Essentially, they are a set of standardized codes and characters that enable you to search for exactly the type of pattern you want to find in text. Shown below are the key codes that can be used within an expression. Note that these are only fundamentals, but should give you enough tools to match almost any type of pattern you are looking for."
   ]
  },
  {
   "cell_type": "markdown",
   "metadata": {},
   "source": [
    "Quantifiers:\n",
    "* \\* : matches any number of what's before it, from zero to infinity\n",
    "* ? : matches zero or one\n",
    "* \\+ : matches one or more"
   ]
  },
  {
   "cell_type": "markdown",
   "metadata": {},
   "source": [
    "Special characters:\n",
    "\n",
    "\n",
    "* . : The dot matches any single character\n",
    "* \\n : Matches a newline character\n",
    "* \\t : Matches a tab (ASCII 9)\n",
    "* \\d : Matches a digit [0-9]\n",
    "* \\D : Matches a non-digit\n",
    "* \\w : Matches an alphanumeric character\n",
    "* \\W : Matches a non-alphanumeric character\n",
    "* \\s : Matches a whitespace character\n",
    "* \\S : Matches a non-whitespace character\n",
    "* \\\t: Use \\ to escape special characters. For example, \\\\. matches a dot, and \\\\\\ matches a backslash\n",
    "* ^ : Match at the beginning of the input string\n",
    "* $ : Match at the end of the input string."
   ]
  },
  {
   "cell_type": "markdown",
   "metadata": {},
   "source": [
    "Character Classes:\n",
    "\n",
    "* [abc] :\tMatch any of a, b, and c\n",
    "* [a-z]\t: Match any character between a and z\n",
    "* [^abc] :\tA caret ^ at the beginning indicates \"not\". In this case, match anything other than a, b, or c.\n",
    "* [+\\*?.] : \tMost special characters have no meaning inside the square brackets. This expression matches any of +, *, ? or the dot"
   ]
  },
  {
   "cell_type": "markdown",
   "metadata": {},
   "source": [
    "Grouping:\n",
    "\n",
    "This is mainly done with parentheses, note that the OR (|) operator can also be used.\n",
    "* (ab)+ : Find as many cases of 'ab' as possible\n",
    "* (aa|bb)+ : Find as many cases of 'aa' or 'bb' as possible\n",
    "* a(\\d+)a : Find 'a', then find as many numbers that exist before another 'a'"
   ]
  },
  {
   "cell_type": "code",
   "execution_count": 118,
   "metadata": {},
   "outputs": [
    {
     "data": {
      "text/html": [
       "<ol class=list-inline>\n",
       "\t<li>'lpuglisi'</li>\n",
       "\t<li>'john'</li>\n",
       "\t<li>'larry'</li>\n",
       "</ol>\n"
      ],
      "text/latex": [
       "\\begin{enumerate*}\n",
       "\\item 'lpuglisi'\n",
       "\\item 'john'\n",
       "\\item 'larry'\n",
       "\\end{enumerate*}\n"
      ],
      "text/markdown": [
       "1. 'lpuglisi'\n",
       "2. 'john'\n",
       "3. 'larry'\n",
       "\n",
       "\n"
      ],
      "text/plain": [
       "[1] \"lpuglisi\" \"john\"     \"larry\"   "
      ]
     },
     "metadata": {},
     "output_type": "display_data"
    }
   ],
   "source": [
    "#First let's try to get everyone's uniqname\n",
    "emails = c('lpuglisi@umich.edu','john@umich.edu','larry@umich.edu')\n",
    "#Pattern searches for as many letters as there are, starting left to right (e.g. stop at the @)\n",
    "re = \"(\\\\w)+\"\n",
    "str_extract(emails,re)"
   ]
  },
  {
   "cell_type": "code",
   "execution_count": 125,
   "metadata": {},
   "outputs": [
    {
     "data": {
      "text/html": [
       "<ol class=list-inline>\n",
       "\t<li>'01_Noodle'</li>\n",
       "\t<li>'01_Momo'</li>\n",
       "\t<li>'01_Meatball'</li>\n",
       "</ol>\n"
      ],
      "text/latex": [
       "\\begin{enumerate*}\n",
       "\\item '01\\_Noodle'\n",
       "\\item '01\\_Momo'\n",
       "\\item '01\\_Meatball'\n",
       "\\end{enumerate*}\n"
      ],
      "text/markdown": [
       "1. '01_Noodle'\n",
       "2. '01_Momo'\n",
       "3. '01_Meatball'\n",
       "\n",
       "\n"
      ],
      "text/plain": [
       "[1] \"01_Noodle\"   \"01_Momo\"     \"01_Meatball\""
      ]
     },
     "metadata": {},
     "output_type": "display_data"
    }
   ],
   "source": [
    "#Now, let's say we want to pull the names associated with group 01\n",
    "animalnames = c('01_Noodle','01_Momo','01_Meatball','02_Turd',\n",
    "                '02_Lardball','02_Spudmuffin','03_ChairmanMeow','03_FelineCastro')\n",
    "\n",
    "#Fairly simple with str_detect!\n",
    "re = \"1\"\n",
    "animalnames[str_detect(animalnames,re)]"
   ]
  },
  {
   "cell_type": "code",
   "execution_count": 149,
   "metadata": {},
   "outputs": [
    {
     "data": {
      "text/html": [
       "<ol class=list-inline>\n",
       "\t<li>'Noodle'</li>\n",
       "\t<li>'Momo'</li>\n",
       "\t<li>'Meatball'</li>\n",
       "\t<li>'Turd'</li>\n",
       "\t<li>'Lardball'</li>\n",
       "\t<li>'Spudmuffin'</li>\n",
       "\t<li>'ChairmanMeow'</li>\n",
       "\t<li>'FelineCastro'</li>\n",
       "</ol>\n"
      ],
      "text/latex": [
       "\\begin{enumerate*}\n",
       "\\item 'Noodle'\n",
       "\\item 'Momo'\n",
       "\\item 'Meatball'\n",
       "\\item 'Turd'\n",
       "\\item 'Lardball'\n",
       "\\item 'Spudmuffin'\n",
       "\\item 'ChairmanMeow'\n",
       "\\item 'FelineCastro'\n",
       "\\end{enumerate*}\n"
      ],
      "text/markdown": [
       "1. 'Noodle'\n",
       "2. 'Momo'\n",
       "3. 'Meatball'\n",
       "4. 'Turd'\n",
       "5. 'Lardball'\n",
       "6. 'Spudmuffin'\n",
       "7. 'ChairmanMeow'\n",
       "8. 'FelineCastro'\n",
       "\n",
       "\n"
      ],
      "text/plain": [
       "[1] \"Noodle\"       \"Momo\"         \"Meatball\"     \"Turd\"         \"Lardball\"    \n",
       "[6] \"Spudmuffin\"   \"ChairmanMeow\" \"FelineCastro\""
      ]
     },
     "metadata": {},
     "output_type": "display_data"
    }
   ],
   "source": [
    "#And if we want just get the names?\n",
    "re = \"[(A-Z)|(a-z)]+\"\n",
    "str_extract(animalnames,re)"
   ]
  },
  {
   "cell_type": "markdown",
   "metadata": {},
   "source": [
    "### Factors"
   ]
  },
  {
   "cell_type": "markdown",
   "metadata": {},
   "source": [
    "Factors are a common data type within R that are used to store categorical variables, or variables that only have a specific set of levels within them (e.g. gender, school grade, Qdoba rice type, etc.). They are very useful (and often required) for many types of algorithms and functions that try to make predictions. The forcats package in R has some useful functions for working with factors:\n",
    "* fct_reorder: Reorder a 1d factor based on a variable\n",
    "* fct_reorder2: Reorder a 2d factor based on two variables\n",
    "* fct_relevel: Change the locations of the levels of the factor\n",
    "* fct_infreq: Order factor levels by their frequency\n",
    "* fct_rev: Reverse the order of the factor levels\n",
    "* fct_recode: Manually change the levels of a factor\n",
    "* fct_collapse: Collapse factor levels into manually defined groups"
   ]
  },
  {
   "cell_type": "code",
   "execution_count": 194,
   "metadata": {},
   "outputs": [
    {
     "name": "stdout",
     "output_type": "stream",
     "text": [
      "'data.frame':\t5 obs. of  2 variables:\n",
      " $ products: Factor w/ 4 levels \"brillo\",\"brush\",..: 4 2 1 3 3\n",
      " $ price   : num  1.99 4.99 3.99 23.89 23.89\n"
     ]
    }
   ],
   "source": [
    "#Make some sample data to play around with\n",
    "products = c('sponge','brush','brillo','duck','duck')\n",
    "price = c(1.99,4.99,3.99,23.89,23.89)\n",
    "df = data.frame(products,price)\n",
    "str(df)"
   ]
  },
  {
   "cell_type": "code",
   "execution_count": 195,
   "metadata": {},
   "outputs": [
    {
     "data": {
      "text/html": [
       "<table>\n",
       "<thead><tr><th scope=col>products</th><th scope=col>price</th><th scope=col>products2</th></tr></thead>\n",
       "<tbody>\n",
       "\t<tr><td>sponge</td><td> 1.99 </td><td>sponge</td></tr>\n",
       "\t<tr><td>brush </td><td> 4.99 </td><td>brush </td></tr>\n",
       "\t<tr><td>brillo</td><td> 3.99 </td><td>brillo</td></tr>\n",
       "\t<tr><td>duck  </td><td>23.89 </td><td>duck  </td></tr>\n",
       "\t<tr><td>duck  </td><td>23.89 </td><td>duck  </td></tr>\n",
       "</tbody>\n",
       "</table>\n"
      ],
      "text/latex": [
       "\\begin{tabular}{r|lll}\n",
       " products & price & products2\\\\\n",
       "\\hline\n",
       "\t sponge &  1.99  & sponge\\\\\n",
       "\t brush  &  4.99  & brush \\\\\n",
       "\t brillo &  3.99  & brillo\\\\\n",
       "\t duck   & 23.89  & duck  \\\\\n",
       "\t duck   & 23.89  & duck  \\\\\n",
       "\\end{tabular}\n"
      ],
      "text/markdown": [
       "\n",
       "products | price | products2 | \n",
       "|---|---|---|---|---|\n",
       "| sponge |  1.99  | sponge | \n",
       "| brush  |  4.99  | brush  | \n",
       "| brillo |  3.99  | brillo | \n",
       "| duck   | 23.89  | duck   | \n",
       "| duck   | 23.89  | duck   | \n",
       "\n",
       "\n"
      ],
      "text/plain": [
       "  products price products2\n",
       "1 sponge    1.99 sponge   \n",
       "2 brush     4.99 brush    \n",
       "3 brillo    3.99 brillo   \n",
       "4 duck     23.89 duck     \n",
       "5 duck     23.89 duck     "
      ]
     },
     "metadata": {},
     "output_type": "display_data"
    }
   ],
   "source": [
    "#Reorder the products based on the price\n",
    "df$products2 = fct_reorder(df$products,df$price)\n",
    "df"
   ]
  },
  {
   "cell_type": "code",
   "execution_count": 196,
   "metadata": {},
   "outputs": [
    {
     "data": {
      "text/html": [
       "<ol class=list-inline>\n",
       "\t<li>'brillo'</li>\n",
       "\t<li>'brush'</li>\n",
       "\t<li>'duck'</li>\n",
       "\t<li>'sponge'</li>\n",
       "</ol>\n"
      ],
      "text/latex": [
       "\\begin{enumerate*}\n",
       "\\item 'brillo'\n",
       "\\item 'brush'\n",
       "\\item 'duck'\n",
       "\\item 'sponge'\n",
       "\\end{enumerate*}\n"
      ],
      "text/markdown": [
       "1. 'brillo'\n",
       "2. 'brush'\n",
       "3. 'duck'\n",
       "4. 'sponge'\n",
       "\n",
       "\n"
      ],
      "text/plain": [
       "[1] \"brillo\" \"brush\"  \"duck\"   \"sponge\""
      ]
     },
     "metadata": {},
     "output_type": "display_data"
    },
    {
     "data": {
      "text/html": [
       "<ol class=list-inline>\n",
       "\t<li>'sponge'</li>\n",
       "\t<li>'brillo'</li>\n",
       "\t<li>'brush'</li>\n",
       "\t<li>'duck'</li>\n",
       "</ol>\n"
      ],
      "text/latex": [
       "\\begin{enumerate*}\n",
       "\\item 'sponge'\n",
       "\\item 'brillo'\n",
       "\\item 'brush'\n",
       "\\item 'duck'\n",
       "\\end{enumerate*}\n"
      ],
      "text/markdown": [
       "1. 'sponge'\n",
       "2. 'brillo'\n",
       "3. 'brush'\n",
       "4. 'duck'\n",
       "\n",
       "\n"
      ],
      "text/plain": [
       "[1] \"sponge\" \"brillo\" \"brush\"  \"duck\"  "
      ]
     },
     "metadata": {},
     "output_type": "display_data"
    }
   ],
   "source": [
    "#Notice that the data looks the same but the levels are set based on the price (ggplot would plot in these orders)\n",
    "levels(df$products)\n",
    "levels(df$products2)"
   ]
  },
  {
   "cell_type": "code",
   "execution_count": 197,
   "metadata": {},
   "outputs": [
    {
     "data": {
      "text/html": [
       "<ol class=list-inline>\n",
       "\t<li>'brillo'</li>\n",
       "\t<li>'brush'</li>\n",
       "\t<li>'duck'</li>\n",
       "\t<li>'sponge'</li>\n",
       "</ol>\n"
      ],
      "text/latex": [
       "\\begin{enumerate*}\n",
       "\\item 'brillo'\n",
       "\\item 'brush'\n",
       "\\item 'duck'\n",
       "\\item 'sponge'\n",
       "\\end{enumerate*}\n"
      ],
      "text/markdown": [
       "1. 'brillo'\n",
       "2. 'brush'\n",
       "3. 'duck'\n",
       "4. 'sponge'\n",
       "\n",
       "\n"
      ],
      "text/plain": [
       "[1] \"brillo\" \"brush\"  \"duck\"   \"sponge\""
      ]
     },
     "metadata": {},
     "output_type": "display_data"
    },
    {
     "data": {
      "text/html": [
       "<ol class=list-inline>\n",
       "\t<li>'sponge'</li>\n",
       "\t<li>'duck'</li>\n",
       "\t<li>'brillo'</li>\n",
       "\t<li>'brush'</li>\n",
       "</ol>\n"
      ],
      "text/latex": [
       "\\begin{enumerate*}\n",
       "\\item 'sponge'\n",
       "\\item 'duck'\n",
       "\\item 'brillo'\n",
       "\\item 'brush'\n",
       "\\end{enumerate*}\n"
      ],
      "text/markdown": [
       "1. 'sponge'\n",
       "2. 'duck'\n",
       "3. 'brillo'\n",
       "4. 'brush'\n",
       "\n",
       "\n"
      ],
      "text/plain": [
       "[1] \"sponge\" \"duck\"   \"brillo\" \"brush\" "
      ]
     },
     "metadata": {},
     "output_type": "display_data"
    }
   ],
   "source": [
    "#Relevel duck second position\n",
    "df$products2 = fct_relevel(df$products2, \"duck\", after=1)\n",
    "levels(df$products)\n",
    "levels(df$products2)"
   ]
  },
  {
   "cell_type": "code",
   "execution_count": 198,
   "metadata": {},
   "outputs": [
    {
     "data": {
      "text/html": [
       "<ol class=list-inline>\n",
       "\t<li>'brillo'</li>\n",
       "\t<li>'brush'</li>\n",
       "\t<li>'duck'</li>\n",
       "\t<li>'sponge'</li>\n",
       "</ol>\n"
      ],
      "text/latex": [
       "\\begin{enumerate*}\n",
       "\\item 'brillo'\n",
       "\\item 'brush'\n",
       "\\item 'duck'\n",
       "\\item 'sponge'\n",
       "\\end{enumerate*}\n"
      ],
      "text/markdown": [
       "1. 'brillo'\n",
       "2. 'brush'\n",
       "3. 'duck'\n",
       "4. 'sponge'\n",
       "\n",
       "\n"
      ],
      "text/plain": [
       "[1] \"brillo\" \"brush\"  \"duck\"   \"sponge\""
      ]
     },
     "metadata": {},
     "output_type": "display_data"
    },
    {
     "data": {
      "text/html": [
       "<ol class=list-inline>\n",
       "\t<li>'sponge'</li>\n",
       "\t<li>'soap'</li>\n",
       "\t<li>'brillo'</li>\n",
       "\t<li>'brush'</li>\n",
       "</ol>\n"
      ],
      "text/latex": [
       "\\begin{enumerate*}\n",
       "\\item 'sponge'\n",
       "\\item 'soap'\n",
       "\\item 'brillo'\n",
       "\\item 'brush'\n",
       "\\end{enumerate*}\n"
      ],
      "text/markdown": [
       "1. 'sponge'\n",
       "2. 'soap'\n",
       "3. 'brillo'\n",
       "4. 'brush'\n",
       "\n",
       "\n"
      ],
      "text/plain": [
       "[1] \"sponge\" \"soap\"   \"brillo\" \"brush\" "
      ]
     },
     "metadata": {},
     "output_type": "display_data"
    }
   ],
   "source": [
    "#Maybe instead of 'duck' we actually meant 'soap'\n",
    "df$products2 = fct_recode(df$products2, soap = \"duck\")\n",
    "levels(df$products)\n",
    "levels(df$products2)"
   ]
  },
  {
   "cell_type": "code",
   "execution_count": 199,
   "metadata": {},
   "outputs": [
    {
     "data": {
      "text/html": [
       "<ol class=list-inline>\n",
       "\t<li>'No answer'</li>\n",
       "\t<li>'Don\\'t know'</li>\n",
       "\t<li>'Other party'</li>\n",
       "\t<li>'Strong republican'</li>\n",
       "\t<li>'Not str republican'</li>\n",
       "\t<li>'Ind,near rep'</li>\n",
       "\t<li>'Independent'</li>\n",
       "\t<li>'Ind,near dem'</li>\n",
       "\t<li>'Not str democrat'</li>\n",
       "\t<li>'Strong democrat'</li>\n",
       "</ol>\n"
      ],
      "text/latex": [
       "\\begin{enumerate*}\n",
       "\\item 'No answer'\n",
       "\\item 'Don\\textbackslash{}'t know'\n",
       "\\item 'Other party'\n",
       "\\item 'Strong republican'\n",
       "\\item 'Not str republican'\n",
       "\\item 'Ind,near rep'\n",
       "\\item 'Independent'\n",
       "\\item 'Ind,near dem'\n",
       "\\item 'Not str democrat'\n",
       "\\item 'Strong democrat'\n",
       "\\end{enumerate*}\n"
      ],
      "text/markdown": [
       "1. 'No answer'\n",
       "2. 'Don\\'t know'\n",
       "3. 'Other party'\n",
       "4. 'Strong republican'\n",
       "5. 'Not str republican'\n",
       "6. 'Ind,near rep'\n",
       "7. 'Independent'\n",
       "8. 'Ind,near dem'\n",
       "9. 'Not str democrat'\n",
       "10. 'Strong democrat'\n",
       "\n",
       "\n"
      ],
      "text/plain": [
       " [1] \"No answer\"          \"Don't know\"         \"Other party\"       \n",
       " [4] \"Strong republican\"  \"Not str republican\" \"Ind,near rep\"      \n",
       " [7] \"Independent\"        \"Ind,near dem\"       \"Not str democrat\"  \n",
       "[10] \"Strong democrat\"   "
      ]
     },
     "metadata": {},
     "output_type": "display_data"
    },
    {
     "data": {
      "text/html": [
       "<table>\n",
       "<thead><tr><th scope=col>partyid</th><th scope=col>n</th></tr></thead>\n",
       "<tbody>\n",
       "\t<tr><td>Other      </td><td> 548       </td></tr>\n",
       "\t<tr><td>Republican </td><td>5346       </td></tr>\n",
       "\t<tr><td>Independent</td><td>8409       </td></tr>\n",
       "\t<tr><td>Democrat   </td><td>7180       </td></tr>\n",
       "</tbody>\n",
       "</table>\n"
      ],
      "text/latex": [
       "\\begin{tabular}{r|ll}\n",
       " partyid & n\\\\\n",
       "\\hline\n",
       "\t Other       &  548       \\\\\n",
       "\t Republican  & 5346       \\\\\n",
       "\t Independent & 8409       \\\\\n",
       "\t Democrat    & 7180       \\\\\n",
       "\\end{tabular}\n"
      ],
      "text/markdown": [
       "\n",
       "partyid | n | \n",
       "|---|---|---|---|\n",
       "| Other       |  548        | \n",
       "| Republican  | 5346        | \n",
       "| Independent | 8409        | \n",
       "| Democrat    | 7180        | \n",
       "\n",
       "\n"
      ],
      "text/plain": [
       "  partyid     n   \n",
       "1 Other        548\n",
       "2 Republican  5346\n",
       "3 Independent 8409\n",
       "4 Democrat    7180"
      ]
     },
     "metadata": {},
     "output_type": "display_data"
    }
   ],
   "source": [
    "#Collapse lets us make a new category that stores multiple levels of a given factor\n",
    "#Notice the current levels of the factor\n",
    "levels(gss_cat$partyid)\n",
    "#Now we can group them and count them\n",
    "gss_cat %>%\n",
    "  mutate(partyid = fct_collapse(partyid,\n",
    "    Other = c(\"No answer\", \"Don't know\", \"Other party\"),\n",
    "    Republican = c(\"Strong republican\", \"Not str republican\"),\n",
    "    Independent = c(\"Ind,near rep\", \"Independent\", \"Ind,near dem\"),\n",
    "    Democrat = c(\"Not str democrat\", \"Strong democrat\")\n",
    "  )) %>%\n",
    "  count(partyid)"
   ]
  },
  {
   "cell_type": "code",
   "execution_count": 209,
   "metadata": {},
   "outputs": [
    {
     "data": {
      "text/html": [
       "<table>\n",
       "<thead><tr><th scope=col>products</th><th scope=col>price</th><th scope=col>products2</th></tr></thead>\n",
       "<tbody>\n",
       "\t<tr><td>sponge</td><td> 1.99 </td><td>sponge</td></tr>\n",
       "\t<tr><td>brush </td><td> 4.99 </td><td>brush </td></tr>\n",
       "\t<tr><td>brillo</td><td> 3.99 </td><td>brillo</td></tr>\n",
       "\t<tr><td>duck  </td><td>23.89 </td><td>soap  </td></tr>\n",
       "\t<tr><td>duck  </td><td>23.89 </td><td>soap  </td></tr>\n",
       "</tbody>\n",
       "</table>\n"
      ],
      "text/latex": [
       "\\begin{tabular}{r|lll}\n",
       " products & price & products2\\\\\n",
       "\\hline\n",
       "\t sponge &  1.99  & sponge\\\\\n",
       "\t brush  &  4.99  & brush \\\\\n",
       "\t brillo &  3.99  & brillo\\\\\n",
       "\t duck   & 23.89  & soap  \\\\\n",
       "\t duck   & 23.89  & soap  \\\\\n",
       "\\end{tabular}\n"
      ],
      "text/markdown": [
       "\n",
       "products | price | products2 | \n",
       "|---|---|---|---|---|\n",
       "| sponge |  1.99  | sponge | \n",
       "| brush  |  4.99  | brush  | \n",
       "| brillo |  3.99  | brillo | \n",
       "| duck   | 23.89  | soap   | \n",
       "| duck   | 23.89  | soap   | \n",
       "\n",
       "\n"
      ],
      "text/plain": [
       "  products price products2\n",
       "1 sponge    1.99 sponge   \n",
       "2 brush     4.99 brush    \n",
       "3 brillo    3.99 brillo   \n",
       "4 duck     23.89 soap     \n",
       "5 duck     23.89 soap     "
      ]
     },
     "metadata": {},
     "output_type": "display_data"
    },
    {
     "name": "stdout",
     "output_type": "stream",
     "text": [
      "[1] \"Now reorder based on frequency: \"\n"
     ]
    },
    {
     "data": {
      "text/html": [
       "<ol class=list-inline>\n",
       "\t<li>'sponge'</li>\n",
       "\t<li>'soap'</li>\n",
       "\t<li>'brillo'</li>\n",
       "\t<li>'brush'</li>\n",
       "</ol>\n"
      ],
      "text/latex": [
       "\\begin{enumerate*}\n",
       "\\item 'sponge'\n",
       "\\item 'soap'\n",
       "\\item 'brillo'\n",
       "\\item 'brush'\n",
       "\\end{enumerate*}\n"
      ],
      "text/markdown": [
       "1. 'sponge'\n",
       "2. 'soap'\n",
       "3. 'brillo'\n",
       "4. 'brush'\n",
       "\n",
       "\n"
      ],
      "text/plain": [
       "[1] \"sponge\" \"soap\"   \"brillo\" \"brush\" "
      ]
     },
     "metadata": {},
     "output_type": "display_data"
    },
    {
     "data": {
      "text/html": [
       "<ol class=list-inline>\n",
       "\t<li>'soap'</li>\n",
       "\t<li>'sponge'</li>\n",
       "\t<li>'brillo'</li>\n",
       "\t<li>'brush'</li>\n",
       "</ol>\n"
      ],
      "text/latex": [
       "\\begin{enumerate*}\n",
       "\\item 'soap'\n",
       "\\item 'sponge'\n",
       "\\item 'brillo'\n",
       "\\item 'brush'\n",
       "\\end{enumerate*}\n"
      ],
      "text/markdown": [
       "1. 'soap'\n",
       "2. 'sponge'\n",
       "3. 'brillo'\n",
       "4. 'brush'\n",
       "\n",
       "\n"
      ],
      "text/plain": [
       "[1] \"soap\"   \"sponge\" \"brillo\" \"brush\" "
      ]
     },
     "metadata": {},
     "output_type": "display_data"
    }
   ],
   "source": [
    "#Now we may want to order a factor in terms of how many times it shows up in a data set\n",
    "df\n",
    "print(\"Now reorder based on frequency: \")\n",
    "levels(df$products2)\n",
    "levels(fct_infreq(df$products2))"
   ]
  },
  {
   "cell_type": "markdown",
   "metadata": {},
   "source": [
    "### Dates"
   ]
  },
  {
   "cell_type": "markdown",
   "metadata": {},
   "source": [
    "There was a past lab that already explained a lot of the basics of dates in R, but here I'll summarize some of the content that has been covered so far. Most of the work you can do with dates can be done by using lubridate. Within R, dates have three main data types: dates, times, datetimes. Shown below are some of the most useful functions around dates.\n",
    "\n",
    "Current dates:\n",
    "* today() : today's date\n",
    "* now() : today's date and time\n",
    "\n",
    "Converting strings to dates (use locale to set different languages):\n",
    "* ymd(\"2017-01-31\") : year/month/day\n",
    "* mdy(\"January 31st, 2017\") : month/day/year\n",
    "* dmy(\"01-31-2017\"): day/month/year\n",
    "* ymd_hms(\"2017-01-31 20:11:59\"): year/month/day hour/minute/second\n",
    "* mdy_hm(\"01/31/2017 08:01\"): month/day/year hour/minut\n",
    "* make_date(): Requires a year, month, and day to output a date\n",
    "* make_datetime(): Equivalent to make_date for datetimes\n",
    "\n",
    "Datetime components:\n",
    "* year()\n",
    "* month()\n",
    "* mday(): day of the month\n",
    "* yday(): day of the year\n",
    "* wday(): day of the week\n",
    "* hour()\n",
    "* minute()\n",
    "* second()\n",
    "\n",
    "Datetime durations (These can be added or subtracted onto dates):\n",
    "* dyears(): Specify number of years\n",
    "* dweeks()\n",
    "* ddays()\n",
    "* dhours()\n",
    "* dminutes()\n",
    "\n",
    "Timezones: Note that every time can be specified in a given timezone, UTC is the default but this can be changed\n"
   ]
  },
  {
   "cell_type": "markdown",
   "metadata": {},
   "source": [
    "## Explore"
   ]
  },
  {
   "cell_type": "markdown",
   "metadata": {
    "collapsed": true
   },
   "source": [
    "This week will focus on the review and exercises!"
   ]
  },
  {
   "cell_type": "markdown",
   "metadata": {
    "collapsed": true
   },
   "source": [
    "## Exercises"
   ]
  },
  {
   "cell_type": "markdown",
   "metadata": {},
   "source": [
    "### Section 14"
   ]
  },
  {
   "cell_type": "code",
   "execution_count": null,
   "metadata": {
    "collapsed": true
   },
   "outputs": [],
   "source": [
    "#In your own words, describe the difference between the sep and collapse arguments to str_c()."
   ]
  },
  {
   "cell_type": "code",
   "execution_count": null,
   "metadata": {
    "collapsed": true
   },
   "outputs": [],
   "source": [
    "#Use str_length() and str_sub() to extract the middle character from a string. \n",
    "#What will you do if the string has an even number of characters?"
   ]
  },
  {
   "cell_type": "code",
   "execution_count": null,
   "metadata": {
    "collapsed": true
   },
   "outputs": [],
   "source": [
    "# What does str_wrap() do? When might you want to use it?"
   ]
  },
  {
   "cell_type": "code",
   "execution_count": null,
   "metadata": {
    "collapsed": true
   },
   "outputs": [],
   "source": [
    "#Write a function that turns (e.g.) a vector c(“a”, “b”, “c”) into the string a, b, and c. \n",
    "#Think carefully about what it should do if given a vector of length 0, 1, or 2."
   ]
  },
  {
   "cell_type": "code",
   "execution_count": null,
   "metadata": {
    "collapsed": true
   },
   "outputs": [],
   "source": [
    "#How would you match the sequence \"'\\ ?"
   ]
  },
  {
   "cell_type": "code",
   "execution_count": null,
   "metadata": {
    "collapsed": true
   },
   "outputs": [],
   "source": [
    "# How would you match the literal string \"$^$\"?"
   ]
  },
  {
   "cell_type": "code",
   "execution_count": null,
   "metadata": {
    "collapsed": true
   },
   "outputs": [],
   "source": [
    "# Given the corpus of common words in stringr::words, create regular expressions that find all words that:\n",
    "#Start with “y”.\n",
    "#End with “x”\n",
    "#Are exactly three letters long. (Don’t cheat by using str_length()!)\n",
    "#Have seven letters or more."
   ]
  },
  {
   "cell_type": "code",
   "execution_count": null,
   "metadata": {
    "collapsed": true
   },
   "outputs": [],
   "source": [
    "# Create regular expressions to find all words that:\n",
    "#Start with a vowel.\n",
    "#That only contain consonants. (Hint: thinking about matching “not”-vowels.)\n",
    "#End with ed, but not with eed.\n",
    "#End with ing or ise."
   ]
  },
  {
   "cell_type": "code",
   "execution_count": null,
   "metadata": {
    "collapsed": true
   },
   "outputs": [],
   "source": [
    "# Empirically verify the rule ``i before e except after c’’."
   ]
  },
  {
   "cell_type": "markdown",
   "metadata": {},
   "source": [
    "### Section 15"
   ]
  },
  {
   "cell_type": "code",
   "execution_count": null,
   "metadata": {
    "collapsed": true
   },
   "outputs": [],
   "source": [
    "#Which relig does denom (denomination) apply to? How can you find out with a table? \n",
    "#How can you find out with a visualization?"
   ]
  },
  {
   "cell_type": "code",
   "execution_count": null,
   "metadata": {
    "collapsed": true
   },
   "outputs": [],
   "source": [
    "# For each factor in gss_cat identify whether the order of the levels is arbitrary or principled."
   ]
  },
  {
   "cell_type": "code",
   "execution_count": null,
   "metadata": {
    "collapsed": true
   },
   "outputs": [],
   "source": [
    "# How could you collapse rincome into a small set of categories?"
   ]
  },
  {
   "cell_type": "markdown",
   "metadata": {},
   "source": [
    "### Section 16"
   ]
  },
  {
   "cell_type": "code",
   "execution_count": null,
   "metadata": {
    "collapsed": true
   },
   "outputs": [],
   "source": [
    "# What happens if you parse a string that contains invalid dates?"
   ]
  },
  {
   "cell_type": "code",
   "execution_count": null,
   "metadata": {
    "collapsed": true
   },
   "outputs": [],
   "source": [
    "# Use the appropriate lubridate function to parse each of the following dates:\n",
    "d1 <- \"January 1, 2010\"\n",
    "d2 <- \"2015-Mar-07\"\n",
    "d3 <- \"06-Jun-2017\"\n",
    "d4 <- c(\"August 19 (2015)\", \"July 1 (2015)\")\n",
    "d5 <- \"12/30/14\""
   ]
  },
  {
   "cell_type": "code",
   "execution_count": null,
   "metadata": {
    "collapsed": true
   },
   "outputs": [],
   "source": [
    "# How does the distribution of flight times within a day change over the course of the year?"
   ]
  },
  {
   "cell_type": "code",
   "execution_count": null,
   "metadata": {
    "collapsed": true
   },
   "outputs": [],
   "source": [
    "# How does the average delay time change over the course of a day? Should you use dep_time or sched_dep_time? Why?"
   ]
  },
  {
   "cell_type": "code",
   "execution_count": null,
   "metadata": {
    "collapsed": true
   },
   "outputs": [],
   "source": [
    "#Confirm my hypothesis that the early departures of flights in minutes 20-30 and 50-60 are caused by \n",
    "#scheduled flights that leave early. \n",
    "#Hint: create a binary variable that tells you whether or not a flight was delayed."
   ]
  },
  {
   "cell_type": "code",
   "execution_count": null,
   "metadata": {
    "collapsed": true
   },
   "outputs": [],
   "source": [
    "# Why is there months() but no dmonths()?"
   ]
  },
  {
   "cell_type": "code",
   "execution_count": null,
   "metadata": {
    "collapsed": true
   },
   "outputs": [],
   "source": [
    "# Create a vector of dates giving the first day of every month in 2015. \n",
    "# Create a vector of dates giving the first day of every month in the current year."
   ]
  }
 ],
 "metadata": {
  "kernelspec": {
   "display_name": "R",
   "language": "R",
   "name": "ir"
  },
  "language_info": {
   "codemirror_mode": "r",
   "file_extension": ".r",
   "mimetype": "text/x-r-source",
   "name": "R",
   "pygments_lexer": "r",
   "version": "3.4.3"
  }
 },
 "nbformat": 4,
 "nbformat_minor": 2
}
