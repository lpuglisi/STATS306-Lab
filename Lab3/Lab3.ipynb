{
 "cells": [
  {
   "cell_type": "markdown",
   "metadata": {},
   "source": [
    "# Lab 3\n",
    "This lab will focus on reviewing concepts of dplyr and exploratory data analysis, then explore animal shelter outcomes, then end with exercises from section 7 and 10 from your book."
   ]
  },
  {
   "cell_type": "markdown",
   "metadata": {},
   "source": [
    "## Table of Contents\n",
    "* [Review](#Review)\n",
    "* [Explore](#Explore)\n",
    "* [Exercises](#Exercises)"
   ]
  },
  {
   "cell_type": "code",
   "execution_count": null,
   "metadata": {},
   "outputs": [],
   "source": [
    "library(tidyverse)\n",
    "#These packages are specific to the explore section:\n",
    "library(lubridate)\n",
    "library(rpart)\n",
    "library(randomForest)"
   ]
  },
  {
   "cell_type": "markdown",
   "metadata": {},
   "source": [
    "## Review"
   ]
  },
  {
   "cell_type": "markdown",
   "metadata": {},
   "source": [
    "### General HW Hints"
   ]
  },
  {
   "cell_type": "markdown",
   "metadata": {},
   "source": [
    "* Read the question carefully! \n",
    "    * Is the questions asking for number? vector? table?\n",
    "    * Are the specific conditions that need to be filtered?\n",
    "* Test the output!\n",
    "    * If you need to create a variable 'table1', after you're done double check that everything looks good in table1\n",
    "    * If you have a condition that should be looking for the first letter of a string, double check with a simple string that it is actually taking the first letter.\n",
    "* Lecture notes will be able to give you 99% of the functions you will need to answer the questions, no new packages should be needed unless stated.\n",
    "* In general, don't hard code values, assume the data the professor tests your code on will change (e.g. pulling columns that start with \"X\" would not need something like this: `data[c(3,6,10,11)]` )"
   ]
  },
  {
   "cell_type": "markdown",
   "metadata": {},
   "source": [
    "### Function Review"
   ]
  },
  {
   "cell_type": "markdown",
   "metadata": {},
   "source": [
    "Here are some the important functions I picked out from your reading and lecture notes, this isn't meant to be exhaustive! Simple examples are given using the mtcars data set (in tidyverse)."
   ]
  },
  {
   "cell_type": "markdown",
   "metadata": {},
   "source": [
    "* names(): Gives you the names of data frames in a vector of strings\n",
    "```{r}\n",
    "#Get the column names of the data set\n",
    "names(mtcars)\n",
    "```\n",
    "* filter(): Filters the entire table by a condition or set of conditions\n",
    "```{r}\n",
    "#Filter to cars with only 6 cylinders more than 110 horsepower\n",
    "mtcars %>% filter((cyl == 6) & (hp > 110))\n",
    "```\n",
    "* arrange(): Sorts the table output by specific columns (use desc(varname) for descending order)\n",
    "```{r}\n",
    "#Sort the cars by horsepower in descending order\n",
    "mtcars %>% arrange(desc(hp))\n",
    "```\n",
    "* select(): Returns a new table with only the selected columns (can rename with newname = oldname)\n",
    "```{r}\n",
    "#Only select mpg and hp, rename hp to horseys\n",
    "mtcars %>% select(mpg, horseys = hp)\n",
    "```\n",
    "* summarise(): Takes your existing table and returns a smaller table aggregated based on a function\n",
    "```{r}\n",
    "#Find the median hp, max mpg, and mean cylinder\n",
    "mtcars %>% summarize(med_hp = median(hp), mx_mpg = max(mpg), avg_cyl = mean(cyl))\n",
    "```\n",
    "* group_by(): Groups the table by a categorical variable(s), normally used with summarize\n",
    "```{r}\n",
    "#Average hp by number of cylinders\n",
    "mtcars %>% group_by(cyl) %>% summarize(avg_hp = mean(hp))\n",
    "```\n",
    "* mutate(): Used to create new columns based on existing ones (use transmute() if you only want the column you are creating)\n",
    "```{r}\n",
    "#Create a column for the mpg per cylinder\n",
    "#Returns a whole table\n",
    "mtcars %>% mutate(mpg_cyl = mpg / cyl)\n",
    "#Returns just mpg_cyl\n",
    "mtcars %>% transmute(mpg_cyl = mpg / cyl)\n",
    "```\n",
    "* %% (modulus): Gives you the remainder of division\n",
    "```{R}\n",
    "#Find the even numbers in a list\n",
    "ls = c(1,2,3,4,5,6,7)\n",
    "#If theres no remainder, it's even (TRUE)\n",
    "evn = ifelse(ls %% 2 == 0, TRUE, FALSE)\n",
    "#Subset the list by the TRUE's\n",
    "ls[evn]\n",
    "```\n",
    "* %/% (integer division): Basically just chops off the decimal of division\n",
    "```{r}\n",
    "#4/3 is not 1.333, it's just 1\n",
    "4 %/% 3\n",
    "```\n",
    "* count(): Gives a count of each value for a variable in a data frame\n",
    "```{r}\n",
    "#Get a count of the number of cylinder and gear combinations in the data set\n",
    "mtcars %>% count(cyl, gear)\n",
    "```"
   ]
  },
  {
   "cell_type": "markdown",
   "metadata": {},
   "source": [
    "Ranking is a really common operation you do when analyzing data, here are the main ranks that were covered in class so far:\n",
    "* `min_rank(v)`: rank the entries of `v` in ascending order, so the smallest entry gets a 1, etc. Ties get the same rank.\n",
    "* `row_number(v)`: same as `min_rank(v)`, but every entry gets its own rank.\n",
    "* `dense_rank(v)`: same as `min_rank(v)`, but no gaps created between the ranks.\n",
    "* `percent_rank()`: ranks expressed in percentiles.\n",
    "* `cume_dist(v)`: fraction of entries `<=` each entry of `v`.\n",
    "* `ntile(v)`: group entries of `v` into buckets and report which bucket"
   ]
  },
  {
   "cell_type": "code",
   "execution_count": null,
   "metadata": {
    "collapsed": true
   },
   "outputs": [],
   "source": [
    "#Let's test out each of the ranks to make sure we understand each\n",
    "v = c(1,2,4,4,3)\n",
    "cat(\"Original:   \", v, \"\\n\")\n",
    "cat(\"Min Rank:   \",min_rank(v),\"\\n\")\n",
    "cat(\"Row Number:   \",row_number(v),\"\\n\")\n",
    "cat(\"Dense Rank:   \",dense_rank(v),\"\\n\")\n",
    "cat(\"Percent Rank:   \",percent_rank(v),\"\\n\")\n",
    "cat(\"Cum. Dist.:   \",cume_dist(v),\"\\n\")\n",
    "cat(\"ntile:   \",ntile(v,n=2),\"\\n\")"
   ]
  },
  {
   "cell_type": "markdown",
   "metadata": {},
   "source": [
    "Here is a list of some of the important summary functions that exist in R:\n",
    "* Center: `mean(), median()`\n",
    "* Spread: `sd(), IQR(), mad()`\n",
    "* Range: `min(), max(), quantile()`\n",
    "* Position: `first(), last(), nth()`\n",
    "* Count: `n(), n_distinct()`\n",
    "* Logical: `any(), all()`"
   ]
  },
  {
   "cell_type": "code",
   "execution_count": null,
   "metadata": {
    "collapsed": true
   },
   "outputs": [],
   "source": [
    "#Here are a few examples using these summary functions\n",
    "#Do any of the cars in mtcars have more than 120 horsepower?\n",
    "any(mtcars$hp>120)\n",
    "#Do all of the cars have more than 20 horsepower?\n",
    "all(mtcars$hp>20)\n",
    "\n",
    "#Huzzah"
   ]
  },
  {
   "cell_type": "code",
   "execution_count": null,
   "metadata": {
    "collapsed": true
   },
   "outputs": [],
   "source": [
    "#What if I want to know the first or last entry of some vector?\n",
    "x = c(8,2,3,4)\n",
    "cat(\"First: \", first(x), \"\\n\")\n",
    "cat(\"Last: \",last(x), \"\\n\")"
   ]
  },
  {
   "cell_type": "markdown",
   "metadata": {},
   "source": [
    "Using the image below, what values do you expect at each quantile?\n",
    "![Normal](normal_dist.png)"
   ]
  },
  {
   "cell_type": "code",
   "execution_count": null,
   "metadata": {
    "collapsed": true
   },
   "outputs": [],
   "source": [
    "#If I define a vector, x, of 1000 random normal values of mean 10 and sd 2\n",
    "x = rnorm(1000, mean=10, sd=2)\n",
    "#What values do you expect as you change these?\n",
    "quantile(x, 0.5)"
   ]
  },
  {
   "cell_type": "markdown",
   "metadata": {},
   "source": [
    "By default the pipe inserts the output of the LHS command as the first argument to the RHS command:\n",
    "```{r}\n",
    "f() %>% g()  # same as g(f())\n",
    "```\n",
    "If you need to use the LHS output elsewhere in the command, the `.` character can be used to place it there:\n",
    "```{r}\n",
    "f() %>% g(1, .)  # same as g(1, f())\n",
    "```"
   ]
  },
  {
   "cell_type": "markdown",
   "metadata": {},
   "source": [
    "## Explore"
   ]
  },
  {
   "cell_type": "markdown",
   "metadata": {},
   "source": [
    "The following analysis is based on data and work that can be found on Kaggle. We'll be using data released from the Austin Animal Center around outcomes of shelter animals. We'll use this data to explore shelter animals in the area and also try to predict the outcome (adopted, returned to owner, etc.) of the animal based on the data we have using a random forest.\n",
    "\n",
    "**Note:** *This content uses some functions and techniques that are outside the scope of the course, it is meant to show you how what you're learning can be used in interesting problems.*"
   ]
  },
  {
   "cell_type": "markdown",
   "metadata": {},
   "source": [
    "---"
   ]
  },
  {
   "cell_type": "markdown",
   "metadata": {},
   "source": [
    "Let's first load the data in, do a bit of cleanup, and then take a peek to how the data looks. Notice that all of the data is being treated as a string (chr), even date and animal age, so we'll have to address that at some point."
   ]
  },
  {
   "cell_type": "code",
   "execution_count": null,
   "metadata": {},
   "outputs": [],
   "source": [
    "#Load in the data\n",
    "train = read.csv('train.csv', stringsAsFactors = F)\n",
    "test = read.csv('test.csv', stringsAsFactors = F)\n",
    "\n",
    "#Tidy the data up a bit\n",
    "# Rename the ID column so train & test match\n",
    "names(train)[1] = 'ID'\n",
    "# And change ID in test to character\n",
    "test$ID = as.character(test$ID)\n",
    "# Combine test & training data\n",
    "full = bind_rows(train, test)\n",
    "#Let's take peek\n",
    "str(full)"
   ]
  },
  {
   "cell_type": "markdown",
   "metadata": {},
   "source": [
    "Since we eventually are going to want to predict the outcome of each animal, let's take a look at the outcome types by animal and make sure we have about even proportions of each class."
   ]
  },
  {
   "cell_type": "code",
   "execution_count": null,
   "metadata": {},
   "outputs": [],
   "source": [
    "# We'll eventually want to predict outcome type, so let's make a table of the counts of each outcome\n",
    "outcomes = full %>% filter(is.na(OutcomeType) == FALSE) %>%\n",
    "  group_by(AnimalType, OutcomeType) %>%\n",
    "  summarise(num_animals = n())\n",
    "\n",
    "#Now let's visulize data and see what we find\n",
    "ggplot(outcomes, aes(x = AnimalType, y = num_animals, fill = OutcomeType)) +\n",
    "  geom_bar(stat = 'identity', position = 'fill', colour = 'black') +\n",
    "  coord_flip() +\n",
    "  labs(y = 'Proportion of Animals',\n",
    "       x = 'Animal',\n",
    "       title = 'Outcomes: Cats & Dogs')"
   ]
  },
  {
   "cell_type": "markdown",
   "metadata": {},
   "source": [
    "Now, let's get the age of the animal in a format that we can use, as you can see below the current format is pretty bad for analysis."
   ]
  },
  {
   "cell_type": "code",
   "execution_count": null,
   "metadata": {
    "collapsed": true
   },
   "outputs": [],
   "source": [
    "#Why would someone store data like this!?\n",
    "factor(full$AgeuponOutcome)[1:10]"
   ]
  },
  {
   "cell_type": "code",
   "execution_count": null,
   "metadata": {
    "collapsed": true
   },
   "outputs": [],
   "source": [
    "#Lots of manipulations to fix this bad format\n",
    "\n",
    "# Get the time value:\n",
    "full$TimeValue = sapply(full$AgeuponOutcome,function(x) strsplit(x, split = ' ')[[1]][1])\n",
    "# Now get the unit of time:\n",
    "full$UnitofTime = sapply(full$AgeuponOutcome,function(x) strsplit(x, split = ' ')[[1]][2])\n",
    "# Fortunately any \"s\" marks the plural, so we can just pull them all out\n",
    "full$UnitofTime = gsub('s', '', full$UnitofTime)\n",
    "full$TimeValue  = as.numeric(full$TimeValue)\n",
    "full$UnitofTime = as.factor(full$UnitofTime)\n",
    "\n",
    "#Now we convert the age into days\n",
    "# Make a multiplier vector\n",
    "multiplier = ifelse(full$UnitofTime == 'day', 1,\n",
    "              ifelse(full$UnitofTime == 'week', 7,\n",
    "              ifelse(full$UnitofTime == 'month', 30,\n",
    "              ifelse(full$UnitofTime == 'year', 365, NA))))\n",
    "full$AgeinDays = full$TimeValue * multiplier"
   ]
  },
  {
   "cell_type": "code",
   "execution_count": null,
   "metadata": {
    "collapsed": true
   },
   "outputs": [],
   "source": [
    "#Ah, now we can finally use this\n",
    "summary(full$AgeinDays)"
   ]
  },
  {
   "cell_type": "code",
   "execution_count": null,
   "metadata": {
    "collapsed": true
   },
   "outputs": [],
   "source": [
    "#These steps will fix the name field, fix the gender, get the time in a format that's more useable, and clean up some of the remaining fields\n",
    "# Replace blank names with \"Nameless\"\n",
    "full$Name = ifelse(nchar(full$Name)==0, 'Nameless', full$Name)\n",
    "# Make a name v. no name variable\n",
    "full$HasName[full$Name == 'Nameless'] = 0\n",
    "full$HasName[full$Name != 'Nameless'] = 1\n",
    "\n",
    "# Replace blank sex with most common\n",
    "full$SexuponOutcome = ifelse(nchar(full$SexuponOutcome)==0,'Spayed Female', full$SexuponOutcome)\n",
    "\n",
    "# Extract time variables from date (uses the \"lubridate\" package)\n",
    "full$Hour    = hour(full$DateTime)\n",
    "full$Weekday = wday(full$DateTime)\n",
    "full$Month   = month(full$DateTime)\n",
    "full$Year    = year(full$DateTime)\n",
    "# Time of day may also be useful\n",
    "full$TimeofDay = ifelse(full$Hour > 5 & full$Hour < 11, 'morning',\n",
    "                  ifelse(full$Hour > 10 & full$Hour < 16, 'midday',\n",
    "                  ifelse(full$Hour > 15 & full$Hour < 20, 'lateday', 'night')))\n",
    "# Put factor levels into the order we want\n",
    "full$TimeofDay = factor(full$TimeofDay,\n",
    "                    levels = c('morning', 'midday',\n",
    "                               'lateday', 'night'))\n",
    "\n",
    "#We just need to clean up and create a few more fields which we'll use in the prediction step\n",
    "# Use \"grepl\" to look for \"Mix\"\n",
    "full$IsMix = ifelse(grepl('Mix', full$Breed), 1, 0)\n",
    "# Split on \"/\" and remove \" Mix\" to simplify Breed\n",
    "full$SimpleBreed = sapply(full$Breed,function(x) gsub(' Mix', '',strsplit(x, split = '/')[[1]][1]))\n",
    "# Use strsplit to grab the first color\n",
    "full$SimpleColor = sapply(full$Color,function(x) strsplit(x, split = '/| ')[[1]][1])\n",
    "# Use \"grepl\" to look for sex\n",
    "full$Sex = ifelse(grepl('Male', full$SexuponOutcome), 'Male',ifelse(grepl('Unknown', full$Sex), 'Unknown', 'Female'))"
   ]
  },
  {
   "cell_type": "code",
   "execution_count": null,
   "metadata": {
    "collapsed": true
   },
   "outputs": [],
   "source": [
    "#Now let's see if the time if the time of day impacts the outcome variable at all\n",
    "daytimes = full[1:26729, ] %>%\n",
    "  group_by(AnimalType, TimeofDay, OutcomeType) %>%\n",
    "  summarise(num_animals = n())\n",
    "\n",
    "ggplot(daytimes, aes(x = TimeofDay, y = num_animals, fill = OutcomeType)) +\n",
    "  geom_bar(stat = 'identity', position = 'fill', colour = 'black') +\n",
    "  facet_wrap(~AnimalType) +\n",
    "  coord_flip() +\n",
    "  labs(y = 'Proportion of Animals',\n",
    "       x = 'Animal',\n",
    "       title = 'Outcomes by Time of Day: Cats & Dogs')"
   ]
  },
  {
   "cell_type": "code",
   "execution_count": null,
   "metadata": {
    "collapsed": true
   },
   "outputs": [],
   "source": [
    "#Let's take a look at if the animal is neutered and if that impacts outcomes\n",
    "# Use \"grepl\" to look for \"Intact\"\n",
    "full$Intact = ifelse(grepl('Intact', full$SexuponOutcome), 1,ifelse(grepl('Unknown', full$SexuponOutcome), 'Unknown', 0))\n",
    "# Setup data\n",
    "intact = full[1:26729, ] %>%\n",
    "  group_by(AnimalType, Intact, OutcomeType) %>%\n",
    "  summarise(num_animals = n())\n",
    "# Plot\n",
    "ggplot(intact, aes(x = Intact, y = num_animals, fill = OutcomeType)) +\n",
    "  geom_bar(stat = 'identity', position = 'fill', colour = 'black') +\n",
    "  facet_wrap(~AnimalType) +\n",
    "  coord_flip() +\n",
    "  labs(y = 'Proportion of Animals',\n",
    "       x = 'Animal',\n",
    "       title = 'Outcomes by Intactness: Cats & Dogs')"
   ]
  },
  {
   "cell_type": "code",
   "execution_count": null,
   "metadata": {
    "collapsed": true
   },
   "outputs": [],
   "source": [
    "# This code fills in missing values of AgeinDays by predicting them with other variables\n",
    "age_fit = rpart(AgeinDays ~ AnimalType + Sex + Intact + SimpleBreed + HasName, data = full[!is.na(full$AgeinDays), ],method = 'anova')\n",
    "# Impute predicted age values where missing using \"predict\"\n",
    "full$AgeinDays[is.na(full$AgeinDays)]  = predict(age_fit, full[is.na(full$AgeinDays), ])"
   ]
  },
  {
   "cell_type": "code",
   "execution_count": null,
   "metadata": {
    "collapsed": true
   },
   "outputs": [],
   "source": [
    "#Let's see if the age makes a large difference in if an animal is adopted\n",
    "# Use the age variable to make a puppy/kitten variable\n",
    "full$Lifestage[full$AgeinDays < 365] = 'baby'\n",
    "full$Lifestage[full$AgeinDays >= 365] = 'adult'\n",
    "full$Lifestage <- factor(full$Lifestage)\n",
    "#Plot\n",
    "ggplot(full[1:26729, ], aes(x = Lifestage, fill = OutcomeType)) +\n",
    "  geom_bar(position = 'fill', colour = 'black') +\n",
    "  labs(y = 'Proportion', title = 'Animal Outcome: Babies versus Adults')"
   ]
  },
  {
   "cell_type": "code",
   "execution_count": null,
   "metadata": {
    "collapsed": true
   },
   "outputs": [],
   "source": [
    "# ~~~~~~~~~~~~~~~~~~~~~~~~~~~~~~~~~~~~~~~~~~~~~~~~~~~~~~~~~~~~~~~~~~~~~~~~~~~~~~~~~~~~~~~~~~~~~~~~~~~~~~#\n",
    "#These steps take quite a bit of time to run (~20 min) so only run them if you have a bit of time!\n",
    "# ~~~~~~~~~~~~~~~~~~~~~~~~~~~~~~~~~~~~~~~~~~~~~~~~~~~~~~~~~~~~~~~~~~~~~~~~~~~~~~~~~~~~~~~~~~~~~~~~~~~~~~#\n",
    "\n",
    "# #Alright, it's time to use a Random Forest model to predict the outcome of an animal\n",
    "# factorVars <- c('Name','OutcomeType','OutcomeSubtype','AnimalType',\n",
    "#                 'SexuponOutcome','AgeuponOutcome','SimpleBreed','SimpleColor',\n",
    "#                 'HasName','IsMix','Intact','Sex','TimeofDay','Lifestage')\n",
    "\n",
    "# full[factorVars] <- lapply(full[factorVars], function(x) as.factor(x))\n",
    "    \n",
    "# # Split up train and test data\n",
    "# train <- full[1:26729, ]\n",
    "# test  <- full[26730:nrow(full), ]\n",
    "\n",
    "# # Build the model\n",
    "# rf_mod = randomForest(OutcomeType ~ AnimalType+AgeinDays+Intact+HasName+Hour+Weekday+TimeofDay+SimpleColor+IsMix+Sex+Month,\n",
    "#   data = train,\n",
    "#   ntree = 600,\n",
    "#   importance = TRUE)\n",
    "\n",
    "# # Show model error\n",
    "# plot(rf_mod, ylim=c(0,1))\n",
    "# legend('topright', colnames(rf_mod$err.rate), col=1:6, fill=1:6)"
   ]
  },
  {
   "cell_type": "code",
   "execution_count": null,
   "metadata": {
    "collapsed": true
   },
   "outputs": [],
   "source": [
    "# #One helpful part of Random Forests is that they inherently give you the importance of each variable, let's take a see what variables are most predictive!\n",
    "# # Get importance\n",
    "# importance    = importance(rf_mod)\n",
    "# varImportance = data.frame(Variables = row.names(importance),Importance = round(importance[ ,'MeanDecreaseGini'],2))\n",
    "\n",
    "# # Create a rank variable based on importance\n",
    "# rankImportance <- varImportance %>%\n",
    "#   mutate(Rank = paste0('#',dense_rank(desc(Importance))))\n",
    "\n",
    "# # Use ggplot2 to visualize the relative importance of variables\n",
    "# ggplot(rankImportance, aes(x = reorder(Variables, Importance),y = Importance)) +\n",
    "#   geom_bar(stat='identity', colour = 'black') +\n",
    "#   geom_text(aes(x = Variables, y = 0.5, label = Rank),hjust=0, vjust=0.55, size = 4, colour = 'lavender',fontface = 'bold') +\n",
    "#   labs(x = 'Variables', title = 'Relative Variable Importance') +\n",
    "#   coord_flip()"
   ]
  },
  {
   "cell_type": "markdown",
   "metadata": {},
   "source": [
    "## Exercises"
   ]
  },
  {
   "cell_type": "markdown",
   "metadata": {},
   "source": [
    "### Dplyr gone haywire"
   ]
  },
  {
   "cell_type": "code",
   "execution_count": null,
   "metadata": {
    "collapsed": true
   },
   "outputs": [],
   "source": [
    "# Using mtcars and in one line of code, find the mean horsepower for each cylinder type for only cars with \n",
    "# higher than 20 mpg. Output only the max mean of this subset of data."
   ]
  },
  {
   "cell_type": "code",
   "execution_count": null,
   "metadata": {
    "collapsed": true
   },
   "outputs": [],
   "source": [
    "# Using mtcars and in one line of code, Find the average horsepower of cars that are in the top 20% based on mpg"
   ]
  },
  {
   "cell_type": "markdown",
   "metadata": {},
   "source": [
    "### Section 7"
   ]
  },
  {
   "cell_type": "code",
   "execution_count": null,
   "metadata": {
    "collapsed": true
   },
   "outputs": [],
   "source": [
    "# Explore the distribution of price. Do you discover anything unusual or surprising?"
   ]
  },
  {
   "cell_type": "code",
   "execution_count": null,
   "metadata": {
    "collapsed": true
   },
   "outputs": [],
   "source": [
    "# How many diamonds are 0.99 carat? How many are 1 carat? What do you think is the cause of the difference?"
   ]
  },
  {
   "cell_type": "code",
   "execution_count": null,
   "metadata": {
    "collapsed": true
   },
   "outputs": [],
   "source": [
    "# What happens to missing values in a histogram? What happens to missing values in a bar chart? Why is there a difference?"
   ]
  },
  {
   "cell_type": "code",
   "execution_count": null,
   "metadata": {
    "collapsed": true
   },
   "outputs": [],
   "source": [
    "# What does na.rm = TRUE do in mean() and sum()?"
   ]
  },
  {
   "cell_type": "code",
   "execution_count": null,
   "metadata": {
    "collapsed": true
   },
   "outputs": [],
   "source": [
    "# How could you rescale plot below to more clearly show the distribution of cut within colour, or colour within cut?\n",
    "diamonds %>% count(color, cut) %>% ggplot(mapping = aes(x = color, y = cut)) + geom_tile(mapping = aes(fill = n))"
   ]
  },
  {
   "cell_type": "markdown",
   "metadata": {
    "collapsed": true
   },
   "source": [
    "### Section 10"
   ]
  },
  {
   "cell_type": "code",
   "execution_count": null,
   "metadata": {
    "collapsed": true
   },
   "outputs": [],
   "source": [
    "# How can you tell if an object is a tibble?"
   ]
  },
  {
   "cell_type": "code",
   "execution_count": null,
   "metadata": {
    "collapsed": true
   },
   "outputs": [],
   "source": [
    "# Compare and contrast the following operations on a data.frame and equivalent tibble. \n",
    "# What is different? Why might the default data frame behaviors cause you frustration?\n",
    "df <- data.frame(abc = 1, xyz = \"a\")\n",
    "df$x\n",
    "df[, \"xyz\"]\n",
    "df[, c(\"abc\", \"xyz\")]"
   ]
  },
  {
   "cell_type": "code",
   "execution_count": null,
   "metadata": {
    "collapsed": true
   },
   "outputs": [],
   "source": [
    "#If you have the name of a variable stored in an object, e.g. var <- \"mpg\", how can you extract the\n",
    "# reference variable from a tibble?"
   ]
  },
  {
   "cell_type": "code",
   "execution_count": null,
   "metadata": {
    "collapsed": true
   },
   "outputs": [],
   "source": [
    "#Practice referring to non-syntactic names in the following data frame by:\n",
    "# 1. Extracting the variable called 1.\n",
    "# 2. Plotting a scatterplot of 1 vs 2.\n",
    "# 3. Creating a new column called 3 which is 2 divided by 1.\n",
    "# 4. Renaming the columns to one, two and three.\n",
    "annoying <- tibble(\n",
    "`1` = 1:10,\n",
    "`2` = `1` * 2 + rnorm(length(`1`))\n",
    ")"
   ]
  },
  {
   "cell_type": "code",
   "execution_count": null,
   "metadata": {
    "collapsed": true
   },
   "outputs": [],
   "source": [
    "# What does tibble::enframe() do? When might you use it?"
   ]
  }
 ],
 "metadata": {
  "kernelspec": {
   "display_name": "R",
   "language": "R",
   "name": "ir"
  },
  "language_info": {
   "codemirror_mode": "r",
   "file_extension": ".r",
   "mimetype": "text/x-r-source",
   "name": "R",
   "pygments_lexer": "r",
   "version": "3.4.1"
  }
 },
 "nbformat": 4,
 "nbformat_minor": 2
}
