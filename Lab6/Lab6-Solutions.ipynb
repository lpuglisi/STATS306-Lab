{
 "cells": [
  {
   "cell_type": "markdown",
   "metadata": {},
   "source": [
    "# Lab 6\n",
    "\n",
    "This lab will focus on relational data and touch on some text analysis to be covered."
   ]
  },
  {
   "cell_type": "markdown",
   "metadata": {},
   "source": [
    "## Table of Contents\n",
    "* [Review](#Review)\n",
    "* [Explore](#Explore)\n",
    "* [Exercises](#Exercises)"
   ]
  },
  {
   "cell_type": "code",
   "execution_count": 38,
   "metadata": {},
   "outputs": [
    {
     "name": "stderr",
     "output_type": "stream",
     "text": [
      "── Attaching packages ─────────────────────────────────────── tidyverse 1.2.1 ──\n",
      "✔ ggplot2 2.2.1     ✔ purrr   0.2.4\n",
      "✔ tibble  1.4.1     ✔ dplyr   0.7.4\n",
      "✔ tidyr   0.7.2     ✔ stringr 1.2.0\n",
      "✔ readr   1.1.1     ✔ forcats 0.2.0\n",
      "── Conflicts ────────────────────────────────────────── tidyverse_conflicts() ──\n",
      "✖ dplyr::filter() masks stats::filter()\n",
      "✖ dplyr::lag()    masks stats::lag()\n"
     ]
    }
   ],
   "source": [
    "library(tidyverse)\n",
    "library(nycflights13)"
   ]
  },
  {
   "cell_type": "markdown",
   "metadata": {},
   "source": [
    "## Review"
   ]
  },
  {
   "cell_type": "markdown",
   "metadata": {},
   "source": [
    "### The Exam"
   ]
  },
  {
   "cell_type": "markdown",
   "metadata": {},
   "source": [
    "Let's chat! How did you think it went? Any problems you want me to go over? Any surprises/suggestions?"
   ]
  },
  {
   "cell_type": "markdown",
   "metadata": {},
   "source": [
    "### Relational Data"
   ]
  },
  {
   "cell_type": "markdown",
   "metadata": {},
   "source": [
    "Relational data is simple data that is split up into different tables, but organized in a way that different tables can be joined when they are needed. They can be simple or very complex!\n",
    "\n",
    "![Simple Star](relationalexample.jpg)\n",
    "![Complex Star](complexstar.jpg)"
   ]
  },
  {
   "cell_type": "markdown",
   "metadata": {},
   "source": [
    "### Keys"
   ]
  },
  {
   "cell_type": "markdown",
   "metadata": {},
   "source": [
    "Keys are simply fields, or columns, in the table that contain some sort of ID that enables you to uniquely identify records in a given table and also join to other tables. There are two main types of keys:\n",
    "* Primary Key: Uniquely identifies records within a single table\n",
    "* Foreign Key: Uniquely identifies records in another table"
   ]
  },
  {
   "cell_type": "markdown",
   "metadata": {},
   "source": [
    "### Joins"
   ]
  },
  {
   "cell_type": "markdown",
   "metadata": {},
   "source": [
    "In order to join all these tables together, we have to have some way to connect two tables together. There are different ways to do this that generally fall into two categories, inner joins and outer joins. Here is a link to a visual representation of each (http://joins.spathon.com/). A description of each type of join is as follows:\n",
    "* inner_join(): Only join on key matches in both tables\n",
    "* left_join() (Outer Join): Keep all items from the left table, join on matches for the right\n",
    "* right_join() (Outer Join): Keep all items from the right table, join on matches for the left\n",
    "* full_join() (Outer Join): Keep all items from each table and just add nulls for missing keys\n"
   ]
  },
  {
   "cell_type": "markdown",
   "metadata": {},
   "source": [
    "### Less Common Joins"
   ]
  },
  {
   "cell_type": "markdown",
   "metadata": {},
   "source": [
    "There are also a couple types of joins that are much less common but still can come in handy when in the tidyverse world. They are:\n",
    "* semi_join(tb1, tb2, key=col): Take all of the fields in table 1 that are also in table 2 (based on the key)\n",
    "* anti_join(tb1, tb2, key=col): Take none of the fields in table 1 that are also in table 2 (based on the key)"
   ]
  },
  {
   "cell_type": "markdown",
   "metadata": {},
   "source": [
    "### Some Join Examples"
   ]
  },
  {
   "cell_type": "code",
   "execution_count": 12,
   "metadata": {},
   "outputs": [
    {
     "data": {
      "text/html": [
       "<table>\n",
       "<thead><tr><th scope=col>year</th><th scope=col>month</th><th scope=col>day</th><th scope=col>dep_time</th><th scope=col>sched_dep_time</th><th scope=col>dep_delay</th><th scope=col>arr_time</th><th scope=col>sched_arr_time</th><th scope=col>arr_delay</th><th scope=col>carrier</th><th scope=col>⋯</th><th scope=col>temp</th><th scope=col>dewp</th><th scope=col>humid</th><th scope=col>wind_dir</th><th scope=col>wind_speed</th><th scope=col>wind_gust</th><th scope=col>precip</th><th scope=col>pressure</th><th scope=col>visib</th><th scope=col>time_hour.y</th></tr></thead>\n",
       "<tbody>\n",
       "\t<tr><td>2013               </td><td>9                  </td><td>30                 </td><td>NA                 </td><td>1842               </td><td>NA                 </td><td>NA                 </td><td>2019               </td><td>NA                 </td><td>EV                 </td><td>⋯                  </td><td>71.96              </td><td>46.94              </td><td>40.90              </td><td> NA                </td><td>3.45234            </td><td> 3.972884          </td><td>0                  </td><td>1015.8             </td><td>10                 </td><td>2013-09-30 13:00:00</td></tr>\n",
       "\t<tr><td>2013               </td><td>9                  </td><td>30                 </td><td>NA                 </td><td>1455               </td><td>NA                 </td><td>NA                 </td><td>1634               </td><td>NA                 </td><td>9E                 </td><td>⋯                  </td><td>68.00              </td><td>48.92              </td><td>50.44              </td><td> 20                </td><td>5.75390            </td><td> 6.621473          </td><td>0                  </td><td>1018.4             </td><td>10                 </td><td>2013-09-30 09:00:00</td></tr>\n",
       "\t<tr><td>2013               </td><td>9                  </td><td>30                 </td><td>NA                 </td><td>2200               </td><td>NA                 </td><td>NA                 </td><td>2312               </td><td>NA                 </td><td>9E                 </td><td>⋯                  </td><td>66.92              </td><td>51.98              </td><td>58.65              </td><td>160                </td><td>9.20624            </td><td>10.594357          </td><td>0                  </td><td>1015.4             </td><td>10                 </td><td>2013-09-30 17:00:00</td></tr>\n",
       "\t<tr><td>2013               </td><td>9                  </td><td>30                 </td><td>NA                 </td><td>1210               </td><td>NA                 </td><td>NA                 </td><td>1330               </td><td>NA                 </td><td>MQ                 </td><td>⋯                  </td><td>60.98              </td><td>51.08              </td><td>69.86              </td><td> NA                </td><td>5.75390            </td><td> 6.621473          </td><td>0                  </td><td>1018.6             </td><td>10                 </td><td>2013-09-30 07:00:00</td></tr>\n",
       "\t<tr><td>2013               </td><td>9                  </td><td>30                 </td><td>NA                 </td><td>1159               </td><td>NA                 </td><td>NA                 </td><td>1344               </td><td>NA                 </td><td>MQ                 </td><td>⋯                  </td><td>60.08              </td><td>51.98              </td><td>74.56              </td><td>360                </td><td>4.60312            </td><td> 5.297178          </td><td>0                  </td><td>1018.5             </td><td>10                 </td><td>2013-09-30 06:00:00</td></tr>\n",
       "\t<tr><td>2013               </td><td>9                  </td><td>30                 </td><td>NA                 </td><td> 840               </td><td>NA                 </td><td>NA                 </td><td>1020               </td><td>NA                 </td><td>MQ                 </td><td>⋯                  </td><td>59.00              </td><td>53.06              </td><td>80.64              </td><td> 10                </td><td>3.45234            </td><td> 3.972884          </td><td>0                  </td><td>1017.8             </td><td>10                 </td><td>2013-09-30 03:00:00</td></tr>\n",
       "</tbody>\n",
       "</table>\n"
      ],
      "text/latex": [
       "\\begin{tabular}{r|lllllllllllllllllllllllllllll}\n",
       " year & month & day & dep\\_time & sched\\_dep\\_time & dep\\_delay & arr\\_time & sched\\_arr\\_time & arr\\_delay & carrier & ⋯ & temp & dewp & humid & wind\\_dir & wind\\_speed & wind\\_gust & precip & pressure & visib & time\\_hour.y\\\\\n",
       "\\hline\n",
       "\t 2013                & 9                   & 30                  & NA                  & 1842                & NA                  & NA                  & 2019                & NA                  & EV                  & ⋯                   & 71.96               & 46.94               & 40.90               &  NA                 & 3.45234             &  3.972884           & 0                   & 1015.8              & 10                  & 2013-09-30 13:00:00\\\\\n",
       "\t 2013                & 9                   & 30                  & NA                  & 1455                & NA                  & NA                  & 1634                & NA                  & 9E                  & ⋯                   & 68.00               & 48.92               & 50.44               &  20                 & 5.75390             &  6.621473           & 0                   & 1018.4              & 10                  & 2013-09-30 09:00:00\\\\\n",
       "\t 2013                & 9                   & 30                  & NA                  & 2200                & NA                  & NA                  & 2312                & NA                  & 9E                  & ⋯                   & 66.92               & 51.98               & 58.65               & 160                 & 9.20624             & 10.594357           & 0                   & 1015.4              & 10                  & 2013-09-30 17:00:00\\\\\n",
       "\t 2013                & 9                   & 30                  & NA                  & 1210                & NA                  & NA                  & 1330                & NA                  & MQ                  & ⋯                   & 60.98               & 51.08               & 69.86               &  NA                 & 5.75390             &  6.621473           & 0                   & 1018.6              & 10                  & 2013-09-30 07:00:00\\\\\n",
       "\t 2013                & 9                   & 30                  & NA                  & 1159                & NA                  & NA                  & 1344                & NA                  & MQ                  & ⋯                   & 60.08               & 51.98               & 74.56               & 360                 & 4.60312             &  5.297178           & 0                   & 1018.5              & 10                  & 2013-09-30 06:00:00\\\\\n",
       "\t 2013                & 9                   & 30                  & NA                  &  840                & NA                  & NA                  & 1020                & NA                  & MQ                  & ⋯                   & 59.00               & 53.06               & 80.64               &  10                 & 3.45234             &  3.972884           & 0                   & 1017.8              & 10                  & 2013-09-30 03:00:00\\\\\n",
       "\\end{tabular}\n"
      ],
      "text/markdown": [
       "\n",
       "year | month | day | dep_time | sched_dep_time | dep_delay | arr_time | sched_arr_time | arr_delay | carrier | ⋯ | temp | dewp | humid | wind_dir | wind_speed | wind_gust | precip | pressure | visib | time_hour.y | \n",
       "|---|---|---|---|---|---|\n",
       "| 2013                | 9                   | 30                  | NA                  | 1842                | NA                  | NA                  | 2019                | NA                  | EV                  | ⋯                   | 71.96               | 46.94               | 40.90               |  NA                 | 3.45234             |  3.972884           | 0                   | 1015.8              | 10                  | 2013-09-30 13:00:00 | \n",
       "| 2013                | 9                   | 30                  | NA                  | 1455                | NA                  | NA                  | 1634                | NA                  | 9E                  | ⋯                   | 68.00               | 48.92               | 50.44               |  20                 | 5.75390             |  6.621473           | 0                   | 1018.4              | 10                  | 2013-09-30 09:00:00 | \n",
       "| 2013                | 9                   | 30                  | NA                  | 2200                | NA                  | NA                  | 2312                | NA                  | 9E                  | ⋯                   | 66.92               | 51.98               | 58.65               | 160                 | 9.20624             | 10.594357           | 0                   | 1015.4              | 10                  | 2013-09-30 17:00:00 | \n",
       "| 2013                | 9                   | 30                  | NA                  | 1210                | NA                  | NA                  | 1330                | NA                  | MQ                  | ⋯                   | 60.98               | 51.08               | 69.86               |  NA                 | 5.75390             |  6.621473           | 0                   | 1018.6              | 10                  | 2013-09-30 07:00:00 | \n",
       "| 2013                | 9                   | 30                  | NA                  | 1159                | NA                  | NA                  | 1344                | NA                  | MQ                  | ⋯                   | 60.08               | 51.98               | 74.56               | 360                 | 4.60312             |  5.297178           | 0                   | 1018.5              | 10                  | 2013-09-30 06:00:00 | \n",
       "| 2013                | 9                   | 30                  | NA                  |  840                | NA                  | NA                  | 1020                | NA                  | MQ                  | ⋯                   | 59.00               | 53.06               | 80.64               |  10                 | 3.45234             |  3.972884           | 0                   | 1017.8              | 10                  | 2013-09-30 03:00:00 | \n",
       "\n",
       "\n"
      ],
      "text/plain": [
       "  year month day dep_time sched_dep_time dep_delay arr_time sched_arr_time\n",
       "1 2013 9     30  NA       1842           NA        NA       2019          \n",
       "2 2013 9     30  NA       1455           NA        NA       1634          \n",
       "3 2013 9     30  NA       2200           NA        NA       2312          \n",
       "4 2013 9     30  NA       1210           NA        NA       1330          \n",
       "5 2013 9     30  NA       1159           NA        NA       1344          \n",
       "6 2013 9     30  NA        840           NA        NA       1020          \n",
       "  arr_delay carrier ⋯ temp  dewp  humid wind_dir wind_speed wind_gust precip\n",
       "1 NA        EV      ⋯ 71.96 46.94 40.90  NA      3.45234     3.972884 0     \n",
       "2 NA        9E      ⋯ 68.00 48.92 50.44  20      5.75390     6.621473 0     \n",
       "3 NA        9E      ⋯ 66.92 51.98 58.65 160      9.20624    10.594357 0     \n",
       "4 NA        MQ      ⋯ 60.98 51.08 69.86  NA      5.75390     6.621473 0     \n",
       "5 NA        MQ      ⋯ 60.08 51.98 74.56 360      4.60312     5.297178 0     \n",
       "6 NA        MQ      ⋯ 59.00 53.06 80.64  10      3.45234     3.972884 0     \n",
       "  pressure visib time_hour.y        \n",
       "1 1015.8   10    2013-09-30 13:00:00\n",
       "2 1018.4   10    2013-09-30 09:00:00\n",
       "3 1015.4   10    2013-09-30 17:00:00\n",
       "4 1018.6   10    2013-09-30 07:00:00\n",
       "5 1018.5   10    2013-09-30 06:00:00\n",
       "6 1017.8   10    2013-09-30 03:00:00"
      ]
     },
     "metadata": {},
     "output_type": "display_data"
    }
   ],
   "source": [
    "# If I want the weather data for each flight, I need to keep all flights in the flight table, \n",
    "# then attach weather data on the side\n",
    "tail(left_join(flights, weather, by = c('year','month','day','hour','origin')))"
   ]
  },
  {
   "cell_type": "code",
   "execution_count": 13,
   "metadata": {},
   "outputs": [
    {
     "data": {
      "text/html": [
       "<table>\n",
       "<thead><tr><th scope=col>year</th><th scope=col>month</th><th scope=col>day</th><th scope=col>dep_time</th><th scope=col>sched_dep_time</th><th scope=col>dep_delay</th><th scope=col>arr_time</th><th scope=col>sched_arr_time</th><th scope=col>arr_delay</th><th scope=col>carrier</th><th scope=col>⋯</th><th scope=col>hour</th><th scope=col>minute</th><th scope=col>time_hour</th><th scope=col>name</th><th scope=col>lat</th><th scope=col>lon</th><th scope=col>alt</th><th scope=col>tz</th><th scope=col>dst</th><th scope=col>tzone</th></tr></thead>\n",
       "<tbody>\n",
       "\t<tr><td>2013               </td><td>1                  </td><td>1                  </td><td>517                </td><td>515                </td><td> 2                 </td><td> 830               </td><td> 819               </td><td> 11                </td><td>UA                 </td><td>⋯                  </td><td>5                  </td><td>15                 </td><td>2013-01-01 05:00:00</td><td>Newark Liberty Intl</td><td>40.69250           </td><td>-74.16867          </td><td>18                 </td><td>-5                 </td><td>A                  </td><td>America/New_York   </td></tr>\n",
       "\t<tr><td>2013               </td><td>1                  </td><td>1                  </td><td>533                </td><td>529                </td><td> 4                 </td><td> 850               </td><td> 830               </td><td> 20                </td><td>UA                 </td><td>⋯                  </td><td>5                  </td><td>29                 </td><td>2013-01-01 05:00:00</td><td>La Guardia         </td><td>40.77725           </td><td>-73.87261          </td><td>22                 </td><td>-5                 </td><td>A                  </td><td>America/New_York   </td></tr>\n",
       "\t<tr><td>2013               </td><td>1                  </td><td>1                  </td><td>542                </td><td>540                </td><td> 2                 </td><td> 923               </td><td> 850               </td><td> 33                </td><td>AA                 </td><td>⋯                  </td><td>5                  </td><td>40                 </td><td>2013-01-01 05:00:00</td><td>John F Kennedy Intl</td><td>40.63975           </td><td>-73.77893          </td><td>13                 </td><td>-5                 </td><td>A                  </td><td>America/New_York   </td></tr>\n",
       "\t<tr><td>2013               </td><td>1                  </td><td>1                  </td><td>544                </td><td>545                </td><td>-1                 </td><td>1004               </td><td>1022               </td><td>-18                </td><td>B6                 </td><td>⋯                  </td><td>5                  </td><td>45                 </td><td>2013-01-01 05:00:00</td><td>John F Kennedy Intl</td><td>40.63975           </td><td>-73.77893          </td><td>13                 </td><td>-5                 </td><td>A                  </td><td>America/New_York   </td></tr>\n",
       "\t<tr><td>2013               </td><td>1                  </td><td>1                  </td><td>554                </td><td>600                </td><td>-6                 </td><td> 812               </td><td> 837               </td><td>-25                </td><td>DL                 </td><td>⋯                  </td><td>6                  </td><td> 0                 </td><td>2013-01-01 06:00:00</td><td>La Guardia         </td><td>40.77725           </td><td>-73.87261          </td><td>22                 </td><td>-5                 </td><td>A                  </td><td>America/New_York   </td></tr>\n",
       "\t<tr><td>2013               </td><td>1                  </td><td>1                  </td><td>554                </td><td>558                </td><td>-4                 </td><td> 740               </td><td> 728               </td><td> 12                </td><td>UA                 </td><td>⋯                  </td><td>5                  </td><td>58                 </td><td>2013-01-01 05:00:00</td><td>Newark Liberty Intl</td><td>40.69250           </td><td>-74.16867          </td><td>18                 </td><td>-5                 </td><td>A                  </td><td>America/New_York   </td></tr>\n",
       "</tbody>\n",
       "</table>\n"
      ],
      "text/latex": [
       "\\begin{tabular}{r|llllllllllllllllllllllllll}\n",
       " year & month & day & dep\\_time & sched\\_dep\\_time & dep\\_delay & arr\\_time & sched\\_arr\\_time & arr\\_delay & carrier & ⋯ & hour & minute & time\\_hour & name & lat & lon & alt & tz & dst & tzone\\\\\n",
       "\\hline\n",
       "\t 2013                & 1                   & 1                   & 517                 & 515                 &  2                  &  830                &  819                &  11                 & UA                  & ⋯                   & 5                   & 15                  & 2013-01-01 05:00:00 & Newark Liberty Intl & 40.69250            & -74.16867           & 18                  & -5                  & A                   & America/New\\_York \\\\\n",
       "\t 2013                & 1                   & 1                   & 533                 & 529                 &  4                  &  850                &  830                &  20                 & UA                  & ⋯                   & 5                   & 29                  & 2013-01-01 05:00:00 & La Guardia          & 40.77725            & -73.87261           & 22                  & -5                  & A                   & America/New\\_York \\\\\n",
       "\t 2013                & 1                   & 1                   & 542                 & 540                 &  2                  &  923                &  850                &  33                 & AA                  & ⋯                   & 5                   & 40                  & 2013-01-01 05:00:00 & John F Kennedy Intl & 40.63975            & -73.77893           & 13                  & -5                  & A                   & America/New\\_York \\\\\n",
       "\t 2013                & 1                   & 1                   & 544                 & 545                 & -1                  & 1004                & 1022                & -18                 & B6                  & ⋯                   & 5                   & 45                  & 2013-01-01 05:00:00 & John F Kennedy Intl & 40.63975            & -73.77893           & 13                  & -5                  & A                   & America/New\\_York \\\\\n",
       "\t 2013                & 1                   & 1                   & 554                 & 600                 & -6                  &  812                &  837                & -25                 & DL                  & ⋯                   & 6                   &  0                  & 2013-01-01 06:00:00 & La Guardia          & 40.77725            & -73.87261           & 22                  & -5                  & A                   & America/New\\_York \\\\\n",
       "\t 2013                & 1                   & 1                   & 554                 & 558                 & -4                  &  740                &  728                &  12                 & UA                  & ⋯                   & 5                   & 58                  & 2013-01-01 05:00:00 & Newark Liberty Intl & 40.69250            & -74.16867           & 18                  & -5                  & A                   & America/New\\_York \\\\\n",
       "\\end{tabular}\n"
      ],
      "text/markdown": [
       "\n",
       "year | month | day | dep_time | sched_dep_time | dep_delay | arr_time | sched_arr_time | arr_delay | carrier | ⋯ | hour | minute | time_hour | name | lat | lon | alt | tz | dst | tzone | \n",
       "|---|---|---|---|---|---|\n",
       "| 2013                | 1                   | 1                   | 517                 | 515                 |  2                  |  830                |  819                |  11                 | UA                  | ⋯                   | 5                   | 15                  | 2013-01-01 05:00:00 | Newark Liberty Intl | 40.69250            | -74.16867           | 18                  | -5                  | A                   | America/New_York    | \n",
       "| 2013                | 1                   | 1                   | 533                 | 529                 |  4                  |  850                |  830                |  20                 | UA                  | ⋯                   | 5                   | 29                  | 2013-01-01 05:00:00 | La Guardia          | 40.77725            | -73.87261           | 22                  | -5                  | A                   | America/New_York    | \n",
       "| 2013                | 1                   | 1                   | 542                 | 540                 |  2                  |  923                |  850                |  33                 | AA                  | ⋯                   | 5                   | 40                  | 2013-01-01 05:00:00 | John F Kennedy Intl | 40.63975            | -73.77893           | 13                  | -5                  | A                   | America/New_York    | \n",
       "| 2013                | 1                   | 1                   | 544                 | 545                 | -1                  | 1004                | 1022                | -18                 | B6                  | ⋯                   | 5                   | 45                  | 2013-01-01 05:00:00 | John F Kennedy Intl | 40.63975            | -73.77893           | 13                  | -5                  | A                   | America/New_York    | \n",
       "| 2013                | 1                   | 1                   | 554                 | 600                 | -6                  |  812                |  837                | -25                 | DL                  | ⋯                   | 6                   |  0                  | 2013-01-01 06:00:00 | La Guardia          | 40.77725            | -73.87261           | 22                  | -5                  | A                   | America/New_York    | \n",
       "| 2013                | 1                   | 1                   | 554                 | 558                 | -4                  |  740                |  728                |  12                 | UA                  | ⋯                   | 5                   | 58                  | 2013-01-01 05:00:00 | Newark Liberty Intl | 40.69250            | -74.16867           | 18                  | -5                  | A                   | America/New_York    | \n",
       "\n",
       "\n"
      ],
      "text/plain": [
       "  year month day dep_time sched_dep_time dep_delay arr_time sched_arr_time\n",
       "1 2013 1     1   517      515             2         830      819          \n",
       "2 2013 1     1   533      529             4         850      830          \n",
       "3 2013 1     1   542      540             2         923      850          \n",
       "4 2013 1     1   544      545            -1        1004     1022          \n",
       "5 2013 1     1   554      600            -6         812      837          \n",
       "6 2013 1     1   554      558            -4         740      728          \n",
       "  arr_delay carrier ⋯ hour minute time_hour           name               \n",
       "1  11       UA      ⋯ 5    15     2013-01-01 05:00:00 Newark Liberty Intl\n",
       "2  20       UA      ⋯ 5    29     2013-01-01 05:00:00 La Guardia         \n",
       "3  33       AA      ⋯ 5    40     2013-01-01 05:00:00 John F Kennedy Intl\n",
       "4 -18       B6      ⋯ 5    45     2013-01-01 05:00:00 John F Kennedy Intl\n",
       "5 -25       DL      ⋯ 6     0     2013-01-01 06:00:00 La Guardia         \n",
       "6  12       UA      ⋯ 5    58     2013-01-01 05:00:00 Newark Liberty Intl\n",
       "  lat      lon       alt tz dst tzone           \n",
       "1 40.69250 -74.16867 18  -5 A   America/New_York\n",
       "2 40.77725 -73.87261 22  -5 A   America/New_York\n",
       "3 40.63975 -73.77893 13  -5 A   America/New_York\n",
       "4 40.63975 -73.77893 13  -5 A   America/New_York\n",
       "5 40.77725 -73.87261 22  -5 A   America/New_York\n",
       "6 40.69250 -74.16867 18  -5 A   America/New_York"
      ]
     },
     "metadata": {},
     "output_type": "display_data"
    }
   ],
   "source": [
    "#If I want get airport data for each flight's origin, I would again need a left join to include all flights\n",
    "head(left_join(flights,airports,by = c('origin'='faa')))"
   ]
  },
  {
   "cell_type": "code",
   "execution_count": 29,
   "metadata": {},
   "outputs": [
    {
     "data": {
      "text/html": [
       "<table>\n",
       "<thead><tr><th scope=col>year</th><th scope=col>month</th><th scope=col>day</th><th scope=col>dep_time</th><th scope=col>sched_dep_time</th><th scope=col>dep_delay</th><th scope=col>arr_time</th><th scope=col>sched_arr_time</th><th scope=col>arr_delay</th><th scope=col>carrier</th><th scope=col>⋯</th><th scope=col>hour</th><th scope=col>minute</th><th scope=col>time_hour</th><th scope=col>name</th><th scope=col>lat</th><th scope=col>lon</th><th scope=col>alt</th><th scope=col>tz</th><th scope=col>dst</th><th scope=col>tzone</th></tr></thead>\n",
       "<tbody>\n",
       "\t<tr><td>2013                   </td><td>1                      </td><td>1                      </td><td>558                    </td><td>600                    </td><td>-2                     </td><td> 924                   </td><td> 917                   </td><td>  7                    </td><td>UA                     </td><td>⋯                      </td><td>6                      </td><td> 0                     </td><td>2013-01-01 06:00:00    </td><td>Los Angeles Intl       </td><td>33.94254               </td><td>-118.4081              </td><td> 126                   </td><td>-8                     </td><td>A                      </td><td>America/Los_Angeles    </td></tr>\n",
       "\t<tr><td>2013                   </td><td>1                      </td><td>1                      </td><td>558                    </td><td>600                    </td><td>-2                     </td><td> 923                   </td><td> 937                   </td><td>-14                    </td><td>UA                     </td><td>⋯                      </td><td>6                      </td><td> 0                     </td><td>2013-01-01 06:00:00    </td><td>San Francisco Intl     </td><td>37.61897               </td><td>-122.3749              </td><td>  13                   </td><td>-8                     </td><td>A                      </td><td>America/Los_Angeles    </td></tr>\n",
       "\t<tr><td>2013                   </td><td>1                      </td><td>1                      </td><td>559                    </td><td>600                    </td><td>-1                     </td><td> 854                   </td><td> 902                   </td><td> -8                    </td><td>UA                     </td><td>⋯                      </td><td>6                      </td><td> 0                     </td><td>2013-01-01 06:00:00    </td><td>Mc Carran Intl         </td><td>36.08006               </td><td>-115.1522              </td><td>2141                   </td><td>-8                     </td><td>A                      </td><td>America/Los_Angeles    </td></tr>\n",
       "\t<tr><td>2013                   </td><td>1                      </td><td>1                      </td><td>611                    </td><td>600                    </td><td>11                     </td><td> 945                   </td><td> 931                   </td><td> 14                    </td><td>UA                     </td><td>⋯                      </td><td>6                      </td><td> 0                     </td><td>2013-01-01 06:00:00    </td><td>San Francisco Intl     </td><td>37.61897               </td><td>-122.3749              </td><td>  13                   </td><td>-8                     </td><td>A                      </td><td>America/Los_Angeles    </td></tr>\n",
       "\t<tr><td>2013                   </td><td>1                      </td><td>1                      </td><td>622                    </td><td>630                    </td><td>-8                     </td><td>1017                   </td><td>1014                   </td><td>  3                    </td><td>US                     </td><td>⋯                      </td><td>6                      </td><td>30                     </td><td>2013-01-01 06:00:00    </td><td>Phoenix Sky Harbor Intl</td><td>33.43428               </td><td>-112.0116              </td><td>1135                   </td><td>-7                     </td><td>N                      </td><td>America/Phoenix        </td></tr>\n",
       "\t<tr><td>2013                   </td><td>1                      </td><td>1                      </td><td>627                    </td><td>630                    </td><td>-3                     </td><td>1018                   </td><td>1018                   </td><td>  0                    </td><td>US                     </td><td>⋯                      </td><td>6                      </td><td>30                     </td><td>2013-01-01 06:00:00    </td><td>Phoenix Sky Harbor Intl</td><td>33.43428               </td><td>-112.0116              </td><td>1135                   </td><td>-7                     </td><td>N                      </td><td>America/Phoenix        </td></tr>\n",
       "</tbody>\n",
       "</table>\n"
      ],
      "text/latex": [
       "\\begin{tabular}{r|llllllllllllllllllllllllll}\n",
       " year & month & day & dep\\_time & sched\\_dep\\_time & dep\\_delay & arr\\_time & sched\\_arr\\_time & arr\\_delay & carrier & ⋯ & hour & minute & time\\_hour & name & lat & lon & alt & tz & dst & tzone\\\\\n",
       "\\hline\n",
       "\t 2013                    & 1                       & 1                       & 558                     & 600                     & -2                      &  924                    &  917                    &   7                     & UA                      & ⋯                       & 6                       &  0                      & 2013-01-01 06:00:00     & Los Angeles Intl        & 33.94254                & -118.4081               &  126                    & -8                      & A                       & America/Los\\_Angeles  \\\\\n",
       "\t 2013                    & 1                       & 1                       & 558                     & 600                     & -2                      &  923                    &  937                    & -14                     & UA                      & ⋯                       & 6                       &  0                      & 2013-01-01 06:00:00     & San Francisco Intl      & 37.61897                & -122.3749               &   13                    & -8                      & A                       & America/Los\\_Angeles  \\\\\n",
       "\t 2013                    & 1                       & 1                       & 559                     & 600                     & -1                      &  854                    &  902                    &  -8                     & UA                      & ⋯                       & 6                       &  0                      & 2013-01-01 06:00:00     & Mc Carran Intl          & 36.08006                & -115.1522               & 2141                    & -8                      & A                       & America/Los\\_Angeles  \\\\\n",
       "\t 2013                    & 1                       & 1                       & 611                     & 600                     & 11                      &  945                    &  931                    &  14                     & UA                      & ⋯                       & 6                       &  0                      & 2013-01-01 06:00:00     & San Francisco Intl      & 37.61897                & -122.3749               &   13                    & -8                      & A                       & America/Los\\_Angeles  \\\\\n",
       "\t 2013                    & 1                       & 1                       & 622                     & 630                     & -8                      & 1017                    & 1014                    &   3                     & US                      & ⋯                       & 6                       & 30                      & 2013-01-01 06:00:00     & Phoenix Sky Harbor Intl & 33.43428                & -112.0116               & 1135                    & -7                      & N                       & America/Phoenix        \\\\\n",
       "\t 2013                    & 1                       & 1                       & 627                     & 630                     & -3                      & 1018                    & 1018                    &   0                     & US                      & ⋯                       & 6                       & 30                      & 2013-01-01 06:00:00     & Phoenix Sky Harbor Intl & 33.43428                & -112.0116               & 1135                    & -7                      & N                       & America/Phoenix        \\\\\n",
       "\\end{tabular}\n"
      ],
      "text/markdown": [
       "\n",
       "year | month | day | dep_time | sched_dep_time | dep_delay | arr_time | sched_arr_time | arr_delay | carrier | ⋯ | hour | minute | time_hour | name | lat | lon | alt | tz | dst | tzone | \n",
       "|---|---|---|---|---|---|\n",
       "| 2013                    | 1                       | 1                       | 558                     | 600                     | -2                      |  924                    |  917                    |   7                     | UA                      | ⋯                       | 6                       |  0                      | 2013-01-01 06:00:00     | Los Angeles Intl        | 33.94254                | -118.4081               |  126                    | -8                      | A                       | America/Los_Angeles     | \n",
       "| 2013                    | 1                       | 1                       | 558                     | 600                     | -2                      |  923                    |  937                    | -14                     | UA                      | ⋯                       | 6                       |  0                      | 2013-01-01 06:00:00     | San Francisco Intl      | 37.61897                | -122.3749               |   13                    | -8                      | A                       | America/Los_Angeles     | \n",
       "| 2013                    | 1                       | 1                       | 559                     | 600                     | -1                      |  854                    |  902                    |  -8                     | UA                      | ⋯                       | 6                       |  0                      | 2013-01-01 06:00:00     | Mc Carran Intl          | 36.08006                | -115.1522               | 2141                    | -8                      | A                       | America/Los_Angeles     | \n",
       "| 2013                    | 1                       | 1                       | 611                     | 600                     | 11                      |  945                    |  931                    |  14                     | UA                      | ⋯                       | 6                       |  0                      | 2013-01-01 06:00:00     | San Francisco Intl      | 37.61897                | -122.3749               |   13                    | -8                      | A                       | America/Los_Angeles     | \n",
       "| 2013                    | 1                       | 1                       | 622                     | 630                     | -8                      | 1017                    | 1014                    |   3                     | US                      | ⋯                       | 6                       | 30                      | 2013-01-01 06:00:00     | Phoenix Sky Harbor Intl | 33.43428                | -112.0116               | 1135                    | -7                      | N                       | America/Phoenix         | \n",
       "| 2013                    | 1                       | 1                       | 627                     | 630                     | -3                      | 1018                    | 1018                    |   0                     | US                      | ⋯                       | 6                       | 30                      | 2013-01-01 06:00:00     | Phoenix Sky Harbor Intl | 33.43428                | -112.0116               | 1135                    | -7                      | N                       | America/Phoenix         | \n",
       "\n",
       "\n"
      ],
      "text/plain": [
       "  year month day dep_time sched_dep_time dep_delay arr_time sched_arr_time\n",
       "1 2013 1     1   558      600            -2         924      917          \n",
       "2 2013 1     1   558      600            -2         923      937          \n",
       "3 2013 1     1   559      600            -1         854      902          \n",
       "4 2013 1     1   611      600            11         945      931          \n",
       "5 2013 1     1   622      630            -8        1017     1014          \n",
       "6 2013 1     1   627      630            -3        1018     1018          \n",
       "  arr_delay carrier ⋯ hour minute time_hour           name                   \n",
       "1   7       UA      ⋯ 6     0     2013-01-01 06:00:00 Los Angeles Intl       \n",
       "2 -14       UA      ⋯ 6     0     2013-01-01 06:00:00 San Francisco Intl     \n",
       "3  -8       UA      ⋯ 6     0     2013-01-01 06:00:00 Mc Carran Intl         \n",
       "4  14       UA      ⋯ 6     0     2013-01-01 06:00:00 San Francisco Intl     \n",
       "5   3       US      ⋯ 6    30     2013-01-01 06:00:00 Phoenix Sky Harbor Intl\n",
       "6   0       US      ⋯ 6    30     2013-01-01 06:00:00 Phoenix Sky Harbor Intl\n",
       "  lat      lon       alt  tz dst tzone              \n",
       "1 33.94254 -118.4081  126 -8 A   America/Los_Angeles\n",
       "2 37.61897 -122.3749   13 -8 A   America/Los_Angeles\n",
       "3 36.08006 -115.1522 2141 -8 A   America/Los_Angeles\n",
       "4 37.61897 -122.3749   13 -8 A   America/Los_Angeles\n",
       "5 33.43428 -112.0116 1135 -7 N   America/Phoenix    \n",
       "6 33.43428 -112.0116 1135 -7 N   America/Phoenix    "
      ]
     },
     "metadata": {},
     "output_type": "display_data"
    }
   ],
   "source": [
    "# If I only wanted airports that were on the west side of the US (longitude ~ -100), I can simply use a join\n",
    "flt_airports = airports %>% filter(lon < -100)\n",
    "head(inner_join(flights, flt_airports, by = c('dest'='faa')))"
   ]
  },
  {
   "cell_type": "markdown",
   "metadata": {},
   "source": [
    "### Sets"
   ]
  },
  {
   "cell_type": "markdown",
   "metadata": {},
   "source": [
    "Tidyverse also provides a nice set of functions to perform set analysis on. By a set we mean like what you have learned in probability courses shown in the venn digram below. The main operations you can perform are:\n",
    "* intersect(): Find elements common to both sets\n",
    "* union(): Combine both sets together, but only keep one copy of each duplicate\n",
    "* union_all(): Combine both sets together, regardless of the number of duplicates\n",
    "* setdiff(): Find elements are the difference of two sets\n",
    "* setequal(): Gives a boolean True or False if two sets are equal (e.g. same elements)\n",
    "\n",
    "![](sets.jpg)"
   ]
  },
  {
   "cell_type": "code",
   "execution_count": 36,
   "metadata": {},
   "outputs": [
    {
     "data": {
      "text/html": [
       "<ol class=list-inline>\n",
       "\t<li>1</li>\n",
       "\t<li>3</li>\n",
       "</ol>\n"
      ],
      "text/latex": [
       "\\begin{enumerate*}\n",
       "\\item 1\n",
       "\\item 3\n",
       "\\end{enumerate*}\n"
      ],
      "text/markdown": [
       "1. 1\n",
       "2. 3\n",
       "\n",
       "\n"
      ],
      "text/plain": [
       "[1] 1 3"
      ]
     },
     "metadata": {},
     "output_type": "display_data"
    }
   ],
   "source": [
    "# Operations work on dataframes/tibbles/vectors\n",
    "x = c(1,2,3)\n",
    "y = c(4,3,1)\n",
    "intersect(x,y)"
   ]
  },
  {
   "cell_type": "code",
   "execution_count": 37,
   "metadata": {},
   "outputs": [
    {
     "data": {
      "text/html": [
       "<ol class=list-inline>\n",
       "\t<li>1</li>\n",
       "\t<li>2</li>\n",
       "\t<li>3</li>\n",
       "\t<li>4</li>\n",
       "</ol>\n"
      ],
      "text/latex": [
       "\\begin{enumerate*}\n",
       "\\item 1\n",
       "\\item 2\n",
       "\\item 3\n",
       "\\item 4\n",
       "\\end{enumerate*}\n"
      ],
      "text/markdown": [
       "1. 1\n",
       "2. 2\n",
       "3. 3\n",
       "4. 4\n",
       "\n",
       "\n"
      ],
      "text/plain": [
       "[1] 1 2 3 4"
      ]
     },
     "metadata": {},
     "output_type": "display_data"
    }
   ],
   "source": [
    "union(x,y)"
   ]
  },
  {
   "cell_type": "code",
   "execution_count": 38,
   "metadata": {},
   "outputs": [
    {
     "data": {
      "text/html": [
       "<ol class=list-inline>\n",
       "\t<li>1</li>\n",
       "\t<li>2</li>\n",
       "\t<li>3</li>\n",
       "\t<li>4</li>\n",
       "\t<li>3</li>\n",
       "\t<li>1</li>\n",
       "</ol>\n"
      ],
      "text/latex": [
       "\\begin{enumerate*}\n",
       "\\item 1\n",
       "\\item 2\n",
       "\\item 3\n",
       "\\item 4\n",
       "\\item 3\n",
       "\\item 1\n",
       "\\end{enumerate*}\n"
      ],
      "text/markdown": [
       "1. 1\n",
       "2. 2\n",
       "3. 3\n",
       "4. 4\n",
       "5. 3\n",
       "6. 1\n",
       "\n",
       "\n"
      ],
      "text/plain": [
       "[1] 1 2 3 4 3 1"
      ]
     },
     "metadata": {},
     "output_type": "display_data"
    }
   ],
   "source": [
    "union_all(x,y)"
   ]
  },
  {
   "cell_type": "code",
   "execution_count": 42,
   "metadata": {},
   "outputs": [
    {
     "data": {
      "text/html": [
       "2"
      ],
      "text/latex": [
       "2"
      ],
      "text/markdown": [
       "2"
      ],
      "text/plain": [
       "[1] 2"
      ]
     },
     "metadata": {},
     "output_type": "display_data"
    }
   ],
   "source": [
    "#Setdiff is finding the elements that result from x - y\n",
    "setdiff(x,y)"
   ]
  },
  {
   "cell_type": "code",
   "execution_count": 50,
   "metadata": {},
   "outputs": [
    {
     "name": "stdout",
     "output_type": "stream",
     "text": [
      "First set:  FALSE \n",
      "With new set:  TRUE"
     ]
    }
   ],
   "source": [
    "#setequal tells you if two sets contain the same values (regardless of duplicates)\n",
    "x2 = c(1,1,2,2,3,3)\n",
    "cat(\"First set: \",    setequal(x,y),    \"\\n\")\n",
    "cat(\"With new set: \", setequal(x,x2)   )"
   ]
  },
  {
   "cell_type": "markdown",
   "metadata": {},
   "source": [
    "### Introduction to Stringr"
   ]
  },
  {
   "cell_type": "markdown",
   "metadata": {},
   "source": [
    "Stringr is a package included in tidyverse that has multiple functions that make it easier to work with strings (e.g. 'apple', '4', 'this is a string'). These functions fall into these four main categories:\n",
    "1. Character manipulation **(str_length, str_sub, str_dup)**\n",
    "2. Handling whitespace **(str_pad, str_trunc, str_trim, str_wrap)**\n",
    "3. Handling country-specific strings using 'locale =' **(str_to_upper, str_to_lower, str_to_title, str_order, str_sort)**\n",
    "4. Pattern matching normally using regex **(str_detect, str_subset, str_count, str_locate, str_locate_all, str_extract, str_extract_all, str_match, str_match_all, str_replace, str_replace_all, str_split, str_split_fixed)**"
   ]
  },
  {
   "cell_type": "markdown",
   "metadata": {},
   "source": [
    "## Explore"
   ]
  },
  {
   "cell_type": "markdown",
   "metadata": {
    "collapsed": true
   },
   "source": [
    "The following analysis is a teaser as to the type of text analysis you can do as you learn the basics of working with text in R. This code performs sentiment analysis on books in order to gauge how happy or sad the book is as it progresses. All of the analysis is using tidytext, which is the text mining equivalent to tidyverse.\n",
    "\n",
    "**Note:** *This content uses some functions and techniques that are outside the scope of the course, it is meant to show you how what you're learning can be used in interesting problems.*"
   ]
  },
  {
   "cell_type": "code",
   "execution_count": 3,
   "metadata": {
    "collapsed": true
   },
   "outputs": [],
   "source": [
    "# Bring in tidytext package\n",
    "library(tidytext)"
   ]
  },
  {
   "cell_type": "code",
   "execution_count": 55,
   "metadata": {
    "collapsed": true
   },
   "outputs": [],
   "source": [
    "# Create a function that takes a raw text book and converts it into a nice tibble for analysis\n",
    "tidybook = function(txt,title) {\n",
    "    raw = readLines(txt)\n",
    "    book = as.tibble(raw)\n",
    "    book['book'] = title\n",
    "    colnames(book) = c('text','book')\n",
    "    book = book %>%\n",
    "          mutate(linenumber = row_number(),\n",
    "                 chapter = cumsum(str_detect(text, regex(\"^chapter [\\\\divxlc]\", ignore_case = TRUE)))) %>%\n",
    "          unnest_tokens(word, text)\n",
    "    return(book)\n",
    "}"
   ]
  },
  {
   "cell_type": "code",
   "execution_count": 60,
   "metadata": {},
   "outputs": [
    {
     "data": {
      "text/html": [
       "<table>\n",
       "<thead><tr><th scope=col>book</th><th scope=col>linenumber</th><th scope=col>chapter</th><th scope=col>word</th></tr></thead>\n",
       "<tbody>\n",
       "\t<tr><td>Alice in Wonderland</td><td>1                  </td><td>0                  </td><td>project            </td></tr>\n",
       "\t<tr><td>Alice in Wonderland</td><td>1                  </td><td>0                  </td><td>gutenberg’s        </td></tr>\n",
       "\t<tr><td>Alice in Wonderland</td><td>1                  </td><td>0                  </td><td>alice’s            </td></tr>\n",
       "\t<tr><td>Alice in Wonderland</td><td>1                  </td><td>0                  </td><td>adventures         </td></tr>\n",
       "\t<tr><td>Alice in Wonderland</td><td>1                  </td><td>0                  </td><td>in                 </td></tr>\n",
       "\t<tr><td>Alice in Wonderland</td><td>1                  </td><td>0                  </td><td>wonderland         </td></tr>\n",
       "</tbody>\n",
       "</table>\n"
      ],
      "text/latex": [
       "\\begin{tabular}{r|llll}\n",
       " book & linenumber & chapter & word\\\\\n",
       "\\hline\n",
       "\t Alice in Wonderland & 1                   & 0                   & project            \\\\\n",
       "\t Alice in Wonderland & 1                   & 0                   & gutenberg’s        \\\\\n",
       "\t Alice in Wonderland & 1                   & 0                   & alice’s            \\\\\n",
       "\t Alice in Wonderland & 1                   & 0                   & adventures         \\\\\n",
       "\t Alice in Wonderland & 1                   & 0                   & in                 \\\\\n",
       "\t Alice in Wonderland & 1                   & 0                   & wonderland         \\\\\n",
       "\\end{tabular}\n"
      ],
      "text/markdown": [
       "\n",
       "book | linenumber | chapter | word | \n",
       "|---|---|---|---|---|---|\n",
       "| Alice in Wonderland | 1                   | 0                   | project             | \n",
       "| Alice in Wonderland | 1                   | 0                   | gutenberg’s         | \n",
       "| Alice in Wonderland | 1                   | 0                   | alice’s             | \n",
       "| Alice in Wonderland | 1                   | 0                   | adventures          | \n",
       "| Alice in Wonderland | 1                   | 0                   | in                  | \n",
       "| Alice in Wonderland | 1                   | 0                   | wonderland          | \n",
       "\n",
       "\n"
      ],
      "text/plain": [
       "  book                linenumber chapter word       \n",
       "1 Alice in Wonderland 1          0       project    \n",
       "2 Alice in Wonderland 1          0       gutenberg’s\n",
       "3 Alice in Wonderland 1          0       alice’s    \n",
       "4 Alice in Wonderland 1          0       adventures \n",
       "5 Alice in Wonderland 1          0       in         \n",
       "6 Alice in Wonderland 1          0       wonderland "
      ]
     },
     "metadata": {},
     "output_type": "display_data"
    }
   ],
   "source": [
    "#Try it out on alice in wonderland\n",
    "bk = tidybook('aliceinwonderland.txt', 'Alice in Wonderland')\n",
    "head(bk)"
   ]
  },
  {
   "cell_type": "code",
   "execution_count": 94,
   "metadata": {
    "collapsed": true
   },
   "outputs": [],
   "source": [
    "plotsentiment = function(book, linegrp =50, sent='bing') {\n",
    "    #Calculate sentiment using specific lexicon (bing or nrc)\n",
    "    bk_sentiment = book %>%\n",
    "        inner_join(get_sentiments(sent),by = 'word') %>%\n",
    "        count(book, index = linenumber %/% linegrp, sentiment) %>%\n",
    "        spread(sentiment, n, fill = 0) %>%\n",
    "        mutate(sentiment = positive - negative)\n",
    "    #Plot results\n",
    "    ggplot(bk_sentiment, aes(index, sentiment, fill = book)) +\n",
    "        geom_col(show.legend = FALSE) + \n",
    "        labs(x=\"Line Grouping\", y=\"Sentiment (+/-)\", title=str_c( bk$book[1],\" Sentiment Analysis\"))\n",
    "}"
   ]
  },
  {
   "cell_type": "code",
   "execution_count": 95,
   "metadata": {},
   "outputs": [
    {
     "data": {},
     "metadata": {},
     "output_type": "display_data"
    },
    {
     "data": {
      "image/png": "[encoded data removed]",
      "text/plain": [
       "plot without title"
      ]
     },
     "metadata": {},
     "output_type": "display_data"
    }
   ],
   "source": [
    "plotsentiment(bk,80,'bing')"
   ]
  },
  {
   "cell_type": "markdown",
   "metadata": {
    "collapsed": true
   },
   "source": [
    "## Exercises"
   ]
  },
  {
   "cell_type": "markdown",
   "metadata": {},
   "source": [
    "### Section 13"
   ]
  },
  {
   "cell_type": "code",
   "execution_count": null,
   "metadata": {
    "collapsed": true
   },
   "outputs": [],
   "source": [
    "# Compute the average delay by destination, then join on the airports data frame so you can show the\n",
    "# spatial distribution of delays. Here’s an easy way to draw a map of the United States:\n",
    "airports %>%\n",
    "    semi_join(flights, c(\"faa\" = \"dest\")) %>%\n",
    "    ggplot(aes(lon, lat)) +\n",
    "    borders(\"state\") +\n",
    "    geom_point() +\n",
    "    coord_quickmap()\n",
    "\n",
    "\n",
    "#Solution:\n",
    "avg_dest_delays <-\n",
    "  flights %>%\n",
    "  group_by(dest) %>%\n",
    "  # arrival delay NA's are cancelled flights\n",
    "  summarise(delay = mean(arr_delay, na.rm = TRUE)) %>%\n",
    "  inner_join(airports, by = c(dest = \"faa\"))\n",
    "\n",
    "avg_dest_delays %>%\n",
    "  ggplot(aes(lon, lat, colour = delay)) +\n",
    "    borders(\"state\") +\n",
    "    geom_point() +\n",
    "    coord_quickmap()"
   ]
  },
  {
   "cell_type": "code",
   "execution_count": null,
   "metadata": {
    "collapsed": true
   },
   "outputs": [],
   "source": [
    "# add the location of the origin and destination (i.e. the lat and lon) to flights.\n",
    "\n",
    "#Solution:\n",
    "flights %>%\n",
    "  left_join(airports, by = c(dest = \"faa\")) %>%\n",
    "  left_join(airports, by = c(origin = \"faa\"))"
   ]
  },
  {
   "cell_type": "code",
   "execution_count": null,
   "metadata": {
    "collapsed": true
   },
   "outputs": [],
   "source": [
    "# What happened on June 13 2013? Display the spatial pattern of delays, and then use Google to\n",
    "# cross-reference with the weather.\n",
    "\n",
    "#Solution:\n",
    "library(viridis)\n",
    "#> Loading required package: viridisLite\n",
    "flights %>%\n",
    "  filter(year == 2013, month == 6, day == 13) %>%\n",
    "  group_by(dest) %>%\n",
    "  summarise(delay = mean(arr_delay, na.rm = TRUE)) %>%\n",
    "  inner_join(airports, by = c(\"dest\" = \"faa\")) %>%\n",
    "  ggplot(aes(y = lat, x = lon, size = delay, colour = delay)) +\n",
    "  borders(\"state\") +\n",
    "  geom_point() +\n",
    "  coord_quickmap() + \n",
    "  scale_color_viridis()"
   ]
  },
  {
   "cell_type": "code",
   "execution_count": null,
   "metadata": {
    "collapsed": true
   },
   "outputs": [],
   "source": [
    "# What does it mean for a flight to have a missing tailnum? What do the tail numbers that don’t have\n",
    "# a matching record in planes have in common?\n",
    "\n",
    "#Solution:\n",
    "flights %>%\n",
    "  anti_join(planes, by = \"tailnum\") %>%\n",
    "  count(carrier, sort = TRUE)"
   ]
  },
  {
   "cell_type": "code",
   "execution_count": null,
   "metadata": {
    "collapsed": true
   },
   "outputs": [],
   "source": [
    "# Filter flights to only show flights with planes that have flown at least 100 flights.\n",
    "\n",
    "#Solution:\n",
    "planes_gt100 <- \n",
    "  filter(flights) %>%\n",
    "  group_by(tailnum) %>%\n",
    "  count() %>%\n",
    "  filter(n > 100)\n",
    "\n",
    "flights %>%\n",
    "  semi_join(planes_gt100, by = \"tailnum\")"
   ]
  },
  {
   "cell_type": "code",
   "execution_count": null,
   "metadata": {
    "collapsed": true
   },
   "outputs": [],
   "source": [
    "# Find the 48 hours (over the course of the whole year) that have the worst delays. Cross-reference it\n",
    "# with the weather data. Can you see any patterns?\n",
    "\n",
    "#Solution:\n",
    "flights %>%\n",
    "  group_by(year, month, day) %>%\n",
    "  summarise(total_24 = sum(dep_delay, na.rm = TRUE)+ sum(arr_delay, na.rm = TRUE)) %>%\n",
    "  mutate(total_48 = total_24 + lag(total_24)) %>%\n",
    "  arrange(desc(total_48))"
   ]
  },
  {
   "cell_type": "code",
   "execution_count": null,
   "metadata": {
    "collapsed": true
   },
   "outputs": [],
   "source": [
    "# What does anti_join(flights, airports, by = c(\"dest\" = \"faa\")) tell you? What does\n",
    "# anti_join(airports, flights, by = c(\"faa\" = \"dest\")) tell you?\n",
    "\n",
    "#Solution:\n",
    "# anti_join(flights, airports, by = c(\"dest\" = \"faa\")) are flights that go to an airport that \n",
    "# is not in FAA list of destinations, likely foreign airports.\n",
    "\n",
    "# anti_join(airports, flights, by = c(\"faa\" = \"dest\")) are US airports that don’t have a flight \n",
    "# in the data, meaning that there were no flights to that airport from New York in 2013."
   ]
  },
  {
   "cell_type": "code",
   "execution_count": null,
   "metadata": {
    "collapsed": true
   },
   "outputs": [],
   "source": [
    "# You might expect that there’s an implicit relationship between plane and airline, because each plane\n",
    "# is flown by a single airline. Confirm or reject this hypothesis using the tools you’ve learned in this section\n",
    "\n",
    "#Solution:\n",
    "airplane_multi_carrier <- \n",
    "  flights %>%\n",
    "  group_by(tailnum, carrier) %>%\n",
    "  count() %>%\n",
    "  filter(n() > 1) %>%\n",
    "  select(tailnum) %>%\n",
    "  distinct()\n",
    "\n",
    "airplane_multi_carrier"
   ]
  }
 ],
 "metadata": {
  "kernelspec": {
   "display_name": "R",
   "language": "R",
   "name": "ir"
  },
  "language_info": {
   "codemirror_mode": "r",
   "file_extension": ".r",
   "mimetype": "text/x-r-source",
   "name": "R",
   "pygments_lexer": "r",
   "version": "3.4.3"
  }
 },
 "nbformat": 4,
 "nbformat_minor": 2
}
