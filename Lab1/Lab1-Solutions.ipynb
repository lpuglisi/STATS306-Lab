{
 "cells": [
  {
   "cell_type": "markdown",
   "metadata": {},
   "source": [
    "# Lab 1\n",
    "This lab will focus on the functionality of ggplot and review the basics of R covered in last week's lecture."
   ]
  },
  {
   "cell_type": "markdown",
   "metadata": {},
   "source": [
    "## Review"
   ]
  },
  {
   "cell_type": "markdown",
   "metadata": {},
   "source": [
    "### 1) Environment setup\n",
    "Let's first make sure that you have the programming environment setup correctly. If you installed Jupyter notebook through Anaconda, you should be able to type on the command line:\n",
    "```\n",
    "conda --version\n",
    "```\n",
    "If you installed Jupyter notebook directly, then typing this on the command line should open up Jupyter notebook:\n",
    "```\n",
    "jupyter notebook\n",
    "```\n",
    "If you installed jupyter notebook and the R kernel correctly you should be able to create a new R notebook by going to File > New Notebook > R. Then in the first cell you should be able to run:\n",
    "```\n",
    "library(ggplot2)\n",
    "```\n",
    "I'll stop here to make sure everyone has their environment setup and working."
   ]
  },
  {
   "cell_type": "markdown",
   "metadata": {},
   "source": [
    "### 2) Installing new packages with Anaconda\n",
    "If you want to install a new package with Anaconda, the easiest way to do this is by searching for the package on Anaconda Cloud site (or googling 'anaconda packagename'). Then run the installation code given on your command line. For example, if you wanted to install tidyverse for R (https://anaconda.org/r/r-tidyverse), after finding the linked page here, you would run the code given on your command line to install:\n",
    "```\n",
    "conda install -c r r-tidyverse\n",
    "```"
   ]
  },
  {
   "cell_type": "markdown",
   "metadata": {},
   "source": [
    "Now if I open up jupyter notebook, I would find that I would be able to load in this package:\n",
    "```\n",
    "library(tidyverse)\n",
    "```"
   ]
  },
  {
   "cell_type": "markdown",
   "metadata": {},
   "source": [
    "### 3) Typical Data Science Project\n",
    "![Data Science Lifecycle](DS_Lifecycle.png)\n",
    "1. **Import** - Bring the data into R\n",
    "2. **Tidy** - Clean the data up generally to have this format:\n",
    "    + Each column is a variable\n",
    "    + Each row is an observation\n",
    "3. **Transform** - Filtering data set down, create new variables, calculate summary statistics\n",
    "4. **Visualize** - Create plots to find interesting things about the data\n",
    "5. **Model** - Based on the visualizations you have created, the data will hint at the models to use (e.g. based on the scatter plot regression looks appropiate, based on the summary statistics classification could be relevant, etc.)\n",
    "6. **Communicate** - Using the findings from the previous steps, you will need to communicate what you have found (e.g. looking at the sales data from our mobile app, it looks like millenials are most likely to buy product A in the next quarter)\n",
    "    "
   ]
  },
  {
   "cell_type": "markdown",
   "metadata": {},
   "source": [
    "## Explore"
   ]
  },
  {
   "cell_type": "markdown",
   "metadata": {},
   "source": [
    "This week we will focus on the exercises as there was only one introduction lab last week."
   ]
  },
  {
   "cell_type": "markdown",
   "metadata": {},
   "source": [
    "## Exercises"
   ]
  },
  {
   "cell_type": "markdown",
   "metadata": {},
   "source": [
    "Start by loading in tidyverse package (really a collection of packages). All of these exercises are taken from the texbook Chapter 3 (R for Data Science)."
   ]
  },
  {
   "cell_type": "code",
   "execution_count": null,
   "metadata": {},
   "outputs": [],
   "source": [
    "library(tidyverse)"
   ]
  },
  {
   "cell_type": "markdown",
   "metadata": {},
   "source": [
    "### Section 3.2"
   ]
  },
  {
   "cell_type": "code",
   "execution_count": null,
   "metadata": {
    "collapsed": true
   },
   "outputs": [],
   "source": [
    "# What happens when you run ggplot(data=mpg)? Why?\n",
    "\n",
    "#Solution:\n",
    "#Nothing! You never defined a geom or aesthetic, so ggplot doesn't know what variables to plot or how to plot them"
   ]
  },
  {
   "cell_type": "code",
   "execution_count": null,
   "metadata": {
    "collapsed": true
   },
   "outputs": [],
   "source": [
    "# How many rows and columns are in the mpg data set?\n",
    "\n",
    "#Solution:\n",
    "nrow(mpg)\n",
    "ncol(mpg)"
   ]
  },
  {
   "cell_type": "code",
   "execution_count": null,
   "metadata": {
    "collapsed": true
   },
   "outputs": [],
   "source": [
    "# What does the drv variable describe?\n",
    "\n",
    "#Solution:\n",
    "?mpg #Read and learn about drv"
   ]
  },
  {
   "cell_type": "code",
   "execution_count": null,
   "metadata": {
    "collapsed": true
   },
   "outputs": [],
   "source": [
    "# Make a scatterplot of hwy vs. cyl\n",
    "\n",
    "#Solution:\n",
    "#Highlighting here that you can store these plots in variables and continue to add things onto them\n",
    "plt = ggplot(data = mpg)\n",
    "plt = plt + geom_point(mapping = aes(x=hwy, y=cyl))\n",
    "#Display variable (really a plot)\n",
    "plt"
   ]
  },
  {
   "cell_type": "markdown",
   "metadata": {},
   "source": [
    "### Section 3.3"
   ]
  },
  {
   "cell_type": "code",
   "execution_count": null,
   "metadata": {
    "collapsed": true
   },
   "outputs": [],
   "source": [
    "# Why aren't the points here blue?\n",
    "ggplot(data = mpg) +\n",
    "geom_point(mapping = aes(x = displ, y = hwy, color = \"blue\"))\n",
    "\n",
    "#Solution:\n",
    "# Because the color is defined WITHIN the aesthetic, so ggplot is expecting a variable to define the color by, to set the whole plot to be blue run this\n",
    "ggplot(data = mpg) +\n",
    "geom_point(mapping = aes(x = displ, y = hwy), color = \"blue\")"
   ]
  },
  {
   "cell_type": "code",
   "execution_count": null,
   "metadata": {
    "collapsed": true
   },
   "outputs": [],
   "source": [
    "# How does ggplot handle continuous vs discrete variables as aesthetics for size, shape, and color?\n",
    "\n",
    "#Solution:\n",
    "# Continous variables are defined along a continuous axis, while discrete variables use categories\n",
    "ggplot(data=mpg) + geom_point(mapping = aes(x=hwy, y=displ, size=model))"
   ]
  },
  {
   "cell_type": "code",
   "execution_count": null,
   "metadata": {
    "collapsed": true
   },
   "outputs": [],
   "source": [
    "# What happens when you map the same variable to different aesthetics?\n",
    "\n",
    "#Solution:\n",
    "# The variable is used to define both aesthetics\n",
    "ggplot(data=mpg) + geom_point(mapping = aes(x=hwy, y=displ, size=cty, color=cty))"
   ]
  },
  {
   "cell_type": "code",
   "execution_count": null,
   "metadata": {
    "collapsed": true
   },
   "outputs": [],
   "source": [
    "# What happens when you map an aethetic, like color, to something like \"color = displ < 5\"?\n",
    "\n",
    "#Solution:\n",
    "# The aesthetic is converted to the result of the equation given, in this case it is converted to a boolean (true/false)\n",
    "ggplot(data=mpg) + geom_point(mapping = aes(x=hwy, y=displ,color = displ<5))"
   ]
  },
  {
   "cell_type": "markdown",
   "metadata": {},
   "source": [
    "### Section 3.5"
   ]
  },
  {
   "cell_type": "code",
   "execution_count": null,
   "metadata": {},
   "outputs": [],
   "source": [
    "# What do the empty cells in plot with facet_grid(drv ~ cyl) mean? How do they relate to this plot?\n",
    "ggplot(data = mpg) +\n",
    "geom_point(mapping = aes(x = drv, y = cyl))\n",
    "\n",
    "#Solution:\n",
    "#The empty cells correspond to locations where there is no overlapping data for the the drv and cyl variables"
   ]
  },
  {
   "cell_type": "code",
   "execution_count": null,
   "metadata": {},
   "outputs": [],
   "source": [
    "# What plots does the following code make? What does . do?\n",
    "ggplot(data = mpg) +\n",
    "geom_point(mapping = aes(x = displ, y = hwy)) +\n",
    "facet_grid(drv ~ .)\n",
    "\n",
    "ggplot(data = mpg) +\n",
    "geom_point(mapping = aes(x = displ, y = hwy)) +\n",
    "facet_grid(. ~ cyl)\n",
    "\n",
    "#Solution:\n",
    "# The first plot only splits the displ vs. hwy scatter by row (drv), while the second only splits the scatter by column (cyl)\n",
    "# The '.' in this case just means the facet_grid should ignore the row or column variable"
   ]
  },
  {
   "cell_type": "code",
   "execution_count": null,
   "metadata": {
    "collapsed": true
   },
   "outputs": [],
   "source": [
    "#Read ?facet_wrap. What does nrow do? What does ncol do? What other options control the layout of the individual panels? Why doesn’t facet_grid() have nrow and ncol argument?\n",
    "\n",
    "#Solution:\n",
    "# nrow and ncol set the number of rows and columns to display in the output\n",
    "# 'scales' also defines a layout option to determine how the graphic scales in your screen\n",
    "# face_grid() does not have a nrow or ncol argument as this command always creates a grid the size of however many values, or levels, there are in each categorical variable"
   ]
  },
  {
   "cell_type": "markdown",
   "metadata": {},
   "source": [
    "### Section 3.6"
   ]
  },
  {
   "cell_type": "code",
   "execution_count": null,
   "metadata": {
    "collapsed": true
   },
   "outputs": [],
   "source": [
    "# What geom would you use to draw a line chart? A boxplot? A histogram? An area chart?\n",
    "\n",
    "#Solution:\n",
    "#line: geom_line()\n",
    "#boxplot: geom_boxplot()\n",
    "#histogram: geom_histogram()\n",
    "#area: geom_area()"
   ]
  },
  {
   "cell_type": "code",
   "execution_count": null,
   "metadata": {
    "collapsed": true
   },
   "outputs": [],
   "source": [
    "# What does the se argument to geom_smooth() do?\n",
    "\n",
    "#Solution:\n",
    "# Using ?geom_smooth, 'se' takes a boolean TRUE or FALSE and corresponds to if a confidence interval should be plotted around the line"
   ]
  },
  {
   "cell_type": "code",
   "execution_count": null,
   "metadata": {
    "collapsed": true
   },
   "outputs": [],
   "source": [
    "# Will these two graphs look different? Why/why not?\n",
    "ggplot(data = mpg, mapping = aes(x = displ, y = hwy)) +\n",
    "geom_point() +\n",
    "geom_smooth()\n",
    "\n",
    "ggplot() +\n",
    "geom_point(data = mpg, mapping = aes(x = displ, y = hwy)) +\n",
    "geom_smooth(data = mpg, mapping = aes(x = displ, y = hwy))\n",
    "\n",
    "\n",
    "#Solution:\n",
    "# Exactly the same, since the aesthetic was set in ggplot() for the first plot, this will be inherited by the next geoms. The second plot sets no defaults and then manually defines the aesthetic for each geom."
   ]
  }
 ],
 "metadata": {
  "kernelspec": {
   "display_name": "R",
   "language": "R",
   "name": "ir"
  },
  "language_info": {
   "codemirror_mode": "r",
   "file_extension": ".r",
   "mimetype": "text/x-r-source",
   "name": "R",
   "pygments_lexer": "r",
   "version": "3.4.1"
  }
 },
 "nbformat": 4,
 "nbformat_minor": 2
}
