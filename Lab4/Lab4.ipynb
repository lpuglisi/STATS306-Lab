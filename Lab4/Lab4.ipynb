{
 "cells": [
  {
   "cell_type": "markdown",
   "metadata": {},
   "source": [
    "# Lab 4\n",
    "\n",
    "For this lab we will start by reviewing some core concepts around dates, ranking, and loops. Then we will explore speed dating data and end with exercises that let you explore cocoa rating data."
   ]
  },
  {
   "cell_type": "markdown",
   "metadata": {},
   "source": [
    "## Table of Contents\n",
    "* [Review](#Review)\n",
    "* [Explore](#Explore)\n",
    "* [Exercises](#Exercises)"
   ]
  },
  {
   "cell_type": "code",
   "execution_count": null,
   "metadata": {
    "collapsed": true
   },
   "outputs": [],
   "source": [
    "library(tidyverse)\n",
    "library(nycflights13)"
   ]
  },
  {
   "cell_type": "markdown",
   "metadata": {},
   "source": [
    "## Review"
   ]
  },
  {
   "cell_type": "markdown",
   "metadata": {},
   "source": [
    "## How to date R"
   ]
  },
  {
   "cell_type": "markdown",
   "metadata": {},
   "source": [
    "Dates in R, like any other programming language, can be fairly complicated and need to be handled a special way. When you give R something like \"10/02/2002\", you may think it's obvious that this a date. But R just views this as a regular string type, in other words a piece of text like \"taco cat\". You have to explicitly tell R how to handle these strings so that they are stored properly. For instance is the format of this date MM/DD/YYYY or DD/MM/YYYY? But once you tell R this is a date and it has this format, then doing fairly complex operations on it become much easier (e.g. what day of the week is 03/12/2045? What is the date for 02/10/2060 + 60 days?).\n",
    "\n",
    "There are multiple functions and packages in R for handling dates, here are a couple of the common ways."
   ]
  },
  {
   "cell_type": "markdown",
   "metadata": {},
   "source": [
    "### Base R (No packages required)"
   ]
  },
  {
   "cell_type": "code",
   "execution_count": null,
   "metadata": {
    "collapsed": true
   },
   "outputs": [],
   "source": [
    "#Here we create a date type variable, I used two different formats for the same value\n",
    "dt = as.Date(\"10/02/2002\", format=\"%m/%d/%Y\")\n",
    "dt2 = as.Date(\"October 2, 2002\", format = \"%B %d, %Y\")"
   ]
  },
  {
   "cell_type": "code",
   "execution_count": null,
   "metadata": {
    "collapsed": true
   },
   "outputs": [],
   "source": [
    "#How did I know what format to use? I looked at the documentation\n",
    "?strptime"
   ]
  },
  {
   "cell_type": "code",
   "execution_count": null,
   "metadata": {},
   "outputs": [],
   "source": [
    "#If we look at the class here, we see dt is in fact a date\n",
    "class(dt)"
   ]
  },
  {
   "cell_type": "code",
   "execution_count": null,
   "metadata": {},
   "outputs": [],
   "source": [
    "class(\"10/02/2002\")"
   ]
  },
  {
   "cell_type": "code",
   "execution_count": null,
   "metadata": {},
   "outputs": [],
   "source": [
    "#Now we can do nifty things like add days to our date\n",
    "dt + 10\n",
    "dt2 + 10"
   ]
  },
  {
   "cell_type": "code",
   "execution_count": null,
   "metadata": {},
   "outputs": [],
   "source": [
    "#What if I want the difference between two dates in weeks?\n",
    "dt2 = as.Date(\"12/22/2002\", format=\"%m/%d/%Y\")\n",
    "difftime(dt, dt2, units = \"secs\")"
   ]
  },
  {
   "cell_type": "code",
   "execution_count": null,
   "metadata": {},
   "outputs": [],
   "source": [
    "#You can also use dates in regular R functions now, let's say I want 6 weeks in a vector from the original date I set\n",
    "seq(dt, length = 6, by = 7)"
   ]
  },
  {
   "cell_type": "code",
   "execution_count": null,
   "metadata": {},
   "outputs": [],
   "source": [
    "#You can also still use boolean comparisons\n",
    "# dt2 = \"12/22/2002\"\n",
    "# dt = \"10/02/2002\"\n",
    "dt2 > dt"
   ]
  },
  {
   "cell_type": "code",
   "execution_count": null,
   "metadata": {},
   "outputs": [],
   "source": [
    "#Finally, we can also have datetimes, which are dates with the time also included\n",
    "#In R, there are two main types for this type:  POSIXct and POSIXlt\n",
    "\n",
    "#Taking a look at the flight data notice that time_hour is in a datetime format\n",
    "str(flights)"
   ]
  },
  {
   "cell_type": "code",
   "execution_count": null,
   "metadata": {},
   "outputs": [],
   "source": [
    "#Or just run class() to verify this\n",
    "class(flights$time_hour)"
   ]
  },
  {
   "cell_type": "code",
   "execution_count": null,
   "metadata": {},
   "outputs": [],
   "source": [
    "#If I wanted to create a date field from this, here's all I would need to do\n",
    "flights_new = flights %>% mutate(date = as.Date(time_hour))\n",
    "str(flights_new)"
   ]
  },
  {
   "cell_type": "markdown",
   "metadata": {},
   "source": [
    "### Using a Package (Lubridate)"
   ]
  },
  {
   "cell_type": "markdown",
   "metadata": {},
   "source": [
    "Lubridate is package that uses the underlying datetime R formats (POSIXct and POSIXlt) to make more user friendly functions that make manipulations with dates a lot easier."
   ]
  },
  {
   "cell_type": "code",
   "execution_count": null,
   "metadata": {},
   "outputs": [],
   "source": [
    "library(lubridate)"
   ]
  },
  {
   "cell_type": "code",
   "execution_count": null,
   "metadata": {},
   "outputs": [],
   "source": [
    "#First let's create a simple date with lubridate, notice that it always converts dates to datetimes\n",
    "dt = ISOdate(\"2017\", \"02\", \"08\")\n",
    "dt2 = ymd_hms(\"2017-02-08 05:00:00\")\n",
    "dt"
   ]
  },
  {
   "cell_type": "code",
   "execution_count": null,
   "metadata": {},
   "outputs": [],
   "source": [
    "#Note that under the hood this variable is just a regular R datetime\n",
    "class(dt)"
   ]
  },
  {
   "cell_type": "code",
   "execution_count": null,
   "metadata": {},
   "outputs": [],
   "source": [
    "#Now we have a whole arsenal of functions to play with these datetimes\n",
    "# dt = \"2017-02-08 12:00:00 GMT\"\n",
    "year(dt)\n",
    "week(dt)\n",
    "wday(dt)\n",
    "hour(dt)\n",
    "tz(dt)"
   ]
  },
  {
   "cell_type": "code",
   "execution_count": null,
   "metadata": {},
   "outputs": [],
   "source": [
    "#And there are multiple arguments for each function to get the output you want\n",
    "wday(dt, label = TRUE)"
   ]
  },
  {
   "cell_type": "code",
   "execution_count": null,
   "metadata": {},
   "outputs": [],
   "source": [
    "#We can also add durations to each date\n",
    "# dt = \"2017-02-08 12:00:00 GMT\"\n",
    "dtnew = dt + ddays(5) + dminutes(20) + dhours(10) + dyears(1)\n",
    "dtnew"
   ]
  },
  {
   "cell_type": "markdown",
   "metadata": {},
   "source": [
    "## Ranking Rguments"
   ]
  },
  {
   "cell_type": "markdown",
   "metadata": {},
   "source": [
    "Ranking fields in a data frame is a super common thing that comes up in many problems you'll tackle. Here I'll review some of the basics of doing this in R using the flights dataset."
   ]
  },
  {
   "cell_type": "code",
   "execution_count": null,
   "metadata": {},
   "outputs": [],
   "source": [
    "#Let's first say we want to find the top 10 tail numbers based on the distance traveled\n",
    "head(flights,1)"
   ]
  },
  {
   "cell_type": "code",
   "execution_count": null,
   "metadata": {
    "collapsed": true
   },
   "outputs": [],
   "source": [
    "#Here we make a data fram that takes the top 10 values based on distance\n",
    "flights_ranked = flights %>% arrange(desc(distance)) %>% top_n(10,distance)"
   ]
  },
  {
   "cell_type": "code",
   "execution_count": null,
   "metadata": {},
   "outputs": [],
   "source": [
    "#Huh? Why are there 342 rows?\n",
    "nrow(flights_ranked)"
   ]
  },
  {
   "cell_type": "code",
   "execution_count": null,
   "metadata": {
    "collapsed": true
   },
   "outputs": [],
   "source": [
    "#Let's go about it a different way\n",
    "flights_ranked2 = flights %>% arrange(desc(distance)) %>% mutate(rnk = row_number()) %>% filter(rnk <= 10)"
   ]
  },
  {
   "cell_type": "code",
   "execution_count": null,
   "metadata": {},
   "outputs": [],
   "source": [
    "flights_ranked2"
   ]
  },
  {
   "cell_type": "code",
   "execution_count": null,
   "metadata": {
    "collapsed": true
   },
   "outputs": [],
   "source": [
    "#Now what if I just want the unique tailnumbers?\n",
    "unq_tails = unique(flights_ranked2 %>% .$tailnum)"
   ]
  },
  {
   "cell_type": "code",
   "execution_count": null,
   "metadata": {},
   "outputs": [],
   "source": [
    "unq_tails"
   ]
  },
  {
   "cell_type": "markdown",
   "metadata": {},
   "source": [
    "##  > LoopeR <"
   ]
  },
  {
   "cell_type": "markdown",
   "metadata": {},
   "source": [
    "Some of you have been using loops to solve the HW problems, so I wanted to make sure the syntax and use of these is clear to everyone. In general, loops are SLOW, so you will only want to use them if you really need to. R provides a lot of optimized functions that don't require loops, so always try to use these first.\n",
    "\n",
    "What are loops?\n",
    "Basically, they just a way that you iterate through a vector and perform the same operation to each element. The two main types of loops you will encounter are `for` loops and `while` loops."
   ]
  },
  {
   "cell_type": "code",
   "execution_count": null,
   "metadata": {
    "collapsed": true
   },
   "outputs": [],
   "source": [
    "#Lets create two simple vectors\n",
    "vct1 = c(2,4,5,6)\n",
    "vct2 = c(1,2,3,4)"
   ]
  },
  {
   "cell_type": "code",
   "execution_count": null,
   "metadata": {},
   "outputs": [],
   "source": [
    "seq(1,length(vct1),1)"
   ]
  },
  {
   "cell_type": "code",
   "execution_count": null,
   "metadata": {},
   "outputs": [],
   "source": [
    "#Now we can cycle through each element of vct1\n",
    "#for loops only execute for the length of the element to the right (e.g. vct1)\n",
    "for(i in seq(1,length(vct1),1)) {\n",
    "    print(i)\n",
    "}"
   ]
  },
  {
   "cell_type": "code",
   "execution_count": null,
   "metadata": {},
   "outputs": [],
   "source": [
    "# We can define variables that use elements in these loops\n",
    "x = 0\n",
    "for(i in vct1) {\n",
    "    x = x+i\n",
    "}\n",
    "#see what's in x\n",
    "x"
   ]
  },
  {
   "cell_type": "code",
   "execution_count": null,
   "metadata": {},
   "outputs": [],
   "source": [
    "# More commonly we can also use multiple vectors to do things\n",
    "#Let's say I want to compare each element of vct1 to vct2 and store this in a new vector\n",
    "compare_vect = c()\n",
    "for(i in seq(length(vct1))) {\n",
    "    compare_vect[i] = vct1[i] >= vct2[i]\n",
    "}\n",
    "\n",
    "#Let's see what's in this vector\n",
    "compare_vect"
   ]
  },
  {
   "cell_type": "code",
   "execution_count": null,
   "metadata": {},
   "outputs": [],
   "source": [
    "#While loops can be used if you want to continue to execute until some condition is met\n",
    "\n",
    "#~~~~~~~~~~~~~~~ BE CAREFUL THOUGH! IF YOUR CONDITION IS NEVER MET THE LOOP WILL NOT STOP~~~~~~~~~~~~~~~#\n",
    "cnt = 0\n",
    "while(cnt < 10) {\n",
    "    print(\"hi!\")\n",
    "    cnt = cnt + 1\n",
    "}"
   ]
  },
  {
   "cell_type": "markdown",
   "metadata": {},
   "source": [
    "## Explore"
   ]
  },
  {
   "cell_type": "markdown",
   "metadata": {},
   "source": [
    "The following analysis is based on data and work that can be found on Kaggle. This data was collected by Columbia to investigate gender differences in mate selection (their words not mine :) ). They essentially ran speed dating sessions from 2002 to 2004, each participant was allowed 4 minutes with someone from the opposite sex, then after they were asked if they would like to see their date again and judged them based on six attributes: Attractiveness, Sincerity, Intelligence, Fun, Ambition, and Shared Interests. For this exploration we'll try to spot differences with how men and women choose who they want to date!\n",
    "\n",
    "**Note:** *This content uses some functions and techniques that are outside the scope of the course, it is meant to show you how what you're learning can be used in interesting problems.*"
   ]
  },
  {
   "cell_type": "code",
   "execution_count": null,
   "metadata": {
    "collapsed": true
   },
   "outputs": [],
   "source": [
    "#Library needed for radar charts\n",
    "library(fmsb)"
   ]
  },
  {
   "cell_type": "code",
   "execution_count": null,
   "metadata": {
    "collapsed": true
   },
   "outputs": [],
   "source": [
    "#Load in the data\n",
    "rawdat = read.csv('Speed Dating Data.csv', header = T, stringsAsFactors = F)"
   ]
  },
  {
   "cell_type": "code",
   "execution_count": null,
   "metadata": {},
   "outputs": [],
   "source": [
    "head(rawdat)"
   ]
  },
  {
   "cell_type": "markdown",
   "metadata": {},
   "source": [
    "### What are speed daters looking for in their matches?"
   ]
  },
  {
   "cell_type": "code",
   "execution_count": null,
   "metadata": {
    "collapsed": true
   },
   "outputs": [],
   "source": [
    "#Tons of cleanup code to get it ready for plotting\n",
    "dat = rawdat %>% select(-id, -idg, -condtn, -round, -position, -positin1, -order, -partner, -tuition, -undergra, -mn_sat)\n",
    "at00 = dat %>%select(iid, pid, dec, gender, attr, sinc, intel, fun, amb, shar, like, prob) %>% filter(!pid == \"NA\")\n",
    "at00[is.na(at00)] = 1000\n",
    "at00$total = rowSums(at00[,c(\"attr\", \"sinc\", \"intel\", \"fun\", \"amb\", \"shar\")])\n",
    "at00 = at00 %>% filter(!total == \"6000\")\n",
    "at00[at00 == \"1000\"] = NA\n",
    "at00$total = rowSums(at00[,c(\"attr\", \"sinc\", \"intel\", \"fun\", \"amb\", \"shar\")], na.rm=TRUE)\n",
    "at00 = at00 %>% filter(!total == \"0\")\n",
    "at00 = at00 %>% mutate(pgender = ifelse(gender == 0, 1, 0))\n",
    "at11 =dat %>%group_by(gender) %>%select(iid, gender, attr1_1, sinc1_1, intel1_1, fun1_1, amb1_1, shar1_1) %>% unique()\n",
    "at11[is.na(at11)] = 0\n",
    "at11$total = rowSums(at11[,c(\"attr1_1\", \"sinc1_1\", \"intel1_1\", \"fun1_1\", \"amb1_1\", \"shar1_1\")])\n",
    "at11 = at11 %>% filter(!total == \"0\")\n",
    "at11$attr1_1 = round(at11$attr1_1/at11$total*100, digits = 2)\n",
    "at11$sinc1_1 = round(at11$sinc1_1/at11$total*100, digits = 2)\n",
    "at11$intel1_1 = round(at11$intel1_1/at11$total*100, digits = 2)\n",
    "at11$fun1_1 = round(at11$fun1_1/at11$total*100, digits = 2)\n",
    "at11$amb1_1 = round(at11$amb1_1/at11$total*100, digits = 2)\n",
    "at11$shar1_1 = round(at11$shar1_1/at11$total*100, digits = 2)\n",
    "at11$total = rowSums(at11[,c(\"attr1_1\", \"sinc1_1\", \"intel1_1\", \"fun1_1\", \"amb1_1\", \"shar1_1\")])\n",
    "at11$total = round(at11$total, digits = 0)\n",
    "test1 = at11 %>%group_by(gender) %>% summarise(Attractive = mean(attr1_1), Sincere = mean(sinc1_1), Intelligent = mean(intel1_1), Fun = mean(fun1_1), Ambitious = mean(amb1_1), Interest = mean(shar1_1))\n",
    "test1forplot = test1 %>% select(-gender)\n",
    "maxmin = data.frame(Attractive = c(36, 0),Sincere = c(36, 0),Intelligent = c(36, 0),Fun = c(36, 0),Ambitious = c(36, 0),Interest = c(36, 0))\n",
    "test11 = rbind(maxmin, test1forplot)\n",
    "test11male = test11[c(1,2,4),]\n",
    "test11female = test11[c(1,2,3),]"
   ]
  },
  {
   "cell_type": "code",
   "execution_count": null,
   "metadata": {},
   "outputs": [],
   "source": [
    "#Finally the fun part\n",
    "radarchart(test11,pty = 32,axistype = 0,\n",
    "           pcol = c(adjustcolor(\"hotpink1\", 0.5), adjustcolor(\"cadetblue2\", 0.5)),\n",
    "           pfcol = c(adjustcolor(\"hotpink1\", 0.5), adjustcolor(\"cadetblue2\", 0.5)),\n",
    "           plty = 1,\n",
    "           plwd = 3,\n",
    "           cglty = 1,\n",
    "           cglcol = \"gray88\",\n",
    "           centerzero = TRUE,\n",
    "           seg = 5,\n",
    "           vlcex = 0.75,\n",
    "           palcex = 0.75)\n",
    "\n",
    "legend(\"topleft\", \n",
    "       c(\"Male\", \"Female\"),\n",
    "       fill = c(adjustcolor(\"cadetblue2\", 0.5), adjustcolor(\"hotpink1\", 0.5)))"
   ]
  },
  {
   "cell_type": "markdown",
   "metadata": {},
   "source": [
    "### What do speed daters think their same-sex peers are looking for?"
   ]
  },
  {
   "cell_type": "code",
   "execution_count": null,
   "metadata": {
    "collapsed": true
   },
   "outputs": [],
   "source": [
    "#Again get the data ready as above\n",
    "at41= dat %>%group_by(gender) %>%select(iid, gender, attr4_1, sinc4_1, intel4_1, fun4_1, amb4_1, shar4_1) %>% unique()\n",
    "at41[is.na(at41)] = 0\n",
    "at41$total = rowSums(at41[,c(\"attr4_1\", \"sinc4_1\", \"intel4_1\", \"fun4_1\", \"amb4_1\", \"shar4_1\")])\n",
    "at41= at41 %>% filter(!total == \"0\")\n",
    "at41$attr4_1 = round(at41$attr4_1/at41$total*100, digits = 2)\n",
    "at41$sinc4_1 = round(at41$sinc4_1/at41$total*100, digits = 2)\n",
    "at41$intel4_1 = round(at41$intel4_1/at41$total*100, digits = 2)\n",
    "at41$fun4_1 = round(at41$fun4_1/at41$total*100, digits = 2)\n",
    "at41$amb4_1 = round(at41$amb4_1/at41$total*100, digits = 2)\n",
    "at41$shar4_1 = round(at41$shar4_1/at41$total*100, digits = 2)\n",
    "at41$total = rowSums(at41[,c(\"attr4_1\", \"sinc4_1\", \"intel4_1\", \"fun4_1\", \"amb4_1\", \"shar4_1\")])\n",
    "at41$total = round(at41$total, digits = 0)\n",
    "test4 = at41 %>%group_by(gender) %>% summarise(Attractive = mean(attr4_1), Sincere = mean(sinc4_1), Intelligent = mean(intel4_1), Fun = mean(fun4_1), Ambitious = mean(amb4_1), Interest = mean(shar4_1))\n",
    "test4forplot =test4 %>% select(-gender)\n",
    "test41 = rbind(maxmin, test4forplot)"
   ]
  },
  {
   "cell_type": "code",
   "execution_count": null,
   "metadata": {},
   "outputs": [],
   "source": [
    "radarchart(test41,\n",
    "           pty = 32,\n",
    "           axistype = 0,\n",
    "           pcol = c(adjustcolor(\"hotpink1\", 0.5), adjustcolor(\"cadetblue2\", 0.5)),\n",
    "           pfcol = c(adjustcolor(\"hotpink1\", 0.5), adjustcolor(\"cadetblue2\", 0.5)),\n",
    "           plty = 1,\n",
    "           plwd = 3,\n",
    "           cglty = 1,\n",
    "           cglcol = \"gray88\",\n",
    "           centerzero = TRUE,\n",
    "           seg = 5,\n",
    "           vlcex = 0.75,\n",
    "           palcex = 0.75)\n",
    "\n",
    "legend(\"topleft\", \n",
    "       c(\"Male\", \"Female\"),\n",
    "       fill = c(adjustcolor(\"cadetblue2\", 0.5), adjustcolor(\"hotpink1\", 0.5)))"
   ]
  },
  {
   "cell_type": "markdown",
   "metadata": {},
   "source": [
    "---"
   ]
  },
  {
   "cell_type": "markdown",
   "metadata": {},
   "source": [
    "## Exercises"
   ]
  },
  {
   "cell_type": "markdown",
   "metadata": {},
   "source": [
    "### Explore!"
   ]
  },
  {
   "cell_type": "markdown",
   "metadata": {},
   "source": [
    "For this exercise, it will be more open ended and let you explore and find interesting things in a new data set. I added a few questions you can try to answer below, but feel free to explore more!\n",
    "\n",
    "The data set has flavor profiles of cocoa beans from around the world."
   ]
  },
  {
   "cell_type": "code",
   "execution_count": null,
   "metadata": {
    "collapsed": true
   },
   "outputs": [],
   "source": [
    "#Load in the data\n",
    "cocoa = read_csv(\"flavors_of_cacao.csv\")\n",
    "#Rename the fields to get rid of spaces\n",
    "names(cocoa) = make.names(names(cocoa))\n",
    "#Take a peek\n",
    "head(cocoa)"
   ]
  },
  {
   "cell_type": "markdown",
   "metadata": {},
   "source": [
    "### How many NA values are there? Remove them after you find them."
   ]
  },
  {
   "cell_type": "code",
   "execution_count": null,
   "metadata": {
    "collapsed": true
   },
   "outputs": [],
   "source": [
    "#Add code here"
   ]
  },
  {
   "cell_type": "markdown",
   "metadata": {},
   "source": [
    "### Notice that many Bean Types are missing values, fill these missing values in with \"Missing\".\n",
    "#### Hint: nchar() can be used to find the length of a string/character"
   ]
  },
  {
   "cell_type": "code",
   "execution_count": null,
   "metadata": {
    "collapsed": true
   },
   "outputs": [],
   "source": [
    "#Add code here"
   ]
  },
  {
   "cell_type": "markdown",
   "metadata": {},
   "source": [
    "### The Cocoa Percent field is formatted as a character, but we want to use it as a number, convert this field by creating a new column called Cocoa.Percent.Int\n",
    "#### Hint: You will need to use substr() and as.numeric()"
   ]
  },
  {
   "cell_type": "code",
   "execution_count": null,
   "metadata": {
    "collapsed": true
   },
   "outputs": [],
   "source": [
    "library(stringr)"
   ]
  },
  {
   "cell_type": "code",
   "execution_count": null,
   "metadata": {
    "collapsed": true
   },
   "outputs": [],
   "source": [
    "#Add code here"
   ]
  },
  {
   "cell_type": "markdown",
   "metadata": {},
   "source": [
    "### Explore if there is a linear relationship between Rating and the newly created Cocoa Percent field (e.g. scatterplot!)"
   ]
  },
  {
   "cell_type": "code",
   "execution_count": null,
   "metadata": {
    "collapsed": true
   },
   "outputs": [],
   "source": [
    "#Add code here"
   ]
  },
  {
   "cell_type": "markdown",
   "metadata": {},
   "source": [
    "### Which company location has the highest average rating? How many cocoas were included in this rating?"
   ]
  },
  {
   "cell_type": "code",
   "execution_count": null,
   "metadata": {
    "collapsed": true
   },
   "outputs": [],
   "source": [
    "#Add code here"
   ]
  },
  {
   "cell_type": "markdown",
   "metadata": {},
   "source": [
    "### Perhaps the countries with lower ratings, just have more cocoa ratings in general, which brings the average down. Try looking at the top 6 countries that have the most ratings and see the distribution of the ratings for each."
   ]
  },
  {
   "cell_type": "code",
   "execution_count": null,
   "metadata": {
    "collapsed": true
   },
   "outputs": [],
   "source": [
    "#Add code here"
   ]
  },
  {
   "cell_type": "markdown",
   "metadata": {},
   "source": [
    "### Investigate if certain Bean Types appear to be higher rated than others. How many ratings are there for each of these types? "
   ]
  },
  {
   "cell_type": "code",
   "execution_count": null,
   "metadata": {
    "collapsed": true
   },
   "outputs": [],
   "source": [
    "#Add code here"
   ]
  },
  {
   "cell_type": "markdown",
   "metadata": {},
   "source": [
    "### Focusing on the bean type with the largest number of ratings, does it appear to be a normal distribution?"
   ]
  },
  {
   "cell_type": "code",
   "execution_count": null,
   "metadata": {
    "collapsed": true
   },
   "outputs": [],
   "source": [
    "#Add code here"
   ]
  }
 ],
 "metadata": {
  "kernelspec": {
   "display_name": "R",
   "language": "R",
   "name": "ir"
  },
  "language_info": {
   "codemirror_mode": "r",
   "file_extension": ".r",
   "mimetype": "text/x-r-source",
   "name": "R",
   "pygments_lexer": "r",
   "version": "3.4.2"
  }
 },
 "nbformat": 4,
 "nbformat_minor": 2
}
