{
 "cells": [
  {
   "cell_type": "markdown",
   "metadata": {},
   "source": [
    "# Lab 9\n",
    "\n",
    "This lab will focus mainly on last week's content on lists and vectors, and then start to touch on concepts from functional programming, including memoization and closures. We will also talk a bit about modeling."
   ]
  },
  {
   "cell_type": "markdown",
   "metadata": {},
   "source": [
    "## Table of Contents\n",
    "* [Review/Explore](#Review/Explore)\n",
    "* [Exercises](#Exercises)"
   ]
  },
  {
   "cell_type": "code",
   "execution_count": 2,
   "metadata": {},
   "outputs": [
    {
     "name": "stderr",
     "output_type": "stream",
     "text": [
      "── Attaching packages ─────────────────────────────────────── tidyverse 1.2.1 ──\n",
      "✔ ggplot2 2.2.1     ✔ purrr   0.2.4\n",
      "✔ tibble  1.4.1     ✔ dplyr   0.7.4\n",
      "✔ tidyr   0.7.2     ✔ stringr 1.2.0\n",
      "✔ readr   1.1.1     ✔ forcats 0.2.0\n",
      "── Conflicts ────────────────────────────────────────── tidyverse_conflicts() ──\n",
      "✖ dplyr::filter() masks stats::filter()\n",
      "✖ dplyr::lag()    masks stats::lag()\n"
     ]
    }
   ],
   "source": [
    "library(tidyverse)\n",
    "library(stringr)\n",
    "library(modelr)"
   ]
  },
  {
   "cell_type": "markdown",
   "metadata": {},
   "source": [
    "## Review/Explore"
   ]
  },
  {
   "cell_type": "markdown",
   "metadata": {},
   "source": [
    "### Vectors and Lists"
   ]
  },
  {
   "cell_type": "markdown",
   "metadata": {},
   "source": [
    "Vectors and lists are very similar, but vectors all have to have to same data type, while lists can contain multiple data types. Lists are what are used behind the scenes to make dataframes/tibbles work."
   ]
  },
  {
   "cell_type": "code",
   "execution_count": 3,
   "metadata": {},
   "outputs": [
    {
     "data": {
      "text/html": [
       "<ol class=list-inline>\n",
       "\t<li>'1'</li>\n",
       "\t<li>'2'</li>\n",
       "\t<li>'3'</li>\n",
       "</ol>\n"
      ],
      "text/latex": [
       "\\begin{enumerate*}\n",
       "\\item '1'\n",
       "\\item '2'\n",
       "\\item '3'\n",
       "\\end{enumerate*}\n"
      ],
      "text/markdown": [
       "1. '1'\n",
       "2. '2'\n",
       "3. '3'\n",
       "\n",
       "\n"
      ],
      "text/plain": [
       "[1] \"1\" \"2\" \"3\""
      ]
     },
     "metadata": {},
     "output_type": "display_data"
    }
   ],
   "source": [
    "# If I try to mix data types, R forces it to be one type (character)\n",
    "x = c(1,2,'3')\n",
    "x"
   ]
  },
  {
   "cell_type": "code",
   "execution_count": 5,
   "metadata": {},
   "outputs": [
    {
     "data": {
      "text/html": [
       "'character'"
      ],
      "text/latex": [
       "'character'"
      ],
      "text/markdown": [
       "'character'"
      ],
      "text/plain": [
       "[1] \"character\""
      ]
     },
     "metadata": {},
     "output_type": "display_data"
    },
    {
     "data": {
      "text/html": [
       "'character'"
      ],
      "text/latex": [
       "'character'"
      ],
      "text/markdown": [
       "'character'"
      ],
      "text/plain": [
       "[1] \"character\""
      ]
     },
     "metadata": {},
     "output_type": "display_data"
    }
   ],
   "source": [
    "#R has two data types (annoying and confusing), generally class refers to the type from a object oriented POV\n",
    "# and  typeof is the type from R's native POV\n",
    "typeof(x)\n",
    "class(x)"
   ]
  },
  {
   "cell_type": "code",
   "execution_count": 6,
   "metadata": {},
   "outputs": [
    {
     "data": {
      "text/html": [
       "<dl class=dl-horizontal>\n",
       "\t<dt>col1</dt>\n",
       "\t\t<dd>1</dd>\n",
       "\t<dt>col2</dt>\n",
       "\t\t<dd>45</dd>\n",
       "</dl>\n"
      ],
      "text/latex": [
       "\\begin{description*}\n",
       "\\item[col1] 1\n",
       "\\item[col2] 45\n",
       "\\end{description*}\n"
      ],
      "text/markdown": [
       "col1\n",
       ":   1col2\n",
       ":   45\n",
       "\n"
      ],
      "text/plain": [
       "col1 col2 \n",
       "   1   45 "
      ]
     },
     "metadata": {},
     "output_type": "display_data"
    }
   ],
   "source": [
    "#I can also make a vector look like a list with names\n",
    "x = c(col1=1,col2=45)\n",
    "x"
   ]
  },
  {
   "cell_type": "code",
   "execution_count": 7,
   "metadata": {},
   "outputs": [
    {
     "data": {
      "text/html": [
       "<ol class=list-inline>\n",
       "\t<li>'col1'</li>\n",
       "\t<li>'col2'</li>\n",
       "</ol>\n"
      ],
      "text/latex": [
       "\\begin{enumerate*}\n",
       "\\item 'col1'\n",
       "\\item 'col2'\n",
       "\\end{enumerate*}\n"
      ],
      "text/markdown": [
       "1. 'col1'\n",
       "2. 'col2'\n",
       "\n",
       "\n"
      ],
      "text/plain": [
       "[1] \"col1\" \"col2\""
      ]
     },
     "metadata": {},
     "output_type": "display_data"
    }
   ],
   "source": [
    "#To see the names in any variable, just use the names() function\n",
    "names(x)"
   ]
  },
  {
   "cell_type": "code",
   "execution_count": 10,
   "metadata": {},
   "outputs": [
    {
     "data": {
      "text/html": [
       "<dl>\n",
       "\t<dt>$col1</dt>\n",
       "\t\t<dd><ol class=list-inline>\n",
       "\t<li>1</li>\n",
       "\t<li>2</li>\n",
       "\t<li>3</li>\n",
       "\t<li>4</li>\n",
       "</ol>\n",
       "</dd>\n",
       "\t<dt>$col2</dt>\n",
       "\t\t<dd><ol class=list-inline>\n",
       "\t<li>'dog'</li>\n",
       "\t<li>'banana'</li>\n",
       "\t<li>'cat'</li>\n",
       "</ol>\n",
       "</dd>\n",
       "</dl>\n"
      ],
      "text/latex": [
       "\\begin{description}\n",
       "\\item[\\$col1] \\begin{enumerate*}\n",
       "\\item 1\n",
       "\\item 2\n",
       "\\item 3\n",
       "\\item 4\n",
       "\\end{enumerate*}\n",
       "\n",
       "\\item[\\$col2] \\begin{enumerate*}\n",
       "\\item 'dog'\n",
       "\\item 'banana'\n",
       "\\item 'cat'\n",
       "\\end{enumerate*}\n",
       "\n",
       "\\end{description}\n"
      ],
      "text/markdown": [
       "$col1\n",
       ":   1. 1\n",
       "2. 2\n",
       "3. 3\n",
       "4. 4\n",
       "\n",
       "\n",
       "\n",
       "$col2\n",
       ":   1. 'dog'\n",
       "2. 'banana'\n",
       "3. 'cat'\n",
       "\n",
       "\n",
       "\n",
       "\n",
       "\n"
      ],
      "text/plain": [
       "$col1\n",
       "[1] 1 2 3 4\n",
       "\n",
       "$col2\n",
       "[1] \"dog\"    \"banana\" \"cat\"   \n"
      ]
     },
     "metadata": {},
     "output_type": "display_data"
    }
   ],
   "source": [
    "#But lists enable me to now mix data types together (note that the second column has a different number of values)\n",
    "lst1 = list(col1 = c(1,2,3,4), col2=c('dog','banana','cat'))\n",
    "lst1"
   ]
  },
  {
   "cell_type": "code",
   "execution_count": 11,
   "metadata": {},
   "outputs": [
    {
     "data": {
      "text/html": [
       "<strong>$col1</strong> = <ol class=list-inline>\n",
       "\t<li>1</li>\n",
       "\t<li>2</li>\n",
       "\t<li>3</li>\n",
       "\t<li>4</li>\n",
       "</ol>\n"
      ],
      "text/latex": [
       "\\textbf{\\$col1} = \\begin{enumerate*}\n",
       "\\item 1\n",
       "\\item 2\n",
       "\\item 3\n",
       "\\item 4\n",
       "\\end{enumerate*}\n"
      ],
      "text/markdown": [
       "**$col1** = 1. 1\n",
       "2. 2\n",
       "3. 3\n",
       "4. 4\n",
       "\n",
       "\n"
      ],
      "text/plain": [
       "$col1\n",
       "[1] 1 2 3 4\n"
      ]
     },
     "metadata": {},
     "output_type": "display_data"
    }
   ],
   "source": [
    "#Access the first column\n",
    "lst1['col1']"
   ]
  },
  {
   "cell_type": "code",
   "execution_count": 12,
   "metadata": {},
   "outputs": [
    {
     "data": {
      "text/html": [
       "<ol class=list-inline>\n",
       "\t<li>1</li>\n",
       "\t<li>2</li>\n",
       "\t<li>3</li>\n",
       "\t<li>4</li>\n",
       "</ol>\n"
      ],
      "text/latex": [
       "\\begin{enumerate*}\n",
       "\\item 1\n",
       "\\item 2\n",
       "\\item 3\n",
       "\\item 4\n",
       "\\end{enumerate*}\n"
      ],
      "text/markdown": [
       "1. 1\n",
       "2. 2\n",
       "3. 3\n",
       "4. 4\n",
       "\n",
       "\n"
      ],
      "text/plain": [
       "[1] 1 2 3 4"
      ]
     },
     "metadata": {},
     "output_type": "display_data"
    }
   ],
   "source": [
    "#Access the first column\n",
    "lst1[[1]]"
   ]
  },
  {
   "cell_type": "markdown",
   "metadata": {},
   "source": [
    "### Map functions (and apply)"
   ]
  },
  {
   "cell_type": "markdown",
   "metadata": {},
   "source": [
    "Map functions are very common in R and other languages, generally all they do is take a dataframe (or list or similar) and apply a function to each column of the dataset. The main types of map functions in tidyverse are as follows:\n",
    "\n",
    "- `map()` makes a list.\n",
    "- `map_lgl()` makes a logical vector.\n",
    "- `map_int()` makes an integer vector.\n",
    "- `map_dbl()` makes a double vector.\n",
    "- `map_chr()` makes a character vector."
   ]
  },
  {
   "cell_type": "code",
   "execution_count": 16,
   "metadata": {},
   "outputs": [
    {
     "data": {
      "text/html": [
       "<table>\n",
       "<thead><tr><th scope=col>manufacturer</th><th scope=col>model</th><th scope=col>displ</th><th scope=col>year</th><th scope=col>cyl</th><th scope=col>trans</th><th scope=col>drv</th><th scope=col>cty</th><th scope=col>hwy</th><th scope=col>fl</th><th scope=col>class</th></tr></thead>\n",
       "<tbody>\n",
       "\t<tr><td>audi      </td><td>a4        </td><td>1.8       </td><td>1999      </td><td>4         </td><td>auto(l5)  </td><td>f         </td><td>18        </td><td>29        </td><td>p         </td><td>compact   </td></tr>\n",
       "\t<tr><td>audi      </td><td>a4        </td><td>1.8       </td><td>1999      </td><td>4         </td><td>manual(m5)</td><td>f         </td><td>21        </td><td>29        </td><td>p         </td><td>compact   </td></tr>\n",
       "\t<tr><td>audi      </td><td>a4        </td><td>2.0       </td><td>2008      </td><td>4         </td><td>manual(m6)</td><td>f         </td><td>20        </td><td>31        </td><td>p         </td><td>compact   </td></tr>\n",
       "\t<tr><td>audi      </td><td>a4        </td><td>2.0       </td><td>2008      </td><td>4         </td><td>auto(av)  </td><td>f         </td><td>21        </td><td>30        </td><td>p         </td><td>compact   </td></tr>\n",
       "\t<tr><td>audi      </td><td>a4        </td><td>2.8       </td><td>1999      </td><td>6         </td><td>auto(l5)  </td><td>f         </td><td>16        </td><td>26        </td><td>p         </td><td>compact   </td></tr>\n",
       "\t<tr><td>audi      </td><td>a4        </td><td>2.8       </td><td>1999      </td><td>6         </td><td>manual(m5)</td><td>f         </td><td>18        </td><td>26        </td><td>p         </td><td>compact   </td></tr>\n",
       "</tbody>\n",
       "</table>\n"
      ],
      "text/latex": [
       "\\begin{tabular}{r|lllllllllll}\n",
       " manufacturer & model & displ & year & cyl & trans & drv & cty & hwy & fl & class\\\\\n",
       "\\hline\n",
       "\t audi       & a4         & 1.8        & 1999       & 4          & auto(l5)   & f          & 18         & 29         & p          & compact   \\\\\n",
       "\t audi       & a4         & 1.8        & 1999       & 4          & manual(m5) & f          & 21         & 29         & p          & compact   \\\\\n",
       "\t audi       & a4         & 2.0        & 2008       & 4          & manual(m6) & f          & 20         & 31         & p          & compact   \\\\\n",
       "\t audi       & a4         & 2.0        & 2008       & 4          & auto(av)   & f          & 21         & 30         & p          & compact   \\\\\n",
       "\t audi       & a4         & 2.8        & 1999       & 6          & auto(l5)   & f          & 16         & 26         & p          & compact   \\\\\n",
       "\t audi       & a4         & 2.8        & 1999       & 6          & manual(m5) & f          & 18         & 26         & p          & compact   \\\\\n",
       "\\end{tabular}\n"
      ],
      "text/markdown": [
       "\n",
       "manufacturer | model | displ | year | cyl | trans | drv | cty | hwy | fl | class | \n",
       "|---|---|---|---|---|---|\n",
       "| audi       | a4         | 1.8        | 1999       | 4          | auto(l5)   | f          | 18         | 29         | p          | compact    | \n",
       "| audi       | a4         | 1.8        | 1999       | 4          | manual(m5) | f          | 21         | 29         | p          | compact    | \n",
       "| audi       | a4         | 2.0        | 2008       | 4          | manual(m6) | f          | 20         | 31         | p          | compact    | \n",
       "| audi       | a4         | 2.0        | 2008       | 4          | auto(av)   | f          | 21         | 30         | p          | compact    | \n",
       "| audi       | a4         | 2.8        | 1999       | 6          | auto(l5)   | f          | 16         | 26         | p          | compact    | \n",
       "| audi       | a4         | 2.8        | 1999       | 6          | manual(m5) | f          | 18         | 26         | p          | compact    | \n",
       "\n",
       "\n"
      ],
      "text/plain": [
       "  manufacturer model displ year cyl trans      drv cty hwy fl class  \n",
       "1 audi         a4    1.8   1999 4   auto(l5)   f   18  29  p  compact\n",
       "2 audi         a4    1.8   1999 4   manual(m5) f   21  29  p  compact\n",
       "3 audi         a4    2.0   2008 4   manual(m6) f   20  31  p  compact\n",
       "4 audi         a4    2.0   2008 4   auto(av)   f   21  30  p  compact\n",
       "5 audi         a4    2.8   1999 6   auto(l5)   f   16  26  p  compact\n",
       "6 audi         a4    2.8   1999 6   manual(m5) f   18  26  p  compact"
      ]
     },
     "metadata": {},
     "output_type": "display_data"
    },
    {
     "name": "stderr",
     "output_type": "stream",
     "text": [
      "Warning message in mean.default(.x[[i]], ...):\n",
      "“argument is not numeric or logical: returning NA”Warning message in mean.default(.x[[i]], ...):\n",
      "“argument is not numeric or logical: returning NA”Warning message in mean.default(.x[[i]], ...):\n",
      "“argument is not numeric or logical: returning NA”Warning message in mean.default(.x[[i]], ...):\n",
      "“argument is not numeric or logical: returning NA”Warning message in mean.default(.x[[i]], ...):\n",
      "“argument is not numeric or logical: returning NA”Warning message in mean.default(.x[[i]], ...):\n",
      "“argument is not numeric or logical: returning NA”"
     ]
    },
    {
     "data": {
      "text/html": [
       "<dl>\n",
       "\t<dt>$manufacturer</dt>\n",
       "\t\t<dd>&lt;NA&gt;</dd>\n",
       "\t<dt>$model</dt>\n",
       "\t\t<dd>&lt;NA&gt;</dd>\n",
       "\t<dt>$displ</dt>\n",
       "\t\t<dd>3.47179487179487</dd>\n",
       "\t<dt>$year</dt>\n",
       "\t\t<dd>2003.5</dd>\n",
       "\t<dt>$cyl</dt>\n",
       "\t\t<dd>5.88888888888889</dd>\n",
       "\t<dt>$trans</dt>\n",
       "\t\t<dd>&lt;NA&gt;</dd>\n",
       "\t<dt>$drv</dt>\n",
       "\t\t<dd>&lt;NA&gt;</dd>\n",
       "\t<dt>$cty</dt>\n",
       "\t\t<dd>16.8589743589744</dd>\n",
       "\t<dt>$hwy</dt>\n",
       "\t\t<dd>23.4401709401709</dd>\n",
       "\t<dt>$fl</dt>\n",
       "\t\t<dd>&lt;NA&gt;</dd>\n",
       "\t<dt>$class</dt>\n",
       "\t\t<dd>&lt;NA&gt;</dd>\n",
       "</dl>\n"
      ],
      "text/latex": [
       "\\begin{description}\n",
       "\\item[\\$manufacturer] <NA>\n",
       "\\item[\\$model] <NA>\n",
       "\\item[\\$displ] 3.47179487179487\n",
       "\\item[\\$year] 2003.5\n",
       "\\item[\\$cyl] 5.88888888888889\n",
       "\\item[\\$trans] <NA>\n",
       "\\item[\\$drv] <NA>\n",
       "\\item[\\$cty] 16.8589743589744\n",
       "\\item[\\$hwy] 23.4401709401709\n",
       "\\item[\\$fl] <NA>\n",
       "\\item[\\$class] <NA>\n",
       "\\end{description}\n"
      ],
      "text/markdown": [
       "$manufacturer\n",
       ":   &lt;NA&gt;\n",
       "$model\n",
       ":   &lt;NA&gt;\n",
       "$displ\n",
       ":   3.47179487179487\n",
       "$year\n",
       ":   2003.5\n",
       "$cyl\n",
       ":   5.88888888888889\n",
       "$trans\n",
       ":   &lt;NA&gt;\n",
       "$drv\n",
       ":   &lt;NA&gt;\n",
       "$cty\n",
       ":   16.8589743589744\n",
       "$hwy\n",
       ":   23.4401709401709\n",
       "$fl\n",
       ":   &lt;NA&gt;\n",
       "$class\n",
       ":   &lt;NA&gt;\n",
       "\n",
       "\n"
      ],
      "text/plain": [
       "$manufacturer\n",
       "[1] NA\n",
       "\n",
       "$model\n",
       "[1] NA\n",
       "\n",
       "$displ\n",
       "[1] 3.471795\n",
       "\n",
       "$year\n",
       "[1] 2003.5\n",
       "\n",
       "$cyl\n",
       "[1] 5.888889\n",
       "\n",
       "$trans\n",
       "[1] NA\n",
       "\n",
       "$drv\n",
       "[1] NA\n",
       "\n",
       "$cty\n",
       "[1] 16.85897\n",
       "\n",
       "$hwy\n",
       "[1] 23.44017\n",
       "\n",
       "$fl\n",
       "[1] NA\n",
       "\n",
       "$class\n",
       "[1] NA\n"
      ]
     },
     "metadata": {},
     "output_type": "display_data"
    }
   ],
   "source": [
    "#If I want the mean of every column in mpg\n",
    "head(mpg)\n",
    "#Simply do this (note that non numeric columns gives you an NA)\n",
    "map(mpg,mean)"
   ]
  },
  {
   "cell_type": "markdown",
   "metadata": {},
   "source": [
    "Apply functions also are very common in R, but essentially perform the same type of operations that map can do. The website below does a fairly good job at summarizing each of the main apply functions that exist in R.\n",
    "\n",
    "https://www.r-bloggers.com/using-the-apply-family-of-functions-in-r/"
   ]
  },
  {
   "cell_type": "markdown",
   "metadata": {},
   "source": [
    "### Reduce functions"
   ]
  },
  {
   "cell_type": "markdown",
   "metadata": {},
   "source": [
    "The reduce function is the other side of the coin that are often used in map functions (you may have heard of MapReduce in Hadoop), but essentially all a reduce function does is reduce a vector to a single value. In other words, you could say that sum() is a type of reduce function as it takes a longer input and reduces it to a single value. In R, the reduce() function takes an input vector and continuously applies a function until the output is simplified."
   ]
  },
  {
   "cell_type": "code",
   "execution_count": 22,
   "metadata": {},
   "outputs": [
    {
     "data": {
      "text/html": [
       "0.166666666666667"
      ],
      "text/latex": [
       "0.166666666666667"
      ],
      "text/markdown": [
       "0.166666666666667"
      ],
      "text/plain": [
       "[1] 0.1666667"
      ]
     },
     "metadata": {},
     "output_type": "display_data"
    }
   ],
   "source": [
    "#If I wanted to continuously divide each element by each other, I could do something like this\n",
    "fc = function(x,y,...) {\n",
    "    x/y\n",
    "}\n",
    "x = c(1,2,3)\n",
    "# Now the results: (1/2)/3 = 0.1666\n",
    "reduce(x,fc)"
   ]
  },
  {
   "cell_type": "markdown",
   "metadata": {},
   "source": [
    "### Closures"
   ]
  },
  {
   "cell_type": "markdown",
   "metadata": {},
   "source": [
    "From Wikipedia: \"A closure is a technique for implementing lexically scoped name binding in a language with first-class functions.\"\n",
    "\n",
    "Great, thanks wikipedia! But much more simply (and a bit different than the formal definition), a closure is a function that can be stored as a variable and can access other variables not defined within the function definition."
   ]
  },
  {
   "cell_type": "code",
   "execution_count": 23,
   "metadata": {},
   "outputs": [
    {
     "name": "stdout",
     "output_type": "stream",
     "text": [
      "[1] \"I am your closure,  Luke\"\n"
     ]
    }
   ],
   "source": [
    "# fc is a closure as it can be defined as a variable and access nm outside of its scope\n",
    "nm = 'Luke'\n",
    "fc = function() {\n",
    "    print(paste('I am your closure, ',nm))\n",
    "}\n",
    "fc()"
   ]
  },
  {
   "cell_type": "markdown",
   "metadata": {},
   "source": [
    "### Memoization"
   ]
  },
  {
   "cell_type": "markdown",
   "metadata": {},
   "source": [
    "Again from Wikipedia: \"Memoization is an optimization technique used primarily to speed up computer programs by storing the results of expensive function calls and returning the cached result when the same inputs occur again.\"\n",
    "\n",
    "A bit better! Pretty simple concept, it just means that you should store the results of functions to speed up further calls to the same function."
   ]
  },
  {
   "cell_type": "markdown",
   "metadata": {},
   "source": [
    "Remember the Fibonacci recursive function you had to make for last week's HW? Well when you call that function on fib(7), the diagram below shows all of the calls you would have to make in order to calculate this. Notice how many of the results are duplicated (fib(5), fib(4), etc.), so you could use a technique like memoization to store some of these duplicated results so we don't have to recalcute them over and over."
   ]
  },
  {
   "cell_type": "code",
   "execution_count": 29,
   "metadata": {},
   "outputs": [
    {
     "name": "stdout",
     "output_type": "stream",
     "text": [
      "[1] \"function called!\"\n",
      "[1] \"function called!\"\n",
      "[1] \"function called!\"\n",
      "[1] \"function called!\"\n",
      "[1] \"function called!\"\n",
      "[1] \"function called!\"\n",
      "[1] \"function called!\"\n",
      "[1] \"function called!\"\n",
      "[1] \"function called!\"\n",
      "[1] \"function called!\"\n",
      "[1] \"function called!\"\n",
      "[1] \"function called!\"\n",
      "[1] \"function called!\"\n",
      "[1] \"function called!\"\n",
      "[1] \"function called!\"\n",
      "[1] \"function called!\"\n",
      "[1] \"function called!\"\n",
      "[1] \"function called!\"\n",
      "[1] \"function called!\"\n",
      "[1] \"function called!\"\n",
      "[1] \"function called!\"\n",
      "[1] \"function called!\"\n",
      "[1] \"function called!\"\n",
      "[1] \"function called!\"\n",
      "[1] \"function called!\"\n",
      "[1] \"function called!\"\n",
      "[1] \"function called!\"\n",
      "[1] \"function called!\"\n",
      "[1] \"function called!\"\n",
      "[1] \"function called!\"\n",
      "[1] \"function called!\"\n",
      "[1] \"function called!\"\n",
      "[1] \"function called!\"\n",
      "[1] \"function called!\"\n",
      "[1] \"function called!\"\n",
      "[1] \"function called!\"\n",
      "[1] \"function called!\"\n",
      "[1] \"function called!\"\n",
      "[1] \"function called!\"\n",
      "[1] \"function called!\"\n",
      "[1] \"function called!\"\n"
     ]
    },
    {
     "data": {
      "text/html": [
       "13"
      ],
      "text/latex": [
       "13"
      ],
      "text/markdown": [
       "13"
      ],
      "text/plain": [
       "[1] 13"
      ]
     },
     "metadata": {},
     "output_type": "display_data"
    }
   ],
   "source": [
    "#Recursive fib function\n",
    "fib <- function(n) {\n",
    "    print('function called!')\n",
    "    if(n <= 1) {\n",
    "        return(n)\n",
    "    } else {\n",
    "        return(fib(n-1) + fib(n-2))\n",
    "    }\n",
    "}\n",
    "# The digram below shows how many times this function needs to be called\n",
    "fib(7)"
   ]
  },
  {
   "cell_type": "markdown",
   "metadata": {},
   "source": [
    "![](memoi.png)"
   ]
  },
  {
   "cell_type": "code",
   "execution_count": 31,
   "metadata": {},
   "outputs": [],
   "source": [
    "#How would I do this using memoization?\n",
    "\n",
    "#Here is a little code to get you started\n",
    "#Here is where we will store the results as they're calculated\n",
    "memo = rep(NA_integer_, 100)\n",
    "#Now setup the function\n",
    "fib_memo <- function(n) {\n",
    "    if (is.na(memo[[n]])) { #Before doing anything, check that the value you are about to calculate doesn't exist\n",
    "        ##CODE\n",
    "    }\n",
    "    memo[[n]]\n",
    "}"
   ]
  },
  {
   "cell_type": "markdown",
   "metadata": {},
   "source": [
    "### Modeling Intro"
   ]
  },
  {
   "cell_type": "markdown",
   "metadata": {
    "collapsed": true
   },
   "source": [
    "Modeling is a very general concept of simply using a 'model' for data we are interested in. For example, if we see a strong linear relationship between two variables, we could say that a linear model (y = b0 + b1x) would fit this data very well. But don't forget an important point about modeling:\n",
    "\n",
    "#### All models are wrong! But they can be useful\n",
    "\n",
    "What this means is that all models are simply **estimates** of reality, meaning if we model the time it takes between eruptions for a volcano as mainly a relationship of the position of the mooon and sun. This does not mean that ONLY these variables are needed to predict eruption time (e.g. position of volcano on earth, composition of soil, etc.), there are most likely many other factors we simply don't know about, but the model is still fairly accurate at predicting when an eruptions will occur, so we keep using it."
   ]
  },
  {
   "cell_type": "markdown",
   "metadata": {},
   "source": [
    "There are many built-in functions within R that enable us to quickly train different types of models, but one of the key concepts of fitting models is optimizing some equation to fit parameters that we need. For example, the following code tries to fit a linear model 'manually' without using R's very common built in lm() function."
   ]
  },
  {
   "cell_type": "code",
   "execution_count": 16,
   "metadata": {},
   "outputs": [
    {
     "name": "stderr",
     "output_type": "stream",
     "text": [
      "ERROR while rich displaying an object: Error in vapply(seq_along(mapped), function(i) {: values must be length 1,\n",
      " but FUN(X[[5]]) result is length 0\n",
      "\n",
      "Traceback:\n",
      "1. FUN(X[[i]], ...)\n",
      "2. tryCatch(withCallingHandlers({\n",
      " .     rpr <- mime2repr[[mime]](obj)\n",
      " .     if (is.null(rpr)) \n",
      " .         return(NULL)\n",
      " .     prepare_content(is.raw(rpr), rpr)\n",
      " . }, error = error_handler), error = outer_handler)\n",
      "3. tryCatchList(expr, classes, parentenv, handlers)\n",
      "4. tryCatchOne(expr, names, parentenv, handlers[[1L]])\n",
      "5. doTryCatch(return(expr), name, parentenv, handler)\n",
      "6. withCallingHandlers({\n",
      " .     rpr <- mime2repr[[mime]](obj)\n",
      " .     if (is.null(rpr)) \n",
      " .         return(NULL)\n",
      " .     prepare_content(is.raw(rpr), rpr)\n",
      " . }, error = error_handler)\n",
      "7. mime2repr[[mime]](obj)\n",
      "8. repr_html.list(obj)\n",
      "9. repr_list_generic(obj, \"html\", \"\\t<li>%s</li>\\n\", \"\\t<dt>$%s</dt>\\n\\t\\t<dd>%s</dd>\\n\", \n",
      " .     \"<strong>$%s</strong> = %s\", \"<ol>\\n%s</ol>\\n\", \"<dl>\\n%s</dl>\\n\", \n",
      " .     numeric_item = \"\\t<dt>[[%s]]</dt>\\n\\t\\t<dd>%s</dd>\\n\", escape_fun = html_escape)\n",
      "10. vapply(seq_along(mapped), function(i) {\n",
      "  .     nm <- nms[[i]]\n",
      "  .     if (is.na(nm) || nchar(nm) == 0) {\n",
      "  .         sprintf(numeric_item, i, mapped[[i]])\n",
      "  .     }\n",
      "  .     else {\n",
      "  .         sprintf(named_item, nms[[i]], mapped[[i]])\n",
      "  .     }\n",
      "  . }, character(1))\n",
      "ERROR while rich displaying an object: Error in vapply(seq_along(mapped), function(i) {: values must be length 1,\n",
      " but FUN(X[[5]]) result is length 0\n",
      "\n",
      "Traceback:\n",
      "1. FUN(X[[i]], ...)\n",
      "2. tryCatch(withCallingHandlers({\n",
      " .     rpr <- mime2repr[[mime]](obj)\n",
      " .     if (is.null(rpr)) \n",
      " .         return(NULL)\n",
      " .     prepare_content(is.raw(rpr), rpr)\n",
      " . }, error = error_handler), error = outer_handler)\n",
      "3. tryCatchList(expr, classes, parentenv, handlers)\n",
      "4. tryCatchOne(expr, names, parentenv, handlers[[1L]])\n",
      "5. doTryCatch(return(expr), name, parentenv, handler)\n",
      "6. withCallingHandlers({\n",
      " .     rpr <- mime2repr[[mime]](obj)\n",
      " .     if (is.null(rpr)) \n",
      " .         return(NULL)\n",
      " .     prepare_content(is.raw(rpr), rpr)\n",
      " . }, error = error_handler)\n",
      "7. mime2repr[[mime]](obj)\n",
      "8. repr_markdown.list(obj)\n",
      "9. repr_list_generic(obj, \"markdown\", \"%s. %s\\n\", \"$%s\\n:   %s\\n\", \n",
      " .     \"**$%s** = %s\", \"%s\\n\\n\", numeric_item = \"[[%s]]\\n:   %s\\n\", \n",
      " .     item_uses_numbers = TRUE, escape_fun = html_escape)\n",
      "10. vapply(seq_along(mapped), function(i) {\n",
      "  .     nm <- nms[[i]]\n",
      "  .     if (is.na(nm) || nchar(nm) == 0) {\n",
      "  .         sprintf(numeric_item, i, mapped[[i]])\n",
      "  .     }\n",
      "  .     else {\n",
      "  .         sprintf(named_item, nms[[i]], mapped[[i]])\n",
      "  .     }\n",
      "  . }, character(1))\n",
      "ERROR while rich displaying an object: Error in vapply(seq_along(mapped), function(i) {: values must be length 1,\n",
      " but FUN(X[[5]]) result is length 0\n",
      "\n",
      "Traceback:\n",
      "1. FUN(X[[i]], ...)\n",
      "2. tryCatch(withCallingHandlers({\n",
      " .     rpr <- mime2repr[[mime]](obj)\n",
      " .     if (is.null(rpr)) \n",
      " .         return(NULL)\n",
      " .     prepare_content(is.raw(rpr), rpr)\n",
      " . }, error = error_handler), error = outer_handler)\n",
      "3. tryCatchList(expr, classes, parentenv, handlers)\n",
      "4. tryCatchOne(expr, names, parentenv, handlers[[1L]])\n",
      "5. doTryCatch(return(expr), name, parentenv, handler)\n",
      "6. withCallingHandlers({\n",
      " .     rpr <- mime2repr[[mime]](obj)\n",
      " .     if (is.null(rpr)) \n",
      " .         return(NULL)\n",
      " .     prepare_content(is.raw(rpr), rpr)\n",
      " . }, error = error_handler)\n",
      "7. mime2repr[[mime]](obj)\n",
      "8. repr_latex.list(obj)\n",
      "9. repr_list_generic(obj, \"latex\", \"\\\\item %s\\n\", \"\\\\item[\\\\$%s] %s\\n\", \n",
      " .     \"\\\\textbf{\\\\$%s} = %s\", enum_wrap = \"\\\\begin{enumerate}\\n%s\\\\end{enumerate}\\n\", \n",
      " .     named_wrap = \"\\\\begin{description}\\n%s\\\\end{description}\\n\", \n",
      " .     numeric_item = \"\\\\item[{[[%s]]}] %s\\n\", escape_fun = latex_escape)\n",
      "10. vapply(seq_along(mapped), function(i) {\n",
      "  .     nm <- nms[[i]]\n",
      "  .     if (is.na(nm) || nchar(nm) == 0) {\n",
      "  .         sprintf(numeric_item, i, mapped[[i]])\n",
      "  .     }\n",
      "  .     else {\n",
      "  .         sprintf(named_item, nms[[i]], mapped[[i]])\n",
      "  .     }\n",
      "  . }, character(1))\n"
     ]
    },
    {
     "data": {
      "text/plain": [
       "$par\n",
       "[1] 4.220367 2.051525\n",
       "\n",
       "$value\n",
       "[1] 135.8746\n",
       "\n",
       "$counts\n",
       "function gradient \n",
       "      89       NA \n",
       "\n",
       "$convergence\n",
       "[1] 0\n",
       "\n",
       "$message\n",
       "NULL\n"
      ]
     },
     "metadata": {},
     "output_type": "display_data"
    }
   ],
   "source": [
    "#Let's create some data\n",
    "dat = sim1\n",
    "\n",
    "# Now if our model follows this pattern: y = b0 + b1x\n",
    "# We can use the residual sum of squares equation to find the values for b0 and b1\n",
    "# RSS = sum( (yi - f(xi))^2  )\n",
    "min.RSS = function(data, par) {\n",
    "              with(data, sum((y - (par[1] + par[2] * x))^2))\n",
    "}\n",
    "\n",
    "#Great, now let's use optim to find find the values of b0 and b1\n",
    "# Note that the 'real' values are b0 ~ 4.xxxx and b1 ~ 2.xxxx\n",
    "optim(par=c(1,1),min.RSS,data=dat)"
   ]
  },
  {
   "cell_type": "markdown",
   "metadata": {
    "collapsed": true
   },
   "source": [
    "## Exercises"
   ]
  },
  {
   "cell_type": "markdown",
   "metadata": {},
   "source": [
    "### Section 21"
   ]
  },
  {
   "cell_type": "code",
   "execution_count": null,
   "metadata": {
    "collapsed": true
   },
   "outputs": [],
   "source": [
    "# Write for loops to:\n",
    "#  1. Compute the mean of every column in mtcars.\n",
    "#  2. Determine the type of each column in nycflights13::flights.\n",
    "#  3. Compute the number of unique values in each column of iris.\n",
    "#  4. Generate 10 random normals for each of μ = −10, 0, 10, and 100.\n",
    "# Think about the output, sequence, and body before you start writing the loop.\n",
    "\n",
    "# Solution:\n",
    "#1\n",
    "output <- vector(\"double\", ncol(mtcars))\n",
    "names(output) <- names(mtcars)\n",
    "for (i in names(mtcars)) {\n",
    "  output[i] <- mean(mtcars[[i]])\n",
    "}\n",
    "#2\n",
    "data(\"flights\", package = \"nycflights13\")\n",
    "output <- vector(\"list\", ncol(flights))\n",
    "names(output) <- names(flights)\n",
    "for (i in names(flights)) {\n",
    "  output[[i]] <- class(flights[[i]])\n",
    "}\n",
    "#3\n",
    "data(iris)\n",
    "iris_uniq <- vector(\"double\", ncol(iris))\n",
    "names(iris_uniq) <- names(iris)\n",
    "for (i in names(iris)) {\n",
    "  iris_uniq[i] <- length(unique(iris[[i]]))\n",
    "}\n",
    "#4\n",
    "# number to draw\n",
    "n <- 10\n",
    "# values of the mean\n",
    "mu <- c(-10, 0, 10, 100)\n",
    "normals <- vector(\"list\", length(mu))\n",
    "for (i in seq_along(normals)) {\n",
    "  normals[[i]] <- rnorm(n, mean = mu[i])\n",
    "}"
   ]
  },
  {
   "cell_type": "code",
   "execution_count": null,
   "metadata": {
    "collapsed": true
   },
   "outputs": [],
   "source": [
    "#Eliminate the for loop in each of the following examples by taking advantage of an existing function\n",
    "#that works with vectors:\n",
    "#1\n",
    "out <- \"\"\n",
    "for (x in letters) {\n",
    "    out <- stringr::str_c(out, x)\n",
    "    }\n",
    "\n",
    "#2\n",
    "x <- sample(100)\n",
    "sd <- 0\n",
    "for (i in seq_along(x)) {\n",
    "    sd <- sd + (x[i] - mean(x)) ^ 2\n",
    "    }\n",
    "\n",
    "#3\n",
    "sd <- sqrt(sd / (length(x) - 1))\n",
    "x <- runif(100)\n",
    "out <- vector(\"numeric\", length(x))\n",
    "out[1] <- x[1]\n",
    "for (i in 2:length(x)) {\n",
    "    out[i] <- out[i - 1] + x[i]\n",
    "    }\n",
    "\n",
    "# Solution:\n",
    "#1\n",
    "#str_c already works with vectors, so simply use str_c with the collapse argument to return a single string.\n",
    "stringr::str_c(letters, collapse = \"\")\n",
    "\n",
    "#2\n",
    "# We could simply use the sd function.\n",
    "x <- sample(100)\n",
    "sd(x)\n",
    "\n",
    "#3\n",
    "# The code above is calculating a cumulative sum. Use the function cumsum\n",
    "x <- runif(100)\n",
    "cumsum(x)"
   ]
  },
  {
   "cell_type": "code",
   "execution_count": null,
   "metadata": {
    "collapsed": true
   },
   "outputs": [],
   "source": [
    "#What happens if you use for (nm in names(x)) and x has no names? What if only some of the\n",
    "#elements are named? What if the names are not unique?\n",
    "\n",
    "# Solution:"
   ]
  },
  {
   "cell_type": "code",
   "execution_count": null,
   "metadata": {
    "collapsed": true
   },
   "outputs": [],
   "source": [
    "#Write a function that prints the mean of each numeric column in a data frame, along with its name.\n",
    "#For example, show_mean(iris) would print:\n",
    "  #> Sepal.Length: 5.84\n",
    "  #> Sepal.Width: 3.06\n",
    "  #> Petal.Length: 3.76\n",
    "  #> Petal.Width: 1.20\n",
    "\n",
    "# Solution:\n",
    "x <- 1:3\n",
    "print(names(x))\n",
    "#> NULL\n",
    "for (nm in names(x)) {\n",
    "  print(nm)\n",
    "  print(x[[nm]])\n",
    "}\n",
    "\n",
    "#If there only some names, then we get an error if we try to access an element without a name. \n",
    "#However, oddly, nm == \"\" when there is no name.\n",
    "x <- c(a = 1, 2, c = 3)\n",
    "names(x)\n",
    "#> [1] \"a\" \"\"  \"c\""
   ]
  },
  {
   "cell_type": "code",
   "execution_count": null,
   "metadata": {
    "collapsed": true
   },
   "outputs": [],
   "source": [
    "# What does this code do? How does it work?\n",
    "trans <- list(\n",
    "    disp = function(x) x * 0.0163871,\n",
    "    am = function(x) {\n",
    "    factor(x, labels = c(\"auto\", \"manual\"))\n",
    "        }\n",
    "    )\n",
    "    \n",
    "for (var in names(trans)) {\n",
    "    mtcars[[var]] <- trans[[var]](mtcars[[var]])\n",
    "    }\n",
    "\n",
    "# Solution:\n",
    "#This code mutates the disp and am columns:\n",
    "    #disp is multiplied by 0.0163871\n",
    "    #am is replaced by a factor variable.\n",
    "#The code works by looping over a named list of functions. It calls the named function in the list on the \n",
    "# column of mtcars with the same name, and replaces the values of that column."
   ]
  },
  {
   "cell_type": "code",
   "execution_count": null,
   "metadata": {
    "collapsed": true
   },
   "outputs": [],
   "source": [
    "# Read the documentation for apply(). In the 2d case, what two for loops does it generalise?\n",
    "\n",
    "# Solution:\n",
    "#It generalizes looping over the rows or columns of a matrix or data-frame."
   ]
  },
  {
   "cell_type": "code",
   "execution_count": null,
   "metadata": {
    "collapsed": true
   },
   "outputs": [],
   "source": [
    "# Adapt col_summary() so that it only applies to numeric columns You might want to start with an\n",
    "# is_numeric() function that returns a logical vector that has a TRUE corresponding to each numeric column.\n",
    "col_summary <- function(df, fun) {\n",
    "  out <- vector(\"double\", length(df))\n",
    "  for (i in seq_along(df)) {\n",
    "    out[i] <- fun(df[[i]])\n",
    "  }\n",
    "  out\n",
    "}\n",
    "\n",
    "# Solution:\n",
    "col_summary2 <- function(df, fun) {\n",
    "  # test whether each colum is numeric\n",
    "  numeric_cols <- vector(\"logical\", length(df))\n",
    "  for (i in seq_along(df)) {\n",
    "    numeric_cols[[i]] <- is.numeric(df[[i]])\n",
    "  }\n",
    "  # indexes of numeric columns\n",
    "  idxs <- seq_along(df)[numeric_cols]\n",
    "  # number of numeric columns\n",
    "  n <- sum(numeric_cols)\n",
    "  out <- vector(\"double\", n)\n",
    "  for (i in idxs) {\n",
    "    out[i] <- fun(df[[i]])\n",
    "  }\n",
    "  out\n",
    "}"
   ]
  },
  {
   "cell_type": "code",
   "execution_count": null,
   "metadata": {
    "collapsed": true
   },
   "outputs": [],
   "source": [
    "#Write code that uses one of the map functions to:\n",
    "#1. Compute the mean of every column in mtcars.\n",
    "#2. Determine the type of each column in nycflights13::flights.\n",
    "#3. Compute the number of unique values in each column of iris.\n",
    "#4. Generate 10 random normals for each of μ = −10, 0, 10, and 100.\n",
    "\n",
    "# Solution:\n",
    "#1\n",
    "map_dbl(mtcars, mean)\n",
    "#2\n",
    "map(nycflights13::flights, class)\n",
    "#3\n",
    "map_int(iris, ~ length(unique(.)))\n",
    "#4\n",
    "map(c(-10, 0, 10, 100), rnorm, n = 10)"
   ]
  },
  {
   "cell_type": "code",
   "execution_count": null,
   "metadata": {
    "collapsed": true
   },
   "outputs": [],
   "source": [
    "#What happens when you use the map functions on vectors that aren’t lists? What does map(1:5,runif) do? Why?\n",
    "\n",
    "# Solution:\n",
    "# The function map applies the function to each element of the vector."
   ]
  },
  {
   "cell_type": "code",
   "execution_count": null,
   "metadata": {
    "collapsed": true
   },
   "outputs": [],
   "source": [
    "# Rewrite map(x, function(df) lm(mpg ~ wt, data = df)) to eliminate the anonymous function.\n",
    "\n",
    "# Solution:\n",
    "map(list(mtcars), ~ lm(mpg ~ wt, data = .))"
   ]
  },
  {
   "cell_type": "code",
   "execution_count": null,
   "metadata": {
    "collapsed": true
   },
   "outputs": [],
   "source": [
    "# Implement your own version of every() using a for loop. Compare it with purrr::every(). What\n",
    "# does purrr’s version do that your version doesn’t?\n",
    "\n",
    "# Solution:\n",
    "# Use ... to pass arguments to the function\n",
    "every2 <- function(.x, .p, ...) {\n",
    "  for (i in .x) {\n",
    "    if (!.p(i, ...)) {\n",
    "      # If any is FALSE we know not all of then were TRUE\n",
    "      return(FALSE)\n",
    "    }\n",
    "  }\n",
    "  # if nothing was FALSE, then it is TRUE\n",
    "  TRUE  \n",
    "}\n",
    "\n",
    "every2(1:3, function(x) {x > 1})\n",
    "#> [1] FALSE\n",
    "every2(1:3, function(x) {x > 0})\n",
    "#> [1] TRUE"
   ]
  },
  {
   "cell_type": "code",
   "execution_count": null,
   "metadata": {
    "collapsed": true
   },
   "outputs": [],
   "source": [
    "# A possible base R equivalent of col_sum() is:\n",
    "col_sum3 <- function(df, f) {\n",
    "is_num <- sapply(df, is.numeric)\n",
    "df_num <- df[, is_num]\n",
    "sapply(df_num, f)\n",
    "}\n",
    "# But it has a number of bugs as illustrated with the following inputs:\n",
    "df <- tibble(\n",
    "x = 1:3,\n",
    "y = 3:1,\n",
    "z = c(\"a\", \"b\", \"c\")\n",
    ")\n",
    "col_sum3(df, mean)\n",
    "# Has problems: don't always return numeric vector\n",
    "col_sum3(df[1:2], mean)\n",
    "col_sum3(df[1], mean)\n",
    "col_sum3(df[0], mean)\n",
    "\n",
    "# What causes the bugs?\n",
    "\n",
    "\n",
    "# Solution:\n",
    "# The problem is that sapply does not always return numeric vectors. If no columns are selected, \n",
    "# instead of returning an empty numeric vector, it returns an empty list. This causes an error since we \n",
    "# can’t use a list with [.\n",
    "sapply(df[0], is.numeric)\n",
    "sapply(df[1:2], is.numeric)"
   ]
  },
  {
   "cell_type": "markdown",
   "metadata": {},
   "source": [
    "### Section 23"
   ]
  },
  {
   "cell_type": "code",
   "execution_count": null,
   "metadata": {
    "collapsed": true
   },
   "outputs": [],
   "source": [
    "#One downside of the linear model is that it is sensitive to unusual values because the distance incorporates\n",
    "#a squared term. Fit a linear model to the simulated data below, and visualise the results. Rerun\n",
    "#a few times to generate different simulated datasets. What do you notice about the model?\n",
    "sim1a <- tibble(\n",
    "x = rep(1:10, each = 3),\n",
    "y = x * 1.5 + 6 + rt(length(x), df = 2)\n",
    ")\n",
    "\n",
    "# Solution:\n",
    "ggplot(sim1a, aes(x = x, y = y)) +\n",
    "  geom_point() +\n",
    "  geom_smooth(method = \"lm\", se = FALSE)\n",
    "\n",
    "#To re-run this a few times using purrr, and plot using code similar to that in the chapter: There appear to \n",
    "# be a few outliers in this data. You can re-rerun this a couple times to see if this hold.\n",
    "\n",
    "#We can also do this slightly more systematically. We will simulate this several times using purrr and plot the \n",
    "# line using geom_smooth:\n",
    "simt <- function(i) {\n",
    "  tibble(\n",
    "    x = rep(1:10, each = 3),\n",
    "    y = x * 1.5 + 6 + rt(length(x), df = 2),\n",
    "    .id = i\n",
    "  )\n",
    "}\n",
    "\n",
    "sims <- map_df(1:12, simt)\n",
    "\n",
    "ggplot(sims, aes(x = x, y = y)) +\n",
    "  geom_point() +\n",
    "  geom_smooth(method = \"lm\", color = \"red\") +\n",
    "  facet_wrap(~ .id, ncol = 4)\n",
    "\n",
    "# What if we did the same things with normal distributions?\n",
    "  tibble(\n",
    "    x = rep(1:10, each = 3),\n",
    "    y = x * 1.5 + 6 + rnorm(length(x)),\n",
    "    .id = i\n",
    "  )\n",
    "}\n",
    "\n",
    "simdf_norm <- map_df(1:12, sim_norm)\n",
    "\n",
    "ggplot(simdf_norm, aes(x = x, y = y)) +\n",
    "  geom_point() +\n",
    "  geom_smooth(method = \"lm\", color = \"red\") +\n",
    "  facet_wrap(~ .id, ncol = 4)\n",
    "\n",
    "# There are not large outliers, and the slopes are more similar. The reason for this is that the Student’s \n",
    "# t-distribution, from which we sample with rt has fatter tails than the normal distribution (rnorm), which \n",
    "# means is assigns larger probability to values further from the center of the distribution.\n",
    "tibble(\n",
    "  x = seq(-5, 5, length.out = 100),\n",
    "  normal = dnorm(x),\n",
    "  student_t = dt(x, df = 2) \n",
    ") %>% \n",
    "  gather(distribution, density, -x) %>%\n",
    "  ggplot(aes(x = x, y = density, colour = distribution)) +\n",
    "  geom_line()\n",
    "\n",
    "#For a normal distribution with mean zero and standard deviation one, the probability of being greater than 2 is,\n",
    "pnorm(2, lower.tail = FALSE)\n",
    "#> [1] 0.0228\n",
    "\n",
    "# For a Student’s t-distribution with degrees of freedom = 2, it is more than 3 times higher,\n",
    "pt(2, df = 2, lower.tail = FALSE)\n",
    "#> [1] 0.0918"
   ]
  },
  {
   "cell_type": "code",
   "execution_count": null,
   "metadata": {
    "collapsed": true
   },
   "outputs": [],
   "source": [
    "# One way to make linear models more robust is to use a different distance measure. For example, instead\n",
    "# of root-mean-squared distance, you could use mean-absolute distance:\n",
    "measure_distance <- function(mod, data) {\n",
    "    diff <- data$y - make_prediction(mod, data)\n",
    "    mean(abs(diff))\n",
    "    }\n",
    "\n",
    "# Use optim() to fit this model to the simulated data above and compare it to the linear model.\n",
    "\n",
    "\n",
    "# Solution:\n",
    "# For the above function to work, we need to define a function make_prediction that takes a numeric vector of \n",
    "# length two (the intercept and slope) and returns the predictions,\n",
    "make_prediction <- function(mod, data) {\n",
    "  mod[1] + mod[2] * data$x\n",
    "}\n",
    "\n",
    "# Using the sim1a data, the best parameters of the least absolute deviation are:\n",
    "best <- optim(c(0, 0), measure_distance, data = sim1a)\n",
    "best$par\n",
    "#> [1] 5.25 1.66\n",
    "\n",
    "# Using the sim1a data, while the parameters the minimize the least squares objective function are:\n",
    "measure_distance_ls <- function(mod, data) {\n",
    "  diff <- data$y - (mod[1] + mod[2] * data$x)\n",
    "  sqrt(mean(diff ^ 2))\n",
    "}\n",
    "\n",
    "best <- optim(c(0, 0), measure_distance_ls, data = sim1a)\n",
    "best$par\n",
    "#> [1] 5.87 1.56\n",
    "\n",
    "# In practice, you would not use a optim to fit this model, you would you an existing implementation. See the \n",
    "# MASS package’s rlm and lqs functions for more information and functions to fit robust and resistant linear models."
   ]
  },
  {
   "cell_type": "code",
   "execution_count": null,
   "metadata": {
    "collapsed": true
   },
   "outputs": [],
   "source": [
    "# What does geom_ref_line() do? What package does it come from? Why is displaying a reference\n",
    "# line in plots showing residuals useful and important?\n",
    "\n",
    "# Solution:\n",
    "# The geom geom_ref_line() adds as reference line to a plot. It is equivalent to running geom_hline or geom_vline \n",
    "# with default settings that are useful for visualizing models. Putting a reference line at zero for residuals is \n",
    "# important because good models (generally) should have residuals centered at zero, with approximately the same \n",
    "# variance (or distribution) over the support of x, and no correlation. A zero reference line makes it easier to \n",
    "# judge these characteristics visually."
   ]
  },
  {
   "cell_type": "code",
   "execution_count": null,
   "metadata": {
    "collapsed": true
   },
   "outputs": [],
   "source": [
    "# Using the basic principles, convert the formulas in the following two models into functions. (Hint: start\n",
    "# by converting the categorical variable into 0-1 variables.)\n",
    "mod1 <- lm(y ~ x1 + x2, data = sim3)\n",
    "mod2 <- lm(y ~ x1 * x2, data = sim3)\n",
    "\n",
    "# Solution:\n",
    "model_matrix_mod1 <- function(.data) {\n",
    "  mutate(.data,\n",
    "         `x2b` = as.numeric(x2 == \"b\"),\n",
    "         `x2c` = as.numeric(x2 == \"c\"),\n",
    "         `x2d` = as.numeric(x2 == \"d\"),\n",
    "         `x1:x2b` = x1 * x2b,\n",
    "         `x1:x2c` = x1 * x2c,\n",
    "         `x1:x2d` = x1 * x2d) %>%\n",
    "    select(x1, x2b, x2c, x2d, `x1:x2b`, `x1:x2c`, `x1:x2d`)\n",
    "}\n",
    "model_matrix_mod1(sim3)\n",
    "\n",
    "model_matrix_mod2 <- function(.data) {\n",
    "  mutate(.data, `x1:x2` = x1 * x2) %>%\n",
    "    select(x1, x2, `x1:x2`)\n",
    "}\n",
    "model_matrix_mod2(sim4)\n",
    "\n",
    "# A more general function for model mod1 is:\n",
    "model_matrix_mod1 <- function(x1, x2) {\n",
    "  out <- tibble(x1 = x1)  \n",
    "  # find levels of x2\n",
    "  x2 <- as.factor(x2)\n",
    "  x2lvls <- levels(x2)\n",
    "  # create an indicator variable for each level\n",
    "  for (lvl in x2lvls[2:nlevels(x2)]) {\n",
    "    out[[str_c(\"x2\", lvl)]] <- as.numeric(x2 == lvl)\n",
    "  }\n",
    "  # create interactions for each level\n",
    "  for (lvl in x2lvls[2:nlevels(x2)]) {\n",
    "    out[[str_c(\"x1:x2\", lvl)]] <- (x2 == lvl) * x1\n",
    "  }\n",
    "  out\n",
    "}\n",
    "\n",
    "model_matrix_mod2 <- function(x1, x2) {\n",
    "  out <- tibble(x1 = x1,\n",
    "                x2 = x2,\n",
    "                `x1:x2` = x1 * x2)\n",
    "}"
   ]
  }
 ],
 "metadata": {
  "kernelspec": {
   "display_name": "R",
   "language": "R",
   "name": "ir"
  },
  "language_info": {
   "codemirror_mode": "r",
   "file_extension": ".r",
   "mimetype": "text/x-r-source",
   "name": "R",
   "pygments_lexer": "r",
   "version": "3.4.3"
  }
 },
 "nbformat": 4,
 "nbformat_minor": 2
}
