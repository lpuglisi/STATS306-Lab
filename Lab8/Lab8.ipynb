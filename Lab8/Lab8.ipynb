{
 "cells": [
  {
   "cell_type": "markdown",
   "metadata": {},
   "source": [
    "# Lab 8\n",
    "\n",
    "This lab will do some review of regular expressions, then focus on functions, conditions, and vectors."
   ]
  },
  {
   "cell_type": "markdown",
   "metadata": {},
   "source": [
    "## Table of Contents\n",
    "* [Review/Explore](#Review/Explore)\n",
    "* [Exercises](#Exercises)"
   ]
  },
  {
   "cell_type": "code",
   "execution_count": null,
   "metadata": {
    "collapsed": true
   },
   "outputs": [],
   "source": [
    "library(tidyverse)\n",
    "library(stringr)"
   ]
  },
  {
   "cell_type": "markdown",
   "metadata": {},
   "source": [
    "## Review/Explore"
   ]
  },
  {
   "cell_type": "markdown",
   "metadata": {},
   "source": [
    "### Previous HW"
   ]
  },
  {
   "cell_type": "markdown",
   "metadata": {},
   "source": [
    "As there were many questions about last week's HW assignment and multiple inefficient ways I saw some people solving them, I thought it would be worthwile to go over a few of the questions together."
   ]
  },
  {
   "cell_type": "markdown",
   "metadata": {},
   "source": [
    "**Problem 2**\n",
    "\n",
    "The word-boundary character class \\b matches the beginning and end of a word. Use this character class to write a regular expression re2 such that str_count(s, re2) counts the number of words in the string s. Here a word is defined a consecutive string of letters, numbers or underscores."
   ]
  },
  {
   "cell_type": "code",
   "execution_count": null,
   "metadata": {
    "collapsed": true
   },
   "outputs": [],
   "source": [
    "# To solve this, take a quick look at what the word-boundary regex does, try to think in terms of what we want\n",
    "tst = \"\\\\b\"\n",
    "str_view(\"this is a word\",tst)"
   ]
  },
  {
   "cell_type": "code",
   "execution_count": null,
   "metadata": {
    "collapsed": true
   },
   "outputs": [],
   "source": [
    "#Based on this, what we want, is a pattern that is something like:\n",
    "# word-boundary + any number of letters/characters + word-boundary\n",
    "#Hence, the solution\n",
    "sln = \"\\\\b\\\\w+\\\\b\""
   ]
  },
  {
   "cell_type": "code",
   "execution_count": null,
   "metadata": {
    "collapsed": true
   },
   "outputs": [],
   "source": [
    "str_view_all(\"this is a word\",sln)"
   ]
  },
  {
   "cell_type": "markdown",
   "metadata": {},
   "source": [
    "**Problem 3**\n",
    "\n",
    "Write a regular expression which matches any word containing exactly two vowels, regardless of case. Store this regular expression in a variable named re3."
   ]
  },
  {
   "cell_type": "code",
   "execution_count": null,
   "metadata": {
    "collapsed": true
   },
   "outputs": [],
   "source": [
    "# Since we need exactly two of something, we know we need to use the {} brackets\n",
    "# Also, note that within each word we want to a vowel surrounded by 0 or more consonants\n",
    "# Here's how we can find one vowel\n",
    "vow = \"[aoeui]\"\n",
    "# Here's how we can find 0 or more consonants (not vowels)\n",
    "ocon = \"[^aoeui]*\"\n",
    "# Now we can combine this together with curly brackets surrounded by word-boundaries\n",
    "sln = str_c(\"\\\\b(\", ocon, vow, ocon, \"){2}\\\\b\")\n",
    "sln"
   ]
  },
  {
   "cell_type": "code",
   "execution_count": null,
   "metadata": {
    "collapsed": true
   },
   "outputs": [],
   "source": [
    "# Let's take it for a spin\n",
    "str_detect(c('aba', 'aa','fkbkbfgo','aaa','thirteen'),sln)"
   ]
  },
  {
   "cell_type": "markdown",
   "metadata": {},
   "source": [
    "**Problem 4**\n",
    "\n",
    "Write a regular expression which matches proper nouns. A proper noun is defined as one or more capitalized words, optionally separated by the word(s) \"and\", \"of\", \"the\", and/or \"by\". Store your expression in a variable called re4. (If a capitalized word occurs at the beginning of a sentence, you may assume it is part of a proper noun.)"
   ]
  },
  {
   "cell_type": "code",
   "execution_count": null,
   "metadata": {
    "collapsed": true
   },
   "outputs": [],
   "source": [
    "# Let's break this problem down, first, we know we need to find words that begin with a capital letter, so lets do that\n",
    "#Ok so we want one or capital letters to start, followed by 0 or more lowercase letters\n",
    "tst = \"[A-Z]+[\\\\w]*\"\n",
    "str_view_all(\"the Jabba Monster Is great\",tst)"
   ]
  },
  {
   "cell_type": "code",
   "execution_count": null,
   "metadata": {
    "collapsed": true
   },
   "outputs": [],
   "source": [
    "# Great, so now let's try to add the second condition, we want words that follow this pattern and follow 0 or more\n",
    "# of the key words given in the problem\n",
    "tst = \"[A-Z]+[\\\\w]* ((and|of|the|or|by))*\"\n",
    "str_view_all(\"the Jabba the Monster Is great\",tst)"
   ]
  },
  {
   "cell_type": "code",
   "execution_count": null,
   "metadata": {
    "collapsed": true
   },
   "outputs": [],
   "source": [
    "#Alright, but we want to connect these separate matches together somehow, so let's find 0 or more of this same pattern\n",
    "# Also, let's add a space after the key words (and, of, etc.)\n",
    "tst = \"([A-Z]+[\\\\w]* ((and|of|the|or|by) )*)*\"\n",
    "str_view_all(c(\"test Test Test of Test\", \"Test the Test    of Test\", \"The Test of the or by Test of Test\"),tst)"
   ]
  },
  {
   "cell_type": "code",
   "execution_count": null,
   "metadata": {
    "collapsed": true
   },
   "outputs": [],
   "source": [
    "# Great, so last step is now making sure we only continue with this pattern when we have found another word after\n",
    "# That also has a capital letter\n",
    "sln = \"([A-Z]+[\\\\w']* ((and|of|the|or|by) )*)*[A-Z]+[\\\\w']*\"\n",
    "str_view_all(c(\"test Test Test of Test\", \"Test the Test of Test\", \"The Test of the or by Test of Test\"),sln)"
   ]
  },
  {
   "cell_type": "markdown",
   "metadata": {},
   "source": [
    "### Conditions"
   ]
  },
  {
   "cell_type": "markdown",
   "metadata": {},
   "source": [
    "There are two main conditional arguments you will encounter in R, IF statements and IFELSE statements. They are essentially the same thing, but IF statements can incorporate more complex logic."
   ]
  },
  {
   "cell_type": "code",
   "execution_count": null,
   "metadata": {
    "collapsed": true
   },
   "outputs": [],
   "source": [
    "#If I wanted to identify even numbers between 10 and 30 and even numbers between 50 and 60 \n",
    "tst_number = 52\n",
    "\n",
    "if (tst_number%%2==0) {\n",
    "    if (tst_number>=10 & tst_number<=30) {\n",
    "        print('got one here sir!')\n",
    "    } else if (tst_number>=50 & tst_number<=60){\n",
    "        print('got a big one here sir!')\n",
    "    }\n",
    "    else {\n",
    "        print('sorry buddy, try again')\n",
    "    }\n",
    "} else {\n",
    "    print('sorry buddy, try again')\n",
    "}"
   ]
  },
  {
   "cell_type": "code",
   "execution_count": null,
   "metadata": {
    "collapsed": true
   },
   "outputs": [],
   "source": [
    "#Using an ifelse statement, you can condense multiple lines of code into a single function (very useful sometimes!)\n",
    "\n",
    "#If I wanted to make a new column that flags a column as even or odd\n",
    "#First, setup data\n",
    "nums = c(1:10)\n",
    "dta = data.frame(nums)\n",
    "#Now, create new column\n",
    "dta$evnflg = ifelse(dta$nums %% 2 == 0, 'even', 'odd')"
   ]
  },
  {
   "cell_type": "markdown",
   "metadata": {},
   "source": [
    "### Functions"
   ]
  },
  {
   "cell_type": "markdown",
   "metadata": {},
   "source": [
    "For this section we will explore functions by making a game together! The game will be based on a randomly created board of black and white tiles. Multiple players are added to the board on the far right end. The goal of the game is to get to the far left end of the board first. Each player can take one step at a time, and cannot step on black squares.\n",
    "\n",
    "Let the races begin!"
   ]
  },
  {
   "cell_type": "code",
   "execution_count": null,
   "metadata": {
    "collapsed": true
   },
   "outputs": [],
   "source": [
    "# Make a function to create a board of a specific size\n",
    "make_board = function(height,width) {\n",
    "    size = height*width\n",
    "    brd = matrix(sample(c(1,0,0),size,replace = TRUE), nrow=height)\n",
    "    return(brd)\n",
    "}"
   ]
  },
  {
   "cell_type": "code",
   "execution_count": null,
   "metadata": {
    "collapsed": true
   },
   "outputs": [],
   "source": [
    "#Make a function to place the players on the board\n",
    "set_players = function(players,board) {\n",
    "    play = 1:players+1\n",
    "    max_board = ncol(board)\n",
    "    for (i in seq(players)){\n",
    "        board[max_board,i] = play[i]\n",
    "    }\n",
    "    return(board)\n",
    "}"
   ]
  },
  {
   "cell_type": "code",
   "execution_count": null,
   "metadata": {
    "collapsed": true
   },
   "outputs": [],
   "source": [
    "# Make a function to print the board we create\n",
    "print_board = function(brd,players) {\n",
    "    colors = c('white','black',colors()[10:(10+players-1)])\n",
    "    image(brd,col=colors,axes = FALSE)\n",
    "}"
   ]
  },
  {
   "cell_type": "code",
   "execution_count": null,
   "metadata": {
    "collapsed": true
   },
   "outputs": [],
   "source": [
    "# Make a function to take a step in the game\n",
    "take_step = function(brd, playernum,step) {\n",
    "    rw = which(brd==playernum,arr.ind=TRUE)[1]\n",
    "    cl = which(brd==playernum,arr.ind=TRUE)[2]\n",
    "    if (step == 'left') {\n",
    "        brd[rw,cl] = 0\n",
    "        brd[row,cl-1] = playernum\n",
    "        invisible(return(brd))\n",
    "    } else if (step == 'right') {\n",
    "        brd[rw,cl] = 0\n",
    "        brd[rw,cl+1] = playernum\n",
    "        invisible(return(brd))\n",
    "    } else if (step == 'up') {\n",
    "        brd[rw,cl] = 0\n",
    "        brd[rw-1,cl] = playernum\n",
    "        invisible(return(brd))\n",
    "    } else if (step == 'down') {\n",
    "        brd[rw,cl] = 0\n",
    "        brd[rw+1,cl] = playernum\n",
    "        invisible(return(brd))\n",
    "    } else {\n",
    "        print(\"Invalid step type! Only up, down, left, or right steps are allowed.\")\n",
    "    }\n",
    "}"
   ]
  },
  {
   "cell_type": "code",
   "execution_count": null,
   "metadata": {
    "collapsed": true
   },
   "outputs": [],
   "source": [
    "# Alright, now we are ready to play the game\n",
    "\n",
    "#Let's first just setup a 10 x 10 board to play on with 2 players\n",
    "set.seed(12)\n",
    "brd = make_board(10,10)\n",
    "plyrs = 2\n",
    "# Now we can add two players to the board\n",
    "brd = set_players(plyrs,brd)\n",
    "# Let's see what the board looks like now\n",
    "print_board(brd,plyrs)"
   ]
  },
  {
   "cell_type": "code",
   "execution_count": null,
   "metadata": {
    "collapsed": true
   },
   "outputs": [],
   "source": [
    "# Let's move player 2 (3 in our matrix) up\n",
    "brd = take_step(brd,3,'up')\n",
    "print_board(brd,plyrs)"
   ]
  },
  {
   "cell_type": "code",
   "execution_count": null,
   "metadata": {
    "collapsed": true
   },
   "outputs": [],
   "source": [
    "#Alright now lets move player 1 to the right\n",
    "brd = take_step(brd,2,'right')\n",
    "print_board(brd,plyrs)"
   ]
  },
  {
   "cell_type": "markdown",
   "metadata": {
    "collapsed": true
   },
   "source": [
    "## Exercises"
   ]
  },
  {
   "cell_type": "markdown",
   "metadata": {},
   "source": [
    "### Section 19"
   ]
  },
  {
   "cell_type": "code",
   "execution_count": null,
   "metadata": {
    "collapsed": true
   },
   "outputs": [],
   "source": [
    "# Why is TRUE not a parameter to rescale01()? What would happen if x contained a single missing value, \n",
    "# and na.rm was FALSE?\n"
   ]
  },
  {
   "cell_type": "code",
   "execution_count": null,
   "metadata": {
    "collapsed": true
   },
   "outputs": [],
   "source": [
    "# Write both_na(), a function that takes two vectors of the same length and returns the number of\n",
    "# positions that have an NA in both vectors.\n"
   ]
  },
  {
   "cell_type": "code",
   "execution_count": null,
   "metadata": {
    "collapsed": true
   },
   "outputs": [],
   "source": [
    "# What do the following functions do? Why are they useful even though they are so short?\n",
    "is_directory <- function(x) file.info(x)$isdir\n",
    "is_readable <- function(x) file.access(x, 4) == 0\n"
   ]
  },
  {
   "cell_type": "code",
   "execution_count": null,
   "metadata": {
    "collapsed": true
   },
   "outputs": [],
   "source": [
    "# Read the source code for each of the following three functions, puzzle out what they do, and then\n",
    "# brainstorm better names.\n",
    "\n",
    "f1 <- function(string, prefix) {\n",
    "substr(string, 1, nchar(prefix)) == prefix }\n",
    "\n",
    "f2 <- function(x) {\n",
    "if (length(x) <= 1) return(NULL)\n",
    "x[-length(x)]\n",
    "}\n",
    "    \n",
    "f3 <- function(x, y) {\n",
    "rep(y, length.out = length(x))\n",
    "}\n",
    "    "
   ]
  },
  {
   "cell_type": "code",
   "execution_count": null,
   "metadata": {
    "collapsed": true
   },
   "outputs": [],
   "source": [
    "# Compare and contrast rnorm() and MASS::mvrnorm(). How could you make them more consistent?\n"
   ]
  },
  {
   "cell_type": "code",
   "execution_count": null,
   "metadata": {
    "collapsed": true
   },
   "outputs": [],
   "source": [
    "# What’s the difference between if and ifelse()? Carefully read the help and construct three examples\n",
    "# that illustrate the key differences.\n"
   ]
  },
  {
   "cell_type": "code",
   "execution_count": null,
   "metadata": {
    "collapsed": true
   },
   "outputs": [],
   "source": [
    "# Implement a fizzbuzz function. It takes a single number as input. If the number is divisible by three,\n",
    "# it returns “fizz”. If it’s divisible by five it returns “buzz”. If it’s divisible by three and five, it returns\n",
    "# “fizzbuzz”. Otherwise, it returns the number. Make sure you first write working code before you create the function.\n"
   ]
  },
  {
   "cell_type": "code",
   "execution_count": null,
   "metadata": {
    "collapsed": true
   },
   "outputs": [],
   "source": [
    "# What does this switch() call do? What happens if x is “e”?\n",
    "# switch(x, a = , b = \"ab\", c = , d = \"cd\")\n"
   ]
  },
  {
   "cell_type": "code",
   "execution_count": null,
   "metadata": {
    "collapsed": true
   },
   "outputs": [],
   "source": [
    "# What does commas(letters, collapse = \"-\") do? Why?\n",
    "commas <- function(...) {\n",
    "  stringr::str_c(..., collapse = \", \")\n",
    "}\n"
   ]
  },
  {
   "cell_type": "code",
   "execution_count": null,
   "metadata": {
    "collapsed": true
   },
   "outputs": [],
   "source": [
    "# It’d be nice if you could supply multiple characters to the pad argument, e.g. rule(\"Title\", pad =\n",
    "# \"-+\"). Why doesn’t this currently work? How could you fix it?\n"
   ]
  },
  {
   "cell_type": "code",
   "execution_count": null,
   "metadata": {
    "collapsed": true
   },
   "outputs": [],
   "source": [
    "# The default value for the method argument to cor() is c(\"pearson\", \"kendall\", \"spearman\").\n",
    "# What does that mean? What value is used by default?\n"
   ]
  },
  {
   "cell_type": "markdown",
   "metadata": {},
   "source": [
    "### Section 20"
   ]
  },
  {
   "cell_type": "code",
   "execution_count": null,
   "metadata": {
    "collapsed": true
   },
   "outputs": [],
   "source": [
    "# Describe the difference between is.finite(x) and !is.infinite(x).\n"
   ]
  },
  {
   "cell_type": "code",
   "execution_count": null,
   "metadata": {
    "collapsed": true
   },
   "outputs": [],
   "source": [
    "# Read the source code for dplyr::near() (Hint: to see the source code, drop the ()). How does it work?\n"
   ]
  },
  {
   "cell_type": "code",
   "execution_count": null,
   "metadata": {
    "collapsed": true
   },
   "outputs": [],
   "source": [
    "# What functions from the readr package allow you to turn a string into logical, integer, and double vector?\n"
   ]
  },
  {
   "cell_type": "code",
   "execution_count": null,
   "metadata": {
    "collapsed": true
   },
   "outputs": [],
   "source": [
    "# What does mean(is.na(x)) tell you about a vector x? What about sum(!is.finite(x))?\n"
   ]
  },
  {
   "cell_type": "code",
   "execution_count": null,
   "metadata": {
    "collapsed": true
   },
   "outputs": [],
   "source": [
    "# Compare and contrast setNames() with purrr::set_names().\n"
   ]
  },
  {
   "cell_type": "code",
   "execution_count": null,
   "metadata": {
    "collapsed": true
   },
   "outputs": [],
   "source": [
    "# Why is x[-which(x > 0)] not the same as x[x <= 0]?\n"
   ]
  },
  {
   "cell_type": "code",
   "execution_count": null,
   "metadata": {
    "collapsed": true
   },
   "outputs": [],
   "source": [
    "# What happens if you subset a tibble as if you’re subsetting a list? What are the key differences between\n",
    "# a list and a tibble?\n"
   ]
  },
  {
   "cell_type": "code",
   "execution_count": null,
   "metadata": {
    "collapsed": true
   },
   "outputs": [],
   "source": [
    "# What does hms::hms(3600) return? How does it print? What primitive type is the augmented vector\n",
    "# built on top of? What attributes does it use?\n"
   ]
  },
  {
   "cell_type": "code",
   "execution_count": null,
   "metadata": {
    "collapsed": true
   },
   "outputs": [],
   "source": [
    "# Try and make a tibble that has columns with different lengths. What happens?\n"
   ]
  }
 ],
 "metadata": {
  "kernelspec": {
   "display_name": "R",
   "language": "R",
   "name": "ir"
  },
  "language_info": {
   "codemirror_mode": "r",
   "file_extension": ".r",
   "mimetype": "text/x-r-source",
   "name": "R",
   "pygments_lexer": "r",
   "version": "3.4.3"
  }
 },
 "nbformat": 4,
 "nbformat_minor": 2
}
