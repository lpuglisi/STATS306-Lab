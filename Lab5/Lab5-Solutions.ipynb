{
 "cells": [
  {
   "cell_type": "markdown",
   "metadata": {},
   "source": [
    "# Lab 5\n",
    "\n",
    "This lab will focus on content from chapters 11, 12, and 13 covering reading files, tidying data, and briefly cover relational data."
   ]
  },
  {
   "cell_type": "markdown",
   "metadata": {},
   "source": [
    "## Table of Contents\n",
    "* [Review](#Review)\n",
    "* [Explore](#Explore)\n",
    "* [Exercises](#Exercises)"
   ]
  },
  {
   "cell_type": "code",
   "execution_count": 1,
   "metadata": {},
   "outputs": [
    {
     "name": "stderr",
     "output_type": "stream",
     "text": [
      "Loading tidyverse: ggplot2\n",
      "Loading tidyverse: tibble\n",
      "Loading tidyverse: tidyr\n",
      "Loading tidyverse: readr\n",
      "Loading tidyverse: purrr\n",
      "Loading tidyverse: dplyr\n",
      "Conflicts with tidy packages ---------------------------------------------------\n",
      "filter(): dplyr, stats\n",
      "lag():    dplyr, stats\n"
     ]
    }
   ],
   "source": [
    "library(tidyverse)"
   ]
  },
  {
   "cell_type": "markdown",
   "metadata": {},
   "source": [
    "## Review"
   ]
  },
  {
   "cell_type": "markdown",
   "metadata": {},
   "source": [
    "### Reading in Files"
   ]
  },
  {
   "cell_type": "markdown",
   "metadata": {},
   "source": [
    "If we want to read files into R, the package in tidyverse to use is `readr`. There are ways to read files into R using base R, but normally these are slower and bit less flexible. The main functions in `readr` we will use are:\n",
    "* read_delim(), read_tsv(), read_csv(): Reads in local files with most common delimiters (e.g. comma, tab, semicolon, etc.)\n",
    "* read_fwf(): Reads in local files that are a fixed width type (less common in practice)\n",
    "* read_log(): Reads in Apache log files (less common for types of DS work)"
   ]
  },
  {
   "cell_type": "markdown",
   "metadata": {},
   "source": [
    "### Parsing Data"
   ]
  },
  {
   "cell_type": "markdown",
   "metadata": {},
   "source": [
    "Most of the common parsers are as follows:\n",
    "* parse_logical(), parse_integer()\n",
    "* parse_number(), parse_double()\n",
    "* parse_character()\n",
    "* parse_factor()\n",
    "* parse_datetime(), parse_date(), parse_time()"
   ]
  },
  {
   "cell_type": "markdown",
   "metadata": {},
   "source": [
    "### How does readr automatically know how to parse your entire table?"
   ]
  },
  {
   "cell_type": "markdown",
   "metadata": {},
   "source": [
    "The way that `readr` knows how to read your file is by reading the first 1000 rows of your data and then taking a guess as to the data type of each column of data. To see this action you can play around with the following function:"
   ]
  },
  {
   "cell_type": "code",
   "execution_count": 8,
   "metadata": {},
   "outputs": [
    {
     "data": {
      "text/html": [
       "'date'"
      ],
      "text/latex": [
       "'date'"
      ],
      "text/markdown": [
       "'date'"
      ],
      "text/plain": [
       "[1] \"date\""
      ]
     },
     "metadata": {},
     "output_type": "display_data"
    },
    {
     "data": {
      "text/html": [
       "'time'"
      ],
      "text/latex": [
       "'time'"
      ],
      "text/markdown": [
       "'time'"
      ],
      "text/plain": [
       "[1] \"time\""
      ]
     },
     "metadata": {},
     "output_type": "display_data"
    },
    {
     "data": {
      "text/html": [
       "'logical'"
      ],
      "text/latex": [
       "'logical'"
      ],
      "text/markdown": [
       "'logical'"
      ],
      "text/plain": [
       "[1] \"logical\""
      ]
     },
     "metadata": {},
     "output_type": "display_data"
    }
   ],
   "source": [
    "guess_parser(\"2010-10-01\")\n",
    "guess_parser(\"15:01\")\n",
    "guess_parser(c(\"TRUE\", \"FALSE\"))"
   ]
  },
  {
   "cell_type": "markdown",
   "metadata": {},
   "source": [
    "The general process that `readr` follows is this:\n",
    "\n",
    "The heuristic tries each of the following types, stopping when it finds a match:\n",
    "* logical: contains only “F”, “T”, “FALSE”, or “TRUE”.\n",
    "* integer: contains only numeric characters (and -).\n",
    "* double: contains only valid doubles (including numbers like 4.5e-5).\n",
    "* number: contains valid doubles with the grouping mark inside.\n",
    "* time: matches the default time_format.\n",
    "* date: matches the default date_format.\n",
    "* date-time: any ISO8601 date.\n",
    "\n",
    "If none of these rules apply, then the column will stay as a vector of strings."
   ]
  },
  {
   "cell_type": "markdown",
   "metadata": {},
   "source": [
    "### Writing data in R to a local file"
   ]
  },
  {
   "cell_type": "markdown",
   "metadata": {},
   "source": [
    "The two main ways `readr` has to write dataframes or tibbles from R into local files (e.g. an excel csv, etc.) are as follows:\n",
    "* write_csv()\n",
    "* write_tsv()"
   ]
  },
  {
   "cell_type": "markdown",
   "metadata": {},
   "source": [
    "### What if I don't see the file type I need to read into R?"
   ]
  },
  {
   "cell_type": "markdown",
   "metadata": {},
   "source": [
    "**Google it!**  No, seriously, R has thousands of packages available that mean there is someone out there that has had to read in whatever type of file you need. R can read in database files, HTML files, SAS files, and almost any other type of file you can imagine. Just search for example code."
   ]
  },
  {
   "cell_type": "markdown",
   "metadata": {},
   "source": [
    "### Tidying up Data"
   ]
  },
  {
   "cell_type": "markdown",
   "metadata": {},
   "source": [
    "In order to get your data in a tidy format with each row as an observation, sometimes you need to widen or lengthen your data by adding or removing columns. The key functions needed to do this in tidyverse are:\n",
    "* gather(): Requires the columns to be converted to rows, the name of the column you want to bring these other columns in to, and the values you want to populate for each column\n",
    "* spread(): Requires the column name you want to spread into multiple columns and the value column you want to populate with these new columns.\n",
    "* separate(): Takes an existing column from a tibble and can break apart the data into multiple columns based on a delimiter (e.g. I would use separate to take abc@gmail.com and split this into two columns, 'abc' and 'gmail.com')\n",
    "* unite(): Opposite of separate(), you can take multiple columns and push them together with a separater in between."
   ]
  },
  {
   "cell_type": "markdown",
   "metadata": {},
   "source": [
    "### Relational Data"
   ]
  },
  {
   "cell_type": "markdown",
   "metadata": {},
   "source": [
    "Relational data is a common format for databases of data where multiple tables brought together and organized in a way that you can 'join' tables together to get more information. The simple example below shows multiple tables related to sales in a store. Note that there is a:\n",
    "* Primary key: An ID that uniquely identifies an observation in its own table\n",
    "* Foreign key: An ID that uniquely identifies an observation in another table\n",
    "\n",
    "![Simple Relational Tables](simplestar.png)"
   ]
  },
  {
   "cell_type": "markdown",
   "metadata": {},
   "source": [
    "The main ways that the primary and foreign keys can be related to one another are as follows:\n",
    "* One-to-many. (Most common). For example, each flight has one plane, but each plane has many flights. \n",
    "* Many-to-many: For example, each airline flies to many airports; each airport hosts many airlines.\n",
    "* One-to-one. Each row in one table corresponds uniquely to a row in a second table. This is relatively uncommon "
   ]
  },
  {
   "cell_type": "markdown",
   "metadata": {},
   "source": [
    "If we want to join these tables together there are actually multiple ways to do this:\n",
    "* Inner Join: Only join on key matches in both tables\n",
    "* Left Join (Outer Join): Keep all items from the left table, join on matches for the right\n",
    "* Right Join (Outer Join): Keep all items from the right table, join on matches for the left\n",
    "* Full Join (Outer Join): Keep all items from each table and just add nulls for missing keys"
   ]
  },
  {
   "cell_type": "markdown",
   "metadata": {},
   "source": [
    "## Explore"
   ]
  },
  {
   "cell_type": "markdown",
   "metadata": {},
   "source": [
    "This lab will focus on the exercises section!"
   ]
  },
  {
   "cell_type": "markdown",
   "metadata": {},
   "source": [
    "---"
   ]
  },
  {
   "cell_type": "markdown",
   "metadata": {},
   "source": [
    "## Exercises"
   ]
  },
  {
   "cell_type": "markdown",
   "metadata": {},
   "source": [
    "### Section 11"
   ]
  },
  {
   "cell_type": "code",
   "execution_count": null,
   "metadata": {
    "collapsed": true
   },
   "outputs": [],
   "source": [
    "#What function would you use to read a file where fields were separated with“|”?"
   ]
  },
  {
   "cell_type": "code",
   "execution_count": null,
   "metadata": {
    "collapsed": true
   },
   "outputs": [],
   "source": [
    "#Apart from file, skip, and comment, what other arguments do read_csv() and read_tsv() have in common?"
   ]
  },
  {
   "cell_type": "code",
   "execution_count": null,
   "metadata": {
    "collapsed": true
   },
   "outputs": [],
   "source": [
    "# Sometimes strings in a CSV file contain commas. To prevent them from causing problems they need\n",
    "# to be surrounded by a quoting character, like \" or '. By convention, read_csv() assumes that the\n",
    "# quoting character will be \", and if you want to change it you’ll need to use read_delim() instead.\n",
    "# What arguments do you need to specify to read the following text into a data frame?\n",
    "\n",
    "\"x,y\\n1,'a,b'\""
   ]
  },
  {
   "cell_type": "code",
   "execution_count": 7,
   "metadata": {
    "collapsed": true
   },
   "outputs": [],
   "source": [
    "#What are the most important arguments to locale()?"
   ]
  },
  {
   "cell_type": "code",
   "execution_count": null,
   "metadata": {
    "collapsed": true
   },
   "outputs": [],
   "source": [
    "# What happens if you try and set decimal_mark and grouping_mark to the same character? What\n",
    "# happens to the default value of grouping_mark when you set decimal_mark to “,”? What happens to\n",
    "# the default value of decimal_mark when you set the grouping_mark to “.”?"
   ]
  },
  {
   "cell_type": "code",
   "execution_count": null,
   "metadata": {
    "collapsed": true
   },
   "outputs": [],
   "source": [
    "# Generate the correct format string to parse each of the following dates and times:\n",
    "d1 <- \"January 1, 2010\"\n",
    "d2 <- \"2015-Mar-07\"\n",
    "d3 <- \"06-Jun-2017\"\n",
    "d4 <- c(\"August 19 (2015)\", \"July 1 (2015)\")\n",
    "d5 <- \"12/30/14\" # Dec 30, 2014\n",
    "t1 <- \"1705\"\n",
    "t2 <- \"11:15:10.12 PM\""
   ]
  },
  {
   "cell_type": "markdown",
   "metadata": {},
   "source": [
    "### Section 12"
   ]
  },
  {
   "cell_type": "code",
   "execution_count": 9,
   "metadata": {
    "collapsed": true
   },
   "outputs": [],
   "source": [
    "#Using prose, describe how the variables and observations are organised in each of the sample tables."
   ]
  },
  {
   "cell_type": "code",
   "execution_count": 17,
   "metadata": {},
   "outputs": [
    {
     "data": {
      "text/html": [
       "<table>\n",
       "<thead><tr><th scope=col>country</th><th scope=col>1999</th><th scope=col>2000</th></tr></thead>\n",
       "<tbody>\n",
       "\t<tr><td>Afghanistan</td><td>   745     </td><td>  2666     </td></tr>\n",
       "\t<tr><td>Brazil     </td><td> 37737     </td><td> 80488     </td></tr>\n",
       "\t<tr><td>China      </td><td>212258     </td><td>213766     </td></tr>\n",
       "</tbody>\n",
       "</table>\n"
      ],
      "text/latex": [
       "\\begin{tabular}{r|lll}\n",
       " country & 1999 & 2000\\\\\n",
       "\\hline\n",
       "\t Afghanistan &    745      &   2666     \\\\\n",
       "\t Brazil      &  37737      &  80488     \\\\\n",
       "\t China       & 212258      & 213766     \\\\\n",
       "\\end{tabular}\n"
      ],
      "text/markdown": [
       "\n",
       "country | 1999 | 2000 | \n",
       "|---|---|---|\n",
       "| Afghanistan |    745      |   2666      | \n",
       "| Brazil      |  37737      |  80488      | \n",
       "| China       | 212258      | 213766      | \n",
       "\n",
       "\n"
      ],
      "text/plain": [
       "  country     1999   2000  \n",
       "1 Afghanistan    745   2666\n",
       "2 Brazil       37737  80488\n",
       "3 China       212258 213766"
      ]
     },
     "metadata": {},
     "output_type": "display_data"
    }
   ],
   "source": [
    "# Compute the rate for table2, and table4a + table4b. You will need to perform four operations:\n",
    "# 1. Extract the number of TB cases per country per year.\n",
    "# 2. Extract the matching population per country per year.\n",
    "# 3. Divide cases by population, and multiply by 10000.\n",
    "# 4. Store back in the appropriate place.\n",
    "\n",
    "table2 # Cases and populations in one table\n",
    "table4a #number of cases\n",
    "table4b #populations"
   ]
  },
  {
   "cell_type": "code",
   "execution_count": null,
   "metadata": {
    "collapsed": true
   },
   "outputs": [],
   "source": [
    "# Why are gather() and spread() not perfectly symmetrical?\n",
    "# Carefully consider the following example:\n",
    "# (Hint: look at the variable types and think about column names.)\n",
    "# Both spread() and gather() have a convert argument. What does it do?\n",
    "\n",
    "stocks <- tibble(\n",
    "    year = c(2015, 2015, 2016, 2016),\n",
    "    half = c( 1, 2, 1, 2),\n",
    "    return = c(1.88, 0.59, 0.92, 0.17)\n",
    "    )\n",
    "\n",
    "stocks %>%\n",
    "    spread(year, return) %>%\n",
    "    gather(\"year\", \"return\", `2015`:`2016`)"
   ]
  },
  {
   "cell_type": "code",
   "execution_count": null,
   "metadata": {
    "collapsed": true
   },
   "outputs": [],
   "source": [
    "#Why does this code fail?\n",
    "table4a %>%\n",
    "    gather(1999, 2000, key = \"year\", value = \"cases\")"
   ]
  },
  {
   "cell_type": "code",
   "execution_count": null,
   "metadata": {
    "collapsed": true
   },
   "outputs": [],
   "source": [
    "# Why does spreading this tibble fail? How could you add a new column to fix the problem?\n",
    "\n",
    "people <- tribble(\n",
    "    ~name, ~key, ~value,\n",
    "    #-----------------|--------|------\n",
    "    \"Phillip Woods\", \"age\", 45,\n",
    "    \"Phillip Woods\", \"height\", 186,\n",
    "    \"Phillip Woods\", \"age\", 50,\n",
    "    \"Jessica Cordero\", \"age\", 37,\n",
    "    \"Jessica Cordero\", \"height\", 156\n",
    "    )"
   ]
  },
  {
   "cell_type": "code",
   "execution_count": null,
   "metadata": {
    "collapsed": true
   },
   "outputs": [],
   "source": [
    "# Tidy the simple tibble below. Do you need to spread or gather it? What are the variables?\n",
    "\n",
    "preg <- tribble(\n",
    "    ~pregnant, ~male, ~female,\n",
    "    \"yes\", NA, 10,\n",
    "    \"no\", 20, 12\n",
    "    )"
   ]
  },
  {
   "cell_type": "code",
   "execution_count": null,
   "metadata": {
    "collapsed": true
   },
   "outputs": [],
   "source": [
    "# What do the extra and fill arguments do in separate()? Experiment with the various options for\n",
    "# the following two toy datasets.\n",
    "\n",
    "tibble(x = c(\"a,b,c\", \"d,e,f,g\", \"h,i,j\")) %>%\n",
    "    separate(x, c(\"one\", \"two\", \"three\"))\n",
    "\n",
    "tibble(x = c(\"a,b,c\", \"d,e\", \"f,g,i\")) %>%\n",
    "    separate(x, c(\"one\", \"two\", \"three\"))"
   ]
  },
  {
   "cell_type": "code",
   "execution_count": null,
   "metadata": {
    "collapsed": true
   },
   "outputs": [],
   "source": [
    "# Compare and contrast separate() and extract(). Why are there three variations of separation (by\n",
    "# position, by separator, and with groups), but only one unite?"
   ]
  },
  {
   "cell_type": "code",
   "execution_count": null,
   "metadata": {
    "collapsed": true
   },
   "outputs": [],
   "source": [
    "# Compare and contrast the fill arguments to spread() and complete()."
   ]
  },
  {
   "cell_type": "code",
   "execution_count": null,
   "metadata": {
    "collapsed": true
   },
   "outputs": [],
   "source": [
    "# What does the direction argument to fill() do?"
   ]
  },
  {
   "cell_type": "markdown",
   "metadata": {},
   "source": [
    "### Section 13"
   ]
  },
  {
   "cell_type": "code",
   "execution_count": null,
   "metadata": {
    "collapsed": true
   },
   "outputs": [],
   "source": [
    "# weather only contains information for the origin (NYC) airports. If it contained weather records for\n",
    "# all airports in the USA, what additional relation would it define with flights?"
   ]
  },
  {
   "cell_type": "code",
   "execution_count": null,
   "metadata": {
    "collapsed": true
   },
   "outputs": [],
   "source": [
    "#  We know that some days of the year are “special”, and fewer people than usual fly on them. How\n",
    "# might you represent that data as a data frame? What would be the primary keys of that table? How\n",
    "# would it connect to the existing tables?"
   ]
  },
  {
   "cell_type": "code",
   "execution_count": null,
   "metadata": {
    "collapsed": true
   },
   "outputs": [],
   "source": [
    "# Identify the keys in the following datasets\n",
    "# 1. Lahman::Batting,\n",
    "# 2. babynames::babynames\n",
    "# 3. nasaweather::atmos\n",
    "# 4. fueleconomy::vehicles\n",
    "# 5. ggplot2::diamonds"
   ]
  }
 ],
 "metadata": {
  "kernelspec": {
   "display_name": "R",
   "language": "R",
   "name": "ir"
  },
  "language_info": {
   "codemirror_mode": "r",
   "file_extension": ".r",
   "mimetype": "text/x-r-source",
   "name": "R",
   "pygments_lexer": "r",
   "version": "3.4.2"
  }
 },
 "nbformat": 4,
 "nbformat_minor": 2
}
